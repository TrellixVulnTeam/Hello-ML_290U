{
 "cells": [
  {
   "cell_type": "code",
   "execution_count": 1,
   "metadata": {},
   "outputs": [
    {
     "name": "stderr",
     "output_type": "stream",
     "text": [
      "Using TensorFlow backend.\n"
     ]
    },
    {
     "name": "stdout",
     "output_type": "stream",
     "text": [
      "_________________________________________________________________\n",
      "Layer (type)                 Output Shape              Param #   \n",
      "=================================================================\n",
      "input_1 (InputLayer)         (None, 64)                0         \n",
      "_________________________________________________________________\n",
      "dense_1 (Dense)              (None, 32)                2080      \n",
      "_________________________________________________________________\n",
      "dense_2 (Dense)              (None, 32)                1056      \n",
      "_________________________________________________________________\n",
      "dense_3 (Dense)              (None, 10)                330       \n",
      "=================================================================\n",
      "Total params: 3,466\n",
      "Trainable params: 3,466\n",
      "Non-trainable params: 0\n",
      "_________________________________________________________________\n"
     ]
    }
   ],
   "source": [
    "from keras import Input\n",
    "from keras import models\n",
    "from keras import layers\n",
    "\n",
    "# Symbolic tensor.\n",
    "input_tensor = Input(shape=(64,))\n",
    "\n",
    "# keras.layers.Dense class likes a functor.\n",
    "# It is same as dense.__call__(input_tensor)\n",
    "x = layers.Dense(units=32, activation='relu')(input_tensor)\n",
    "x = layers.Dense(units=32, activation='relu')(x)\n",
    "output_tensor = layers.Dense(units=10, activation='softmax')(x)\n",
    "\n",
    "model = models.Model(input_tensor, output_tensor)\n",
    "\n",
    "model.summary()"
   ]
  },
  {
   "cell_type": "code",
   "execution_count": 2,
   "metadata": {},
   "outputs": [],
   "source": [
    "# Classify samples into multi-labels.\n",
    "model.compile(optimizer='rmsprop', loss='categorical_crossentropy', metrics=['acc'])"
   ]
  },
  {
   "cell_type": "code",
   "execution_count": 3,
   "metadata": {},
   "outputs": [],
   "source": [
    "import numpy as np\n",
    "\n",
    "# Make random samples\n",
    "n_samples = 1000\n",
    "n_labels = 10\n",
    "train_data = np.random.random((n_samples, 64))\n",
    "train_labels = np.random.random((n_samples, n_labels))"
   ]
  },
  {
   "cell_type": "code",
   "execution_count": 4,
   "metadata": {
    "scrolled": false
   },
   "outputs": [
    {
     "name": "stdout",
     "output_type": "stream",
     "text": [
      "Epoch 1/10\n",
      "1000/1000 [==============================] - 1s 593us/step - loss: 11.5878 - acc: 0.0990\n",
      "Epoch 2/10\n",
      "1000/1000 [==============================] - 0s 21us/step - loss: 11.5156 - acc: 0.1120\n",
      "Epoch 3/10\n",
      "1000/1000 [==============================] - 0s 22us/step - loss: 11.5036 - acc: 0.1200\n",
      "Epoch 4/10\n",
      "1000/1000 [==============================] - 0s 21us/step - loss: 11.4957 - acc: 0.1210\n",
      "Epoch 5/10\n",
      "1000/1000 [==============================] - 0s 18us/step - loss: 11.4900 - acc: 0.1190\n",
      "Epoch 6/10\n",
      "1000/1000 [==============================] - 0s 24us/step - loss: 11.4859 - acc: 0.1240\n",
      "Epoch 7/10\n",
      "1000/1000 [==============================] - 0s 18us/step - loss: 11.4808 - acc: 0.1390\n",
      "Epoch 8/10\n",
      "1000/1000 [==============================] - 0s 18us/step - loss: 11.4777 - acc: 0.1170\n",
      "Epoch 9/10\n",
      "1000/1000 [==============================] - 0s 19us/step - loss: 11.4753 - acc: 0.1170\n",
      "Epoch 10/10\n",
      "1000/1000 [==============================] - 0s 23us/step - loss: 11.4729 - acc: 0.1050\n"
     ]
    },
    {
     "data": {
      "text/plain": [
       "<keras.callbacks.History at 0x7f3f98255ef0>"
      ]
     },
     "execution_count": 4,
     "metadata": {},
     "output_type": "execute_result"
    }
   ],
   "source": [
    "model.fit(train_data, train_labels,\n",
    "          epochs=10, batch_size=128)"
   ]
  },
  {
   "cell_type": "code",
   "execution_count": 5,
   "metadata": {},
   "outputs": [
    {
     "name": "stdout",
     "output_type": "stream",
     "text": [
      "1000/1000 [==============================] - 0s 66us/step\n"
     ]
    }
   ],
   "source": [
    "score = model.evaluate(train_data, train_labels)"
   ]
  },
  {
   "cell_type": "code",
   "execution_count": 6,
   "metadata": {},
   "outputs": [
    {
     "name": "stdout",
     "output_type": "stream",
     "text": [
      "[11.468903717041016, 0.128]\n"
     ]
    }
   ],
   "source": [
    "print(score)"
   ]
  },
  {
   "cell_type": "code",
   "execution_count": null,
   "metadata": {},
   "outputs": [],
   "source": []
  }
 ],
 "metadata": {
  "kernelspec": {
   "display_name": "Python gu-keras",
   "language": "python",
   "name": "gu-keras"
  },
  "language_info": {
   "codemirror_mode": {
    "name": "ipython",
    "version": 3
   },
   "file_extension": ".py",
   "mimetype": "text/x-python",
   "name": "python",
   "nbconvert_exporter": "python",
   "pygments_lexer": "ipython3",
   "version": "3.6.8"
  }
 },
 "nbformat": 4,
 "nbformat_minor": 2
}
