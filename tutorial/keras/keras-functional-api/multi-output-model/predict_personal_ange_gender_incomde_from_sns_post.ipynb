{
 "cells": [
  {
   "cell_type": "code",
   "execution_count": 1,
   "metadata": {},
   "outputs": [
    {
     "name": "stderr",
     "output_type": "stream",
     "text": [
      "Using TensorFlow backend.\n"
     ]
    }
   ],
   "source": [
    "from keras import models, layers\n",
    "from keras import Input\n",
    "\n",
    "posts_vocabulary_size = 10000\n",
    "# Classify into 10 income groups.\n",
    "n_income_groups = 10\n",
    "\n",
    "posts_input = Input(shape=(None,),\n",
    "                    dtype='int32',\n",
    "                    name='posts')\n",
    "embedded_posts = layers.Embedding(input_dim=posts_vocabulary_size,\n",
    "                                  output_dim=256)(posts_input)\n",
    "x = layers.Conv1D(filters=128,\n",
    "                  kernel_size=5,\n",
    "                  activation='relu')(embedded_posts)\n",
    "x = layers.MaxPooling1D(pool_size=3)(x)\n",
    "x = layers.Conv1D(filters=256,\n",
    "                  kernel_size=5,\n",
    "                  activation='relu')(x)\n",
    "x = layers.MaxPooling1D(pool_size=3)(x)\n",
    "x = layers.Conv1D(filters=256,\n",
    "                  kernel_size=5,\n",
    "                  activation='relu')(x)\n",
    "x = layers.GlobalMaxPooling1D()(x)\n",
    "x = layers.Dense(units=128, activation='relu')(x)"
   ]
  },
  {
   "cell_type": "code",
   "execution_count": 2,
   "metadata": {},
   "outputs": [],
   "source": [
    "# Regression\n",
    "age_prediction = layers.Dense(units=1, name='age')(x)\n",
    "# Multi-classifier\n",
    "income_prediction = layers.Dense(units=10,\n",
    "                                activation='softmax',\n",
    "                                name='income')(x)\n",
    "# Binary-classifier\n",
    "gender_prediction = layers.Dense(units=2,\n",
    "                                 activation='sigmoid',\n",
    "                                 name='gender')(x)"
   ]
  },
  {
   "cell_type": "code",
   "execution_count": 3,
   "metadata": {},
   "outputs": [
    {
     "name": "stdout",
     "output_type": "stream",
     "text": [
      "__________________________________________________________________________________________________\n",
      "Layer (type)                    Output Shape         Param #     Connected to                     \n",
      "==================================================================================================\n",
      "posts (InputLayer)              (None, None)         0                                            \n",
      "__________________________________________________________________________________________________\n",
      "embedding_1 (Embedding)         (None, None, 256)    2560000     posts[0][0]                      \n",
      "__________________________________________________________________________________________________\n",
      "conv1d_1 (Conv1D)               (None, None, 128)    163968      embedding_1[0][0]                \n",
      "__________________________________________________________________________________________________\n",
      "max_pooling1d_1 (MaxPooling1D)  (None, None, 128)    0           conv1d_1[0][0]                   \n",
      "__________________________________________________________________________________________________\n",
      "conv1d_2 (Conv1D)               (None, None, 256)    164096      max_pooling1d_1[0][0]            \n",
      "__________________________________________________________________________________________________\n",
      "max_pooling1d_2 (MaxPooling1D)  (None, None, 256)    0           conv1d_2[0][0]                   \n",
      "__________________________________________________________________________________________________\n",
      "conv1d_3 (Conv1D)               (None, None, 256)    327936      max_pooling1d_2[0][0]            \n",
      "__________________________________________________________________________________________________\n",
      "global_max_pooling1d_1 (GlobalM (None, 256)          0           conv1d_3[0][0]                   \n",
      "__________________________________________________________________________________________________\n",
      "dense_1 (Dense)                 (None, 128)          32896       global_max_pooling1d_1[0][0]     \n",
      "__________________________________________________________________________________________________\n",
      "age (Dense)                     (None, 1)            129         dense_1[0][0]                    \n",
      "__________________________________________________________________________________________________\n",
      "income (Dense)                  (None, 10)           1290        dense_1[0][0]                    \n",
      "__________________________________________________________________________________________________\n",
      "gender (Dense)                  (None, 2)            258         dense_1[0][0]                    \n",
      "==================================================================================================\n",
      "Total params: 3,250,573\n",
      "Trainable params: 3,250,573\n",
      "Non-trainable params: 0\n",
      "__________________________________________________________________________________________________\n"
     ]
    }
   ],
   "source": [
    "model = models.Model(posts_input,\n",
    "                     [age_prediction, income_prediction, gender_prediction])\n",
    "model.summary()"
   ]
  },
  {
   "cell_type": "code",
   "execution_count": 4,
   "metadata": {},
   "outputs": [],
   "source": [
    "# MSE, loss function for regression, return a loss about 3-5.\n",
    "# Crossentropy, loss function for classfier, return a loss about 0.1.\n",
    "# Model will be partial fitting to regression features with large loss.\n",
    "\n",
    "# Loss scaling keep from partial fitting.\n",
    "# Scale factor for MSE is 0.25, for crossentropy is 10.\n",
    "\n",
    "model.compile(optimizer='rmsprop',\n",
    "              loss={'age':'mse',\n",
    "                    'income':'categorical_crossentropy',\n",
    "                    'gender':'binary_crossentropy'},\n",
    "              loss_weights={'age':0.25,\n",
    "                           'income':1.,\n",
    "                           'gender':10.})"
   ]
  },
  {
   "cell_type": "code",
   "execution_count": 5,
   "metadata": {},
   "outputs": [
    {
     "name": "stdout",
     "output_type": "stream",
     "text": [
      "(25000, 140)\n",
      "(25000,)\n",
      "(25000, 10)\n",
      "(25000, 2)\n"
     ]
    }
   ],
   "source": [
    "import numpy as np\n",
    "from keras.utils import to_categorical\n",
    "\n",
    "n_samples = 25000\n",
    "maxlen = 140\n",
    "\n",
    "train_posts = np.random.randint(low=1, high=posts_vocabulary_size,\n",
    "                                size=(n_samples, maxlen))\n",
    "target_age = np.random.randint(low=0, high=99,\n",
    "                              size=n_samples)\n",
    "target_income = np.random.randint(low=0, high=10, size=n_samples)\n",
    "target_gender = np.random.randint(low=0, high=2, size=n_samples)\n",
    "\n",
    "target_income = to_categorical(target_income)\n",
    "target_gender = to_categorical(target_gender)\n",
    "\n",
    "print(train_posts.shape)\n",
    "print(target_age.shape)\n",
    "print(target_income.shape)\n",
    "print(target_gender.shape)"
   ]
  },
  {
   "cell_type": "code",
   "execution_count": 6,
   "metadata": {},
   "outputs": [
    {
     "name": "stdout",
     "output_type": "stream",
     "text": [
      "Epoch 1/10\n",
      "25000/25000 [==============================] - 9s 372us/step - loss: 230.6058 - age_loss: 883.4085 - income_loss: 2.4513 - gender_loss: 0.7302\n",
      "Epoch 2/10\n",
      "25000/25000 [==============================] - 7s 299us/step - loss: 200.6026 - age_loss: 764.0906 - income_loss: 2.3575 - gender_loss: 0.7222\n",
      "Epoch 3/10\n",
      "25000/25000 [==============================] - 8s 301us/step - loss: 148.2311 - age_loss: 555.1185 - income_loss: 2.3481 - gender_loss: 0.7103\n",
      "Epoch 4/10\n",
      "25000/25000 [==============================] - 8s 301us/step - loss: 76.0095 - age_loss: 266.4675 - income_loss: 2.3454 - gender_loss: 0.7047\n",
      "Epoch 5/10\n",
      "25000/25000 [==============================] - 8s 301us/step - loss: 59.1380 - age_loss: 199.0269 - income_loss: 2.3439 - gender_loss: 0.7037\n",
      "Epoch 6/10\n",
      "25000/25000 [==============================] - 8s 301us/step - loss: 52.2618 - age_loss: 171.4406 - income_loss: 2.3491 - gender_loss: 0.7053\n",
      "Epoch 7/10\n",
      "25000/25000 [==============================] - 8s 301us/step - loss: 45.5957 - age_loss: 144.8180 - income_loss: 2.3466 - gender_loss: 0.7045\n",
      "Epoch 8/10\n",
      "25000/25000 [==============================] - 8s 301us/step - loss: 41.8942 - age_loss: 129.9522 - income_loss: 2.3504 - gender_loss: 0.7056\n",
      "Epoch 9/10\n",
      "25000/25000 [==============================] - 8s 301us/step - loss: 38.4525 - age_loss: 116.1795 - income_loss: 2.3513 - gender_loss: 0.7056\n",
      "Epoch 10/10\n",
      "25000/25000 [==============================] - 8s 302us/step - loss: 35.7509 - age_loss: 105.3372 - income_loss: 2.3513 - gender_loss: 0.7065\n"
     ]
    },
    {
     "data": {
      "text/plain": [
       "<keras.callbacks.History at 0x7fee3b726b38>"
      ]
     },
     "execution_count": 6,
     "metadata": {},
     "output_type": "execute_result"
    }
   ],
   "source": [
    "model.fit(train_posts,\n",
    "          {'age':target_age,\n",
    "           'income':target_income,\n",
    "           'gender':target_gender},\n",
    "          epochs=10, batch_size=64)"
   ]
  },
  {
   "cell_type": "code",
   "execution_count": null,
   "metadata": {},
   "outputs": [],
   "source": []
  }
 ],
 "metadata": {
  "kernelspec": {
   "display_name": "Python gu-keras",
   "language": "python",
   "name": "gu-keras"
  },
  "language_info": {
   "codemirror_mode": {
    "name": "ipython",
    "version": 3
   },
   "file_extension": ".py",
   "mimetype": "text/x-python",
   "name": "python",
   "nbconvert_exporter": "python",
   "pygments_lexer": "ipython3",
   "version": "3.6.8"
  }
 },
 "nbformat": 4,
 "nbformat_minor": 2
}
