{
 "cells": [
  {
   "cell_type": "code",
   "execution_count": 1,
   "metadata": {},
   "outputs": [
    {
     "name": "stderr",
     "output_type": "stream",
     "text": [
      "Using TensorFlow backend.\n"
     ]
    }
   ],
   "source": [
    "from keras.datasets import boston_housing\n",
    "\n",
    "(train_data, train_targets), (test_data, test_targets) = boston_housing.load_data()"
   ]
  },
  {
   "cell_type": "code",
   "execution_count": 2,
   "metadata": {},
   "outputs": [],
   "source": [
    "import numpy as np\n",
    "\n",
    "# Standardization\n",
    "mean = np.mean(train_data, axis=0)\n",
    "std_deviation = np.std(train_data, axis=0)\n",
    "\n",
    "train_data = (train_data - mean) / std_deviation\n",
    "test_data = (test_data - mean) / std_deviation"
   ]
  },
  {
   "cell_type": "code",
   "execution_count": 3,
   "metadata": {},
   "outputs": [],
   "source": [
    "from keras import models, layers\n",
    "\n",
    "# Becaus training sample data is small, use a shallow model to avoid overfitting.\n",
    "\n",
    "def build_model():\n",
    "    model = models.Sequential()\n",
    "    model.add(layers.Dense(64, activation='relu', input_shape=(train_data.shape[1],)))\n",
    "    model.add(layers.Dense(64, activation='relu'))\n",
    "    model.add(layers.Dense(1))\n",
    "    # Mesure Mean Absolute Errors, MAE during training.\n",
    "    model.compile(optimizer='rmsprop', loss='mse', metrics=['mae'])\n",
    "    return model"
   ]
  },
  {
   "cell_type": "code",
   "execution_count": 4,
   "metadata": {},
   "outputs": [
    {
     "name": "stdout",
     "output_type": "stream",
     "text": [
      "0-fold\n",
      "End 0-fold training.\n",
      "1-fold\n",
      "End 1-fold training.\n",
      "2-fold\n",
      "End 2-fold training.\n",
      "3-fold\n",
      "End 3-fold training.\n"
     ]
    }
   ],
   "source": [
    "# K-fold cross-validation\n",
    "\n",
    "k = 4\n",
    "# validation samples\n",
    "num_val_samples = len(train_data) // k\n",
    "num_epochs= 100\n",
    "all_scores = []\n",
    "\n",
    "for n in range(k):\n",
    "    print('Start %d-fold training' % n)\n",
    "    # Slice samples for validation.\n",
    "    (first, last) = (n*num_val_samples, (n+1)*num_val_samples)\n",
    "    val_data = train_data[first:last]\n",
    "    val_targets = train_targets[first:last]\n",
    "    \n",
    "    # Concatenate the remaining samples.\n",
    "    partial_train_data = np.concatenate(\n",
    "        [train_data[:first], train_data[last:]],\n",
    "        axis=0)\n",
    "    partial_train_targets = np.concatenate(\n",
    "        [train_targets[:first], train_targets[last:]],\n",
    "        axis=0)\n",
    "    \n",
    "    model = build_model()\n",
    "    model.fit(partial_train_data, partial_train_targets,\n",
    "              epochs=num_epochs,\n",
    "              batch_size=1,\n",
    "              verbose=0)\n",
    "    print('End %d-fold training.' % n)\n",
    "    val_mse, val_mae = model.evaluate(val_data, val_targets, verbose=0)\n",
    "    all_scores.append(val_mae)"
   ]
  },
  {
   "cell_type": "code",
   "execution_count": 5,
   "metadata": {},
   "outputs": [
    {
     "name": "stdout",
     "output_type": "stream",
     "text": [
      "[2.0956787838794217, 2.2205937970982919, 2.8599684120404838, 2.40535704039111]\n",
      "2.39539950835\n"
     ]
    }
   ],
   "source": [
    "print(all_scores)\n",
    "print(np.mean(all_scores))"
   ]
  },
  {
   "cell_type": "code",
   "execution_count": 6,
   "metadata": {},
   "outputs": [
    {
     "name": "stdout",
     "output_type": "stream",
     "text": [
      "Start 0-fold training\n",
      "End 0-fold training.\n",
      "Start 1-fold training\n",
      "End 1-fold training.\n",
      "Start 2-fold training\n",
      "End 2-fold training.\n",
      "Start 3-fold training\n",
      "End 3-fold training.\n"
     ]
    }
   ],
   "source": [
    "# K-fold cross-validation\n",
    "\n",
    "k = 4\n",
    "# validation samples\n",
    "num_val_samples = len(train_data) // k\n",
    "num_epochs= 500\n",
    "all_mae_histories = []\n",
    "\n",
    "for n in range(k):\n",
    "    print('Start %d-fold training' % n)\n",
    "    # Slice samples for validation.\n",
    "    (first, last) = (n*num_val_samples, (n+1)*num_val_samples)\n",
    "    val_data = train_data[first:last]\n",
    "    val_targets = train_targets[first:last]\n",
    "    \n",
    "    # Concatenate the remaining samples.\n",
    "    partial_train_data = np.concatenate(\n",
    "        [train_data[:first], train_data[last:]],\n",
    "        axis=0)\n",
    "    partial_train_targets = np.concatenate(\n",
    "        [train_targets[:first], train_targets[last:]],\n",
    "        axis=0)\n",
    "    \n",
    "    model = build_model()\n",
    "    history = model.fit(partial_train_data, partial_train_targets,\n",
    "                        validation_data=(val_data, val_targets),\n",
    "                        epochs=num_epochs,\n",
    "                        batch_size=1,\n",
    "                        verbose=0)\n",
    "    print('End %d-fold training.' % n)\n",
    "    mae_history = history.history['val_mean_absolute_error']\n",
    "    all_mae_histories.append(mae_history)"
   ]
  },
  {
   "cell_type": "code",
   "execution_count": 11,
   "metadata": {},
   "outputs": [
    {
     "data": {
      "image/png": "[encoded data removed]",
      "text/plain": [
       "<Figure size 432x288 with 1 Axes>"
      ]
     },
     "metadata": {
      "needs_background": "light"
     },
     "output_type": "display_data"
    }
   ],
   "source": [
    "import matplotlib.pyplot as plt\n",
    "\n",
    "average_mae_history = np.mean(all_mae_histories, axis=0)\n",
    "\n",
    "epochs = np.arange(len(average_mae_history)) + 1\n",
    "\n",
    "plt.figure('k-fold cross validation')\n",
    "plt.title('k-fold cross validation')\n",
    "plt.plot(epochs, average_mae_history, color='b', label='validation MAE')\n",
    "plt.xlabel('Epochs')\n",
    "plt.ylabel('Validation MAE')\n",
    "plt.legend()\n",
    "plt.grid()\n",
    "plt.show()"
   ]
  },
  {
   "cell_type": "code",
   "execution_count": 14,
   "metadata": {},
   "outputs": [
    {
     "data": {
      "image/png": "[encoded data removed]",
      "text/plain": [
       "<Figure size 432x288 with 1 Axes>"
      ]
     },
     "metadata": {
      "needs_background": "light"
     },
     "output_type": "display_data"
    }
   ],
   "source": [
    "def smooth_curve(points, factor=0.9):\n",
    "    '''\n",
    "    Smooth the points by using exponential moving average, EMA.\n",
    "    EMA makes time sequential data smooth.\n",
    "    '''\n",
    "    smoothed_points = []\n",
    "    for p in points:\n",
    "        if smoothed_points:\n",
    "            prev = smoothed_points[-1]\n",
    "            smoothed_points.append(prev*factor+p*(1-factor))\n",
    "        else:\n",
    "            smoothed_points.append(p)\n",
    "    return smoothed_points\n",
    "\n",
    "# Remove first 10 samples which make extreme changes.\n",
    "# Smooth the points by using exponential moving average.\n",
    "smooth_mae_history = smooth_curve(average_mae_history[10:])\n",
    "\n",
    "plt.figure('Smoothed k-fold cross validation')\n",
    "plt.plot(epochs[10:], smooth_mae_history, color='b', label='Smoothed validation MAE')\n",
    "plt.xlabel('Epochs')\n",
    "plt.ylabel('Valdiation MAE')\n",
    "plt.legend()\n",
    "plt.grid()\n",
    "plt.show()\n",
    "\n",
    "# This graph represent model is overfitting after epoch=80."
   ]
  },
  {
   "cell_type": "code",
   "execution_count": 15,
   "metadata": {},
   "outputs": [
    {
     "name": "stdout",
     "output_type": "stream",
     "text": [
      "102/102 [==============================] - 0s 675us/step\n",
      "2.67502691232\n"
     ]
    }
   ],
   "source": [
    "# Final model tuning and training.\n",
    "\n",
    "model = build_model()\n",
    "model.fit(train_data, train_targets,\n",
    "          epochs=80,\n",
    "          batch_size=16,\n",
    "          verbose=0)"
   ]
  },
  {
   "cell_type": "code",
   "execution_count": 16,
   "metadata": {},
   "outputs": [
    {
     "name": "stdout",
     "output_type": "stream",
     "text": [
      "102/102 [==============================] - 0s 115us/step\n",
      "Test samples, MAE = 2.67502691232\n"
     ]
    }
   ],
   "source": [
    "test_mse_score, test_mae_score = model.evaluate(test_data, test_targets)\n",
    "\n",
    "print('Test samples, MAE =', test_mae_score)"
   ]
  },
  {
   "cell_type": "code",
   "execution_count": null,
   "metadata": {},
   "outputs": [],
   "source": []
  }
 ],
 "metadata": {
  "kernelspec": {
   "display_name": "Python gu-keras",
   "language": "python",
   "name": "gu-keras"
  },
  "language_info": {
   "codemirror_mode": {
    "name": "ipython",
    "version": 3
   },
   "file_extension": ".py",
   "mimetype": "text/x-python",
   "name": "python",
   "nbconvert_exporter": "python",
   "pygments_lexer": "ipython3",
   "version": "3.6.8"
  }
 },
 "nbformat": 4,
 "nbformat_minor": 2
}
