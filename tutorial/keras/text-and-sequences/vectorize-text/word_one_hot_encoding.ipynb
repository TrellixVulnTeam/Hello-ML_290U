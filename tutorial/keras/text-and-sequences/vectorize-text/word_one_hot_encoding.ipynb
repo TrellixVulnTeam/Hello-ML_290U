{
 "cells": [
  {
   "cell_type": "code",
   "execution_count": 11,
   "metadata": {},
   "outputs": [
    {
     "name": "stdout",
     "output_type": "stream",
     "text": [
      "Token index = {'The': 1, 'cat': 2, 'sat': 3, 'on': 4, 'the': 5, 'mat': 6, 'dog': 7, 'ate': 8, 'my': 9, 'homework': 10}\n",
      "Vectorized = [[[ 0.  1.  0.  0.  0.  0.  0.  0.  0.  0.  0.]\n",
      "  [ 0.  0.  1.  0.  0.  0.  0.  0.  0.  0.  0.]\n",
      "  [ 0.  0.  0.  1.  0.  0.  0.  0.  0.  0.  0.]\n",
      "  [ 0.  0.  0.  0.  1.  0.  0.  0.  0.  0.  0.]\n",
      "  [ 0.  0.  0.  0.  0.  1.  0.  0.  0.  0.  0.]\n",
      "  [ 0.  0.  0.  0.  0.  0.  1.  0.  0.  0.  0.]\n",
      "  [ 0.  0.  0.  0.  0.  0.  0.  0.  0.  0.  0.]\n",
      "  [ 0.  0.  0.  0.  0.  0.  0.  0.  0.  0.  0.]\n",
      "  [ 0.  0.  0.  0.  0.  0.  0.  0.  0.  0.  0.]\n",
      "  [ 0.  0.  0.  0.  0.  0.  0.  0.  0.  0.  0.]]\n",
      "\n",
      " [[ 0.  1.  0.  0.  0.  0.  0.  0.  0.  0.  0.]\n",
      "  [ 0.  0.  0.  0.  0.  0.  0.  1.  0.  0.  0.]\n",
      "  [ 0.  0.  0.  0.  0.  0.  0.  0.  1.  0.  0.]\n",
      "  [ 0.  0.  0.  0.  0.  0.  0.  0.  0.  1.  0.]\n",
      "  [ 0.  0.  0.  0.  0.  0.  0.  0.  0.  0.  1.]\n",
      "  [ 0.  0.  0.  0.  0.  0.  0.  0.  0.  0.  0.]\n",
      "  [ 0.  0.  0.  0.  0.  0.  0.  0.  0.  0.  0.]\n",
      "  [ 0.  0.  0.  0.  0.  0.  0.  0.  0.  0.  0.]\n",
      "  [ 0.  0.  0.  0.  0.  0.  0.  0.  0.  0.  0.]\n",
      "  [ 0.  0.  0.  0.  0.  0.  0.  0.  0.  0.  0.]]]\n"
     ]
    }
   ],
   "source": [
    "# Case I : One hot encoding to each words.\n",
    "\n",
    "import numpy as np\n",
    "\n",
    "samples = ['The cat sat on the mat',\n",
    "           'The dog ate my homework']\n",
    "\n",
    "token_index = {}\n",
    "\n",
    "for sample in samples:\n",
    "    for word in sample.split():\n",
    "        if word not in token_index:\n",
    "            token_index[word] = len(token_index) + 1\n",
    "\n",
    "print('Token index =', token_index)\n",
    "\n",
    "max_length = 10\n",
    "result = np.zeros(shape=(len(samples),\n",
    "                         max_length,\n",
    "                         max(token_index.values()) + 1))\n",
    "\n",
    "for i, sample in enumerate(samples):\n",
    "    for j, word in list(enumerate(sample.split()))[:max_length]:\n",
    "        index = token_index.get(word)\n",
    "        result[i, j, index] = 1.\n",
    "\n",
    "print('Vectorized =', result)"
   ]
  },
  {
   "cell_type": "code",
   "execution_count": 29,
   "metadata": {},
   "outputs": [],
   "source": [
    "# Case II : One hot encoding to each characters.\n",
    "\n",
    "import string\n",
    "\n",
    "samples = ['The cat sat on the mat',\n",
    "           'The dog ate my homework']\n",
    "characters = string.printable\n",
    "token_index = dict(zip(characters, range(1, len(characters) + 1)))\n",
    "\n",
    "max_length = 50\n",
    "result = np.zeros(shape=(len(samples),\n",
    "                         max_length,\n",
    "                         max(token_index.values()) + 1))\n",
    "\n",
    "for i, sample in enumerate(samples):\n",
    "    for j, character in enumerate(sample):\n",
    "        index = token_index.get(character)\n",
    "        result[i, j, index] = 1."
   ]
  },
  {
   "cell_type": "code",
   "execution_count": 37,
   "metadata": {},
   "outputs": [
    {
     "name": "stdout",
     "output_type": "stream",
     "text": [
      "Indices = [[1, 2, 3, 4, 1, 5], [1, 6, 7, 8, 9]]\n",
      "One hot encoded =\n",
      " [[ 0.  1.  1.  1.  1.  1.  0.  0.  0.  0.]\n",
      " [ 0.  1.  0.  0.  0.  0.  1.  1.  1.  1.]]\n",
      "Word index = {'the': 1, 'cat': 2, 'sat': 3, 'on': 4, 'mat': 5, 'dog': 6, 'ate': 7, 'my': 8, 'homework': 9}\n"
     ]
    }
   ],
   "source": [
    "# Case III : One hot encoding with keras utilities\n",
    "\n",
    "from keras.preprocessing.text import Tokenizer\n",
    "\n",
    "samples = ['The cat sat on the mat',\n",
    "           'The dog ate my homework']\n",
    "\n",
    "# Choose most frequently used 1000 words.\n",
    "tokenizer = Tokenizer(num_words=1000)\n",
    "tokenizer.fit_on_texts(samples)\n",
    "\n",
    "# List of indice according to word.\n",
    "sequences = tokenizer.texts_to_sequences(samples)\n",
    "print('Indices =', sequences)\n",
    "\n",
    "one_hot_result = tokenizer.texts_to_matrix(samples, mode='binary')\n",
    "print('One hot encoded =\\n', one_hot_result[:,:10])\n",
    "\n",
    "# Word index\n",
    "word_index = tokenizer.word_index\n",
    "print('Word index =', word_index)"
   ]
  },
  {
   "cell_type": "code",
   "execution_count": 47,
   "metadata": {},
   "outputs": [
    {
     "name": "stdout",
     "output_type": "stream",
     "text": [
      "One hot hashed, entry indice = [581 397 220 772 549 633 581  40 312 662 809]\n"
     ]
    }
   ],
   "source": [
    "# Case IV : One hot hashing\n",
    "\n",
    "samples = ['The cat sat on the mat',\n",
    "           'The dog ate my homework']\n",
    "\n",
    "# Length of hash table\n",
    "dim = 1000\n",
    "max_length = 10\n",
    "\n",
    "result = np.zeros(shape=(len(samples), max_length, dim))\n",
    "for i, sample in enumerate(samples):\n",
    "    for j, word in list(enumerate(sample.split()))[:max_length]:\n",
    "        index = abs(hash(word)) % dim\n",
    "        result[i, j, index] = 1.\n",
    "\n",
    "# If the number of non-duplicated words in samples is much larger\n",
    "# than the length of hash table, it makes frequently hash collisions.\n",
    "entry_index = np.nonzero(result)\n",
    "entry_index = entry_index[-1]\n",
    "print('One hot hashed, entry indice =', entry_index)"
   ]
  }
 ],
 "metadata": {
  "kernelspec": {
   "display_name": "Python gu-keras",
   "language": "python",
   "name": "gu-keras"
  },
  "language_info": {
   "codemirror_mode": {
    "name": "ipython",
    "version": 3
   },
   "file_extension": ".py",
   "mimetype": "text/x-python",
   "name": "python",
   "nbconvert_exporter": "python",
   "pygments_lexer": "ipython3",
   "version": "3.6.8"
  }
 },
 "nbformat": 4,
 "nbformat_minor": 2
}
