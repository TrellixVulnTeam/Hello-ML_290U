{
 "cells": [
  {
   "cell_type": "code",
   "execution_count": 1,
   "metadata": {},
   "outputs": [],
   "source": [
    "import os\n",
    "from pathlib import Path\n",
    "\n",
    "data_dir = os.path.join(Path.home(), 'workspace/machine-learning/resource/jena-climate')\n",
    "jena_path = os.path.join(data_dir, 'jena_climate_2009_2016.csv')\n",
    "\n",
    "# Read sequences from jena_climate csv file.\n",
    "fname = open(jena_path)\n",
    "data = fname.read()\n",
    "fname.close()"
   ]
  },
  {
   "cell_type": "code",
   "execution_count": 2,
   "metadata": {},
   "outputs": [
    {
     "name": "stdout",
     "output_type": "stream",
     "text": [
      "The number of lines = 420551\n"
     ]
    }
   ],
   "source": [
    "lines = data.split('\\n')\n",
    "header = lines[0].split(',')\n",
    "lines = lines[1:]\n",
    "\n",
    "print('The number of lines =', len(lines))"
   ]
  },
  {
   "cell_type": "code",
   "execution_count": 3,
   "metadata": {},
   "outputs": [],
   "source": [
    "import numpy as np\n",
    "\n",
    "n_sequences = len(lines)\n",
    "n_labels = len(header) - 1\n",
    "\n",
    "sequences = np.zeros((n_sequences, n_labels))\n",
    "for i, line in enumerate(lines):\n",
    "    values = [float(x) for x in line.split(',')[1:]]\n",
    "    sequences[i] = values"
   ]
  },
  {
   "cell_type": "code",
   "execution_count": 4,
   "metadata": {},
   "outputs": [
    {
     "name": "stdout",
     "output_type": "stream",
     "text": [
      "The shape of sequences = (420551, 14)\n"
     ]
    }
   ],
   "source": [
    "print('The shape of sequences =', sequences.shape)"
   ]
  },
  {
   "cell_type": "code",
   "execution_count": 5,
   "metadata": {},
   "outputs": [],
   "source": [
    "# Standardize training samples\n",
    "\n",
    "n_train_data = 200000\n",
    "train_data = sequences[:n_train_data]\n",
    "\n",
    "mean = np.mean(train_data, axis=0)\n",
    "std = np.std(train_data, axis=0)\n",
    "\n",
    "sequences -= mean\n",
    "sequences /= std"
   ]
  },
  {
   "cell_type": "code",
   "execution_count": 6,
   "metadata": {},
   "outputs": [],
   "source": [
    "'''\n",
    "Return a generated pair of samples and targets.\n",
    "looback is interval of each samples.\n",
    "steps is sampling rate.\n",
    "delay is a time point of target.\n",
    "'''\n",
    "def sample_generator(data, lookback, delay, min_index, max_index,\n",
    "                     shuffle=False, batch_size=128, step=6):\n",
    "    n_samples = len(data)\n",
    "    n_labels = data.shape[-1]\n",
    "    if max_index is None:\n",
    "        max_index = n_samples - delay - 1\n",
    "    gen_idx = min_index + lookback\n",
    "\n",
    "    while 1:\n",
    "        if shuffle:\n",
    "            # Choose entry indices randomly.\n",
    "            entries = np.random.randint(min_index + lookback, max_index, size=batch_size)\n",
    "        else:\n",
    "            # Choose entry indices sequentialy.\n",
    "            if gen_idx + batch_size >= max_index:\n",
    "                gen_idx = min_index + lookback\n",
    "            last = min(gen_idx + batch_size, max_index)\n",
    "            entries = np.arange(gen_idx, last)\n",
    "            gen_idx += len(entries)\n",
    "\n",
    "        n_entries = len(entries)\n",
    "        samples = np.zeros((n_entries, lookback // step, n_labels))\n",
    "        targets = np.zeros((n_entries))\n",
    "        # Choose samples from entry indice.\n",
    "        for i, entry in enumerate(entries):\n",
    "            indices = range(entry - lookback, entry, step)\n",
    "            temperature = data[entry + delay][1]\n",
    "            samples[i] = data[indices]\n",
    "            targets[i] = temperature\n",
    "        yield samples, targets"
   ]
  },
  {
   "cell_type": "code",
   "execution_count": 7,
   "metadata": {},
   "outputs": [],
   "source": [
    "'''\n",
    "looback, 1440 samples, Interval is 10 days each each samples.\n",
    "step, 3 unit time, Choose 1 sample every a half hour.\n",
    "delay, 144 unit time, Target value is a temperature data after 24 hours.\n",
    "'''\n",
    "lookback = 1440\n",
    "step = 3\n",
    "delay = 144\n",
    "batch_size = 128\n",
    "\n",
    "n_samples = len(sequences)\n",
    "n_train_data = 200000\n",
    "n_val_data = 100000\n",
    "\n",
    "train_gen = sample_generator(sequences,\n",
    "                             lookback=lookback,\n",
    "                             delay=delay,\n",
    "                             min_index=0,\n",
    "                             max_index=n_train_data,\n",
    "                             shuffle=True,\n",
    "                             step=step,\n",
    "                             batch_size=batch_size)\n",
    "val_gen = sample_generator(sequences,\n",
    "                           lookback=lookback,\n",
    "                           delay=delay,\n",
    "                           min_index=n_train_data+1,\n",
    "                           max_index=n_train_data+n_val_data,\n",
    "                           step=step,\n",
    "                           batch_size=batch_size)\n",
    "test_gen = sample_generator(sequences,\n",
    "                            lookback=lookback,\n",
    "                            delay=delay,\n",
    "                            min_index=n_train_data+n_val_data+1,\n",
    "                            max_index=None,\n",
    "                            step=step,\n",
    "                            batch_size=batch_size)"
   ]
  },
  {
   "cell_type": "code",
   "execution_count": 8,
   "metadata": {},
   "outputs": [
    {
     "name": "stdout",
     "output_type": "stream",
     "text": [
      "The number of validation batches = 770\n",
      "The number of test batches = 930\n"
     ]
    }
   ],
   "source": [
    "val_steps = (n_val_data - lookback) // batch_size\n",
    "test_steps = (n_samples - n_train_data - n_val_data - lookback) // batch_size\n",
    "\n",
    "print('The number of validation batches =', val_steps)\n",
    "print('The number of test batches =', test_steps)"
   ]
  },
  {
   "cell_type": "code",
   "execution_count": 9,
   "metadata": {},
   "outputs": [
    {
     "name": "stderr",
     "output_type": "stream",
     "text": [
      "Using TensorFlow backend.\n"
     ]
    },
    {
     "name": "stdout",
     "output_type": "stream",
     "text": [
      "_________________________________________________________________\n",
      "Layer (type)                 Output Shape              Param #   \n",
      "=================================================================\n",
      "conv1d_1 (Conv1D)            (None, None, 32)          2272      \n",
      "_________________________________________________________________\n",
      "max_pooling1d_1 (MaxPooling1 (None, None, 32)          0         \n",
      "_________________________________________________________________\n",
      "conv1d_2 (Conv1D)            (None, None, 32)          5152      \n",
      "_________________________________________________________________\n",
      "gru_1 (GRU)                  (None, 32)                6240      \n",
      "_________________________________________________________________\n",
      "dense_1 (Dense)              (None, 1)                 33        \n",
      "=================================================================\n",
      "Total params: 13,697\n",
      "Trainable params: 13,697\n",
      "Non-trainable params: 0\n",
      "_________________________________________________________________\n"
     ]
    }
   ],
   "source": [
    "# Case I : Using CNN layers to preprocess before push to RNN layer.\n",
    "# CNN layers make short sequences that represent more abstract features.\n",
    "\n",
    "from keras import models\n",
    "from keras import layers\n",
    "from keras import optimizers\n",
    "\n",
    "model = models.Sequential()\n",
    "model.add(layers.Conv1D(filters=32,\n",
    "                        kernel_size=5,\n",
    "                        input_shape=(None, sequences.shape[-1]),\n",
    "                        activation='relu'))\n",
    "model.add(layers.MaxPooling1D(pool_size=3))\n",
    "model.add(layers.Conv1D(filters=32,\n",
    "                        kernel_size=5,\n",
    "                        activation='relu'))\n",
    "model.add(layers.GRU(units=32,\n",
    "                     dropout=0.1,\n",
    "                     recurrent_dropout=0.5))\n",
    "model.add(layers.Dense(1))\n",
    "\n",
    "model.compile(optimizer=optimizers.RMSprop(), loss='mae')\n",
    "\n",
    "model.summary()"
   ]
  },
  {
   "cell_type": "code",
   "execution_count": 10,
   "metadata": {},
   "outputs": [
    {
     "name": "stdout",
     "output_type": "stream",
     "text": [
      "Epoch 1/20\n",
      "500/500 [==============================] - 97s 193ms/step - loss: 0.3348 - val_loss: 0.2844\n",
      "Epoch 2/20\n",
      "500/500 [==============================] - 92s 184ms/step - loss: 0.3031 - val_loss: 0.2865\n",
      "Epoch 3/20\n",
      "500/500 [==============================] - 92s 184ms/step - loss: 0.2923 - val_loss: 0.2723\n",
      "Epoch 4/20\n",
      "500/500 [==============================] - 92s 184ms/step - loss: 0.2834 - val_loss: 0.2676\n",
      "Epoch 5/20\n",
      "500/500 [==============================] - 92s 184ms/step - loss: 0.2777 - val_loss: 0.2700\n",
      "Epoch 6/20\n",
      "500/500 [==============================] - 92s 184ms/step - loss: 0.2720 - val_loss: 0.2727\n",
      "Epoch 7/20\n",
      "500/500 [==============================] - 92s 184ms/step - loss: 0.2665 - val_loss: 0.2873\n",
      "Epoch 8/20\n",
      "500/500 [==============================] - 92s 184ms/step - loss: 0.2627 - val_loss: 0.2711\n",
      "Epoch 9/20\n",
      "500/500 [==============================] - 92s 184ms/step - loss: 0.2579 - val_loss: 0.2841\n",
      "Epoch 10/20\n",
      "500/500 [==============================] - 92s 185ms/step - loss: 0.2549 - val_loss: 0.2770\n",
      "Epoch 11/20\n",
      "500/500 [==============================] - 92s 184ms/step - loss: 0.2526 - val_loss: 0.2830\n",
      "Epoch 12/20\n",
      "500/500 [==============================] - 92s 184ms/step - loss: 0.2485 - val_loss: 0.2910\n",
      "Epoch 13/20\n",
      "500/500 [==============================] - 92s 185ms/step - loss: 0.2450 - val_loss: 0.2877\n",
      "Epoch 14/20\n",
      "500/500 [==============================] - 92s 185ms/step - loss: 0.2439 - val_loss: 0.2843\n",
      "Epoch 15/20\n",
      "500/500 [==============================] - 92s 185ms/step - loss: 0.2389 - val_loss: 0.2843\n",
      "Epoch 16/20\n",
      "500/500 [==============================] - 92s 185ms/step - loss: 0.2355 - val_loss: 0.2863\n",
      "Epoch 17/20\n",
      "500/500 [==============================] - 92s 185ms/step - loss: 0.2336 - val_loss: 0.2859\n",
      "Epoch 18/20\n",
      "500/500 [==============================] - 93s 185ms/step - loss: 0.2324 - val_loss: 0.2949\n",
      "Epoch 19/20\n",
      "500/500 [==============================] - 92s 185ms/step - loss: 0.2290 - val_loss: 0.2884\n",
      "Epoch 20/20\n",
      "500/500 [==============================] - 92s 184ms/step - loss: 0.2273 - val_loss: 0.2847\n"
     ]
    }
   ],
   "source": [
    "history = model.fit_generator(train_gen,\n",
    "                              steps_per_epoch=500,\n",
    "                              epochs=20,\n",
    "                              validation_data=val_gen,\n",
    "                              validation_steps=val_steps)"
   ]
  },
  {
   "cell_type": "code",
   "execution_count": 13,
   "metadata": {},
   "outputs": [
    {
     "data": {
      "image/png": "[encoded data removed]",
      "text/plain": [
       "<Figure size 432x288 with 1 Axes>"
      ]
     },
     "metadata": {
      "needs_background": "light"
     },
     "output_type": "display_data"
    }
   ],
   "source": [
    "import matplotlib.pyplot as plt\n",
    "\n",
    "loss = history.history['loss']\n",
    "val_loss = history.history['val_loss']\n",
    "\n",
    "epochs = np.arange(len(loss)) + 1\n",
    "\n",
    "plt.figure('Case I, Traning and validation loss')\n",
    "plt.title('Case I, Traning and validation loss')\n",
    "plt.plot(epochs, loss, color='b', label='training loss')\n",
    "plt.plot(epochs, val_loss, color='r', label='validation loss')\n",
    "plt.legend()\n",
    "plt.grid()\n",
    "plt.show()\n",
    "\n",
    "# Validation loss about 0.27. It is not less than naive model(0.289)!"
   ]
  },
  {
   "cell_type": "code",
   "execution_count": null,
   "metadata": {},
   "outputs": [],
   "source": []
  }
 ],
 "metadata": {
  "kernelspec": {
   "display_name": "Python gu-keras",
   "language": "python",
   "name": "gu-keras"
  },
  "language_info": {
   "codemirror_mode": {
    "name": "ipython",
    "version": 3
   },
   "file_extension": ".py",
   "mimetype": "text/x-python",
   "name": "python",
   "nbconvert_exporter": "python",
   "pygments_lexer": "ipython3",
   "version": "3.6.8"
  }
 },
 "nbformat": 4,
 "nbformat_minor": 2
}
