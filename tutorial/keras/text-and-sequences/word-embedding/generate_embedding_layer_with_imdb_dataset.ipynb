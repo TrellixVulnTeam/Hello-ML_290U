{
 "cells": [
  {
   "cell_type": "code",
   "execution_count": 1,
   "metadata": {},
   "outputs": [
    {
     "name": "stderr",
     "output_type": "stream",
     "text": [
      "Using TensorFlow backend.\n"
     ]
    }
   ],
   "source": [
    "from keras import layers\n",
    "\n",
    "embedding_layer = layers.Embedding(input_dim=1000,\n",
    "                                   output_dim=64)"
   ]
  },
  {
   "cell_type": "code",
   "execution_count": 3,
   "metadata": {},
   "outputs": [],
   "source": [
    "from keras import datasets\n",
    "from keras import preprocessing\n",
    "\n",
    "# Choose most frequently used 10000 words in dataset.\n",
    "max_features = 10000\n",
    "# Use only first 20 words of samples.\n",
    "max_length = 20\n",
    "\n",
    "(train_data, train_labels), (test_data, test_labels) = datasets.imdb.load_data(num_words=max_features)\n",
    "\n",
    "train_data = preprocessing.sequence.pad_sequences(train_data, maxlen=max_length)\n",
    "test_data = preprocessing.sequence.pad_sequences(test_data, maxlen=max_length)"
   ]
  },
  {
   "cell_type": "code",
   "execution_count": 5,
   "metadata": {},
   "outputs": [],
   "source": [
    "from keras import models\n",
    "from keras import layers\n",
    "\n",
    "model = models.Sequential()\n",
    "model.add(layers.Embedding(input_dim=10000,\n",
    "                           output_dim=8,\n",
    "                           input_length=max_length))\n",
    "model.add(layers.Flatten())\n",
    "model.add(layers.Dense(units=1, activation='sigmoid'))"
   ]
  },
  {
   "cell_type": "code",
   "execution_count": 6,
   "metadata": {},
   "outputs": [],
   "source": [
    "model.compile(optimizer='rmsprop',\n",
    "              loss='binary_crossentropy',\n",
    "              metrics=['acc'])"
   ]
  },
  {
   "cell_type": "code",
   "execution_count": 7,
   "metadata": {},
   "outputs": [
    {
     "name": "stdout",
     "output_type": "stream",
     "text": [
      "_________________________________________________________________\n",
      "Layer (type)                 Output Shape              Param #   \n",
      "=================================================================\n",
      "embedding_3 (Embedding)      (None, 20, 8)             80000     \n",
      "_________________________________________________________________\n",
      "flatten_1 (Flatten)          (None, 160)               0         \n",
      "_________________________________________________________________\n",
      "dense_1 (Dense)              (None, 1)                 161       \n",
      "=================================================================\n",
      "Total params: 80,161\n",
      "Trainable params: 80,161\n",
      "Non-trainable params: 0\n",
      "_________________________________________________________________\n"
     ]
    }
   ],
   "source": [
    "model.summary()"
   ]
  },
  {
   "cell_type": "code",
   "execution_count": 8,
   "metadata": {},
   "outputs": [
    {
     "name": "stdout",
     "output_type": "stream",
     "text": [
      "Train on 20000 samples, validate on 5000 samples\n",
      "Epoch 1/10\n",
      "20000/20000 [==============================] - 2s 109us/step - loss: 0.6728 - acc: 0.6113 - val_loss: 0.6261 - val_acc: 0.6888\n",
      "Epoch 2/10\n",
      "20000/20000 [==============================] - 1s 54us/step - loss: 0.5488 - acc: 0.7481 - val_loss: 0.5293 - val_acc: 0.7340\n",
      "Epoch 3/10\n",
      "20000/20000 [==============================] - 1s 58us/step - loss: 0.4652 - acc: 0.7862 - val_loss: 0.5006 - val_acc: 0.7454\n",
      "Epoch 4/10\n",
      "20000/20000 [==============================] - 1s 63us/step - loss: 0.4239 - acc: 0.8081 - val_loss: 0.4934 - val_acc: 0.7472\n",
      "Epoch 5/10\n",
      "20000/20000 [==============================] - 1s 54us/step - loss: 0.3957 - acc: 0.8248 - val_loss: 0.4926 - val_acc: 0.7552\n",
      "Epoch 6/10\n",
      "20000/20000 [==============================] - 1s 55us/step - loss: 0.3737 - acc: 0.8371 - val_loss: 0.4964 - val_acc: 0.7570\n",
      "Epoch 7/10\n",
      "20000/20000 [==============================] - 1s 56us/step - loss: 0.3536 - acc: 0.8474 - val_loss: 0.4998 - val_acc: 0.7588\n",
      "Epoch 8/10\n",
      "20000/20000 [==============================] - 1s 54us/step - loss: 0.3347 - acc: 0.8576 - val_loss: 0.5072 - val_acc: 0.7556\n",
      "Epoch 9/10\n",
      "20000/20000 [==============================] - 1s 54us/step - loss: 0.3167 - acc: 0.8677 - val_loss: 0.5150 - val_acc: 0.7552\n",
      "Epoch 10/10\n",
      "20000/20000 [==============================] - 1s 57us/step - loss: 0.2995 - acc: 0.8788 - val_loss: 0.5226 - val_acc: 0.7526\n"
     ]
    }
   ],
   "source": [
    "history = model.fit(train_data, train_labels,\n",
    "                    epochs=10,\n",
    "                    batch_size=32,\n",
    "                    validation_split=0.2)"
   ]
  },
  {
   "cell_type": "code",
   "execution_count": 11,
   "metadata": {},
   "outputs": [
    {
     "data": {
      "image/png": "[encoded data removed]",
      "text/plain": [
       "<Figure size 432x288 with 1 Axes>"
      ]
     },
     "metadata": {
      "needs_background": "light"
     },
     "output_type": "display_data"
    }
   ],
   "source": [
    "import numpy as np\n",
    "import matplotlib.pyplot as plt\n",
    "\n",
    "acc = history.history['acc']\n",
    "loss = history.history['loss']\n",
    "\n",
    "epochs = np.arange(len(acc)) + 1\n",
    "\n",
    "plt.figure('Training accuracy and loss')\n",
    "plt.title('Training accuracy and loss')\n",
    "plt.plot(epochs, acc, color='b', label='accuracy')\n",
    "plt.plot(epochs, loss, color='r', label='loss')\n",
    "plt.legend()\n",
    "plt.grid()\n",
    "plt.show()"
   ]
  },
  {
   "cell_type": "code",
   "execution_count": 14,
   "metadata": {},
   "outputs": [
    {
     "name": "stdout",
     "output_type": "stream",
     "text": [
      "25000/25000 [==============================] - 1s 22us/step\n",
      "Accuracy in test dataset =  0.75752\n"
     ]
    }
   ],
   "source": [
    "eval_loss, eval_acc = model.evaluate(test_data, test_labels)\n",
    "\n",
    "print('Accuracy in test dataset = ', eval_acc)"
   ]
  },
  {
   "cell_type": "code",
   "execution_count": null,
   "metadata": {},
   "outputs": [],
   "source": []
  }
 ],
 "metadata": {
  "kernelspec": {
   "display_name": "Python gu-keras",
   "language": "python",
   "name": "gu-keras"
  },
  "language_info": {
   "codemirror_mode": {
    "name": "ipython",
    "version": 3
   },
   "file_extension": ".py",
   "mimetype": "text/x-python",
   "name": "python",
   "nbconvert_exporter": "python",
   "pygments_lexer": "ipython3",
   "version": "3.6.8"
  }
 },
 "nbformat": 4,
 "nbformat_minor": 2
}
