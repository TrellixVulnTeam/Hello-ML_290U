{
 "cells": [
  {
   "cell_type": "code",
   "execution_count": 1,
   "metadata": {},
   "outputs": [
    {
     "name": "stderr",
     "output_type": "stream",
     "text": [
      "Using TensorFlow backend.\n"
     ]
    }
   ],
   "source": [
    "import os\n",
    "import numpy as np\n",
    "from keras.preprocessing import text, sequence\n",
    "\n",
    "# Read text samples from IMDB dataset.\n",
    "\n",
    "def load_data_from_imdb(sample_dir, max_length=100, max_words=10000):\n",
    "    '''\n",
    "    Read movie review samples and labels from IMDB dataset.\n",
    "    Samples and labels are tokenized by using keras preprocessing utility.\n",
    "    '''\n",
    "    labels = []\n",
    "    texts = []\n",
    "\n",
    "    # IMDB dataset directory has 'neg' directory which has negative review samples,\n",
    "    # and 'pos' otherwise.\n",
    "    for label_type in ['neg', 'pos']:\n",
    "        dir_name = os.path.join(sample_dir, label_type)\n",
    "        for file_name in os.listdir(dir_name):\n",
    "            if file_name[-4:] == '.txt':\n",
    "                file = open(os.path.join(dir_name, file_name), encoding='utf8')\n",
    "                texts.append(file.read())\n",
    "                file.close()\n",
    "                # Labeling, negative review has label 0, positive has 1.\n",
    "                if label_type == 'neg':\n",
    "                    labels.append(0)\n",
    "                else:\n",
    "                    labels.append(1)\n",
    "\n",
    "    # Tokenize text samples to the input vectors.\n",
    "    # Choose most frequently used words in dataset.\n",
    "    tokenizer = text.Tokenizer(num_words=max_words)\n",
    "    tokenizer.fit_on_texts(texts)\n",
    "    # Convert words in samples to corresponding indices.\n",
    "    sequences = tokenizer.texts_to_sequences(texts)\n",
    "    word_index = tokenizer.word_index\n",
    "    \n",
    "    # Slice words in a sample as max_length.\n",
    "    data = sequence.pad_sequences(sequences, maxlen=max_length)\n",
    "    labels = np.asarray(labels)\n",
    "    \n",
    "    return data, labels, word_index"
   ]
  },
  {
   "cell_type": "code",
   "execution_count": 2,
   "metadata": {},
   "outputs": [],
   "source": [
    "def load_embedding_index_from_glove(glove_data_file, embedding_dim, word_index, max_words):\n",
    "    '''\n",
    "    Return a embedding weight matrix from the GloVe model.\n",
    "    'glove.6B' has word embedding which was trained with english wikipia posts.\n",
    "    It has 50, 100, 200 and 300 dimension embedding vectors coressponding to 400k words(or tokens).\n",
    "    '''\n",
    "    embeddings_index = {}\n",
    "\n",
    "    file = open(glove_data_file, encoding='utf8')\n",
    "    for line in file:\n",
    "        values = line.split()\n",
    "        word = values[0]\n",
    "        coefs = np.asarray(values[1:], dtype='float32')\n",
    "        embeddings_index[word] = coefs\n",
    "    file.close()\n",
    "    \n",
    "    \n",
    "    # Make embedding weight matrix.\n",
    "    # Entries which has a word not in embedding word index are zero.\n",
    "    embedding_matrix = np.zeros((max_words, embedding_dim))\n",
    "    for word, i in word_index.items():\n",
    "        if i < max_words:\n",
    "            embedding_vector = embeddings_index.get(word)\n",
    "            if embedding_vector is not None:\n",
    "                embedding_matrix[i] = embedding_vector\n",
    "\n",
    "    return embedding_matrix"
   ]
  },
  {
   "cell_type": "code",
   "execution_count": 3,
   "metadata": {},
   "outputs": [
    {
     "name": "stdout",
     "output_type": "stream",
     "text": [
      "Shape of data = (25000, 100)\n",
      "Shape of lables = (25000,)\n",
      "Word index has 88582 entries.\n"
     ]
    }
   ],
   "source": [
    "dataset_dir = '/home/guhwanbae/workspace/machine-learning/resource'\n",
    "imdb_dir = os.path.join(dataset_dir, 'aclImdb')\n",
    "train_dir = os.path.join(imdb_dir, 'train')\n",
    "\n",
    "max_length = 100\n",
    "max_words = 10000\n",
    "data, labels, word_index = load_data_from_imdb(sample_dir=train_dir,\n",
    "                                               max_length=max_length,\n",
    "                                               max_words=max_words)\n",
    "\n",
    "print('Shape of data =', data.shape)\n",
    "print('Shape of lables =', labels.shape)\n",
    "print('Word index has %d entries.' % len(word_index))"
   ]
  },
  {
   "cell_type": "code",
   "execution_count": 4,
   "metadata": {},
   "outputs": [],
   "source": [
    "glove_dir = os.path.join(dataset_dir, 'glove.6B')\n",
    "glove_data_file = os.path.join(glove_dir, 'glove.6B.100d.txt')\n",
    "\n",
    "embedding_dim = 100\n",
    "embedding_matrix = load_embedding_index_from_glove(glove_data_file,\n",
    "                                                   embedding_dim,\n",
    "                                                   word_index,\n",
    "                                                   max_words)"
   ]
  },
  {
   "cell_type": "code",
   "execution_count": 5,
   "metadata": {},
   "outputs": [
    {
     "name": "stdout",
     "output_type": "stream",
     "text": [
      "_________________________________________________________________\n",
      "Layer (type)                 Output Shape              Param #   \n",
      "=================================================================\n",
      "embedding_1 (Embedding)      (None, 100, 100)          1000000   \n",
      "_________________________________________________________________\n",
      "flatten_1 (Flatten)          (None, 10000)             0         \n",
      "_________________________________________________________________\n",
      "dense_1 (Dense)              (None, 32)                320032    \n",
      "_________________________________________________________________\n",
      "dense_2 (Dense)              (None, 1)                 33        \n",
      "=================================================================\n",
      "Total params: 1,320,065\n",
      "Trainable params: 1,320,065\n",
      "Non-trainable params: 0\n",
      "_________________________________________________________________\n"
     ]
    }
   ],
   "source": [
    "from keras import models\n",
    "from keras import layers\n",
    "\n",
    "model = models.Sequential()\n",
    "model.add(layers.Embedding(max_words, embedding_dim, input_length=max_length))\n",
    "model.add(layers.Flatten())\n",
    "model.add(layers.Dense(32, activation='relu'))\n",
    "model.add(layers.Dense(1, activation='sigmoid'))\n",
    "\n",
    "model.summary()\n",
    "\n",
    "# Load GloVe embedding vectors to this model.\n",
    "# And freeze first layer, embedding layer.\n",
    "model.layers[0].set_weights([embedding_matrix])\n",
    "model.layers[0].trainable = False\n",
    "\n",
    "model.compile(optimizer='rmsprop',\n",
    "              loss='binary_crossentropy',\n",
    "              metrics=['acc'])"
   ]
  },
  {
   "cell_type": "code",
   "execution_count": 6,
   "metadata": {},
   "outputs": [
    {
     "name": "stdout",
     "output_type": "stream",
     "text": [
      "Shape of train data = (400, 100)\n",
      "Shape of validation data = (10000, 100)\n"
     ]
    }
   ],
   "source": [
    "indices = np.arange(data.shape[0])\n",
    "np.random.shuffle(indices)\n",
    "\n",
    "# Shuffle data and labels entries.\n",
    "data = data[indices]\n",
    "labels = labels[indices]\n",
    "\n",
    "'''\n",
    "Suppose we have small training data.\n",
    "In this case, effective strategy is using features of the pre-trained model.\n",
    "'''\n",
    "\n",
    "training_samples = 400\n",
    "validation_samples = 10000\n",
    "\n",
    "train_data = data[:training_samples]\n",
    "train_labels = labels[:training_samples]\n",
    "validation_data = data[training_samples:training_samples+validation_samples]\n",
    "validation_labels = labels[training_samples:training_samples+validation_samples]\n",
    "\n",
    "print('Shape of train data =', train_data.shape)\n",
    "print('Shape of validation data =', validation_data.shape)"
   ]
  },
  {
   "cell_type": "code",
   "execution_count": 7,
   "metadata": {},
   "outputs": [
    {
     "name": "stdout",
     "output_type": "stream",
     "text": [
      "Train on 400 samples, validate on 10000 samples\n",
      "Epoch 1/10\n",
      "400/400 [==============================] - 0s 1ms/step - loss: 1.3867 - acc: 0.5100 - val_loss: 0.8120 - val_acc: 0.4996\n",
      "Epoch 2/10\n",
      "400/400 [==============================] - 0s 622us/step - loss: 0.5703 - acc: 0.6550 - val_loss: 0.7091 - val_acc: 0.5401\n",
      "Epoch 3/10\n",
      "400/400 [==============================] - 0s 603us/step - loss: 0.4922 - acc: 0.7500 - val_loss: 1.0586 - val_acc: 0.5024\n",
      "Epoch 4/10\n",
      "400/400 [==============================] - 0s 642us/step - loss: 0.4057 - acc: 0.7750 - val_loss: 0.8261 - val_acc: 0.5345\n",
      "Epoch 5/10\n",
      "400/400 [==============================] - 0s 693us/step - loss: 0.3326 - acc: 0.8725 - val_loss: 0.7034 - val_acc: 0.5678\n",
      "Epoch 6/10\n",
      "400/400 [==============================] - 0s 719us/step - loss: 0.2438 - acc: 0.8950 - val_loss: 0.7996 - val_acc: 0.5429\n",
      "Epoch 7/10\n",
      "400/400 [==============================] - 0s 891us/step - loss: 0.2070 - acc: 0.9400 - val_loss: 0.9470 - val_acc: 0.5340\n",
      "Epoch 8/10\n",
      "400/400 [==============================] - 0s 677us/step - loss: 0.1763 - acc: 0.9375 - val_loss: 1.1831 - val_acc: 0.5062\n",
      "Epoch 9/10\n",
      "400/400 [==============================] - 0s 668us/step - loss: 0.0584 - acc: 0.9950 - val_loss: 0.8118 - val_acc: 0.5814\n",
      "Epoch 10/10\n",
      "400/400 [==============================] - 0s 631us/step - loss: 0.0229 - acc: 1.0000 - val_loss: 0.8351 - val_acc: 0.5877\n"
     ]
    }
   ],
   "source": [
    "history = model.fit(train_data, train_labels,\n",
    "                    epochs=10,\n",
    "                    batch_size=32,\n",
    "                    validation_data=(validation_data, validation_labels))"
   ]
  },
  {
   "cell_type": "code",
   "execution_count": 8,
   "metadata": {},
   "outputs": [],
   "source": [
    "model.save_weights('based_glove6_100d_model_with_100_train_samples.h5')"
   ]
  },
  {
   "cell_type": "code",
   "execution_count": 10,
   "metadata": {},
   "outputs": [
    {
     "data": {
      "image/png": "[encoded data removed]",
      "text/plain": [
       "<Figure size 432x288 with 1 Axes>"
      ]
     },
     "metadata": {
      "needs_background": "light"
     },
     "output_type": "display_data"
    },
    {
     "data": {
      "image/png": "[encoded data removed]",
      "text/plain": [
       "<Figure size 432x288 with 1 Axes>"
      ]
     },
     "metadata": {
      "needs_background": "light"
     },
     "output_type": "display_data"
    }
   ],
   "source": [
    "import matplotlib.pyplot as plt\n",
    "\n",
    "acc = history.history['acc']\n",
    "val_acc = history.history['val_acc']\n",
    "loss = history.history['loss']\n",
    "val_loss = history.history['val_loss']\n",
    "\n",
    "epochs = np.arange(len(acc)) + 1\n",
    "\n",
    "plt.figure('Training and validation accuracy')\n",
    "plt.title('Training and validation accuracy')\n",
    "plt.plot(epochs, acc, color='b', label='Training acc')\n",
    "plt.plot(epochs, val_acc, color='r', label='Validation acc')\n",
    "plt.legend()\n",
    "plt.grid()\n",
    "plt.show()\n",
    "\n",
    "# Model is overfitting in early iterations.\n",
    "# Validation accuracy is about 50%\n",
    "\n",
    "plt.figure('Training and validation loss')\n",
    "plt.title('Training and validation loss')\n",
    "plt.plot(epochs, loss, color='b', label='Training loss')\n",
    "plt.plot(epochs, val_loss, color='r', label='Validation loss')\n",
    "plt.legend()\n",
    "plt.grid()\n",
    "plt.show()"
   ]
  },
  {
   "cell_type": "code",
   "execution_count": 105,
   "metadata": {},
   "outputs": [
    {
     "name": "stdout",
     "output_type": "stream",
     "text": [
      "Shape of train data = (15000, 100)\n",
      "Shape of validation data = (10000, 100)\n"
     ]
    }
   ],
   "source": [
    "# Retrain a model with 15000 train samples.\n",
    "\n",
    "indices = np.arange(data.shape[0])\n",
    "np.random.shuffle(indices)\n",
    "\n",
    "# Shuffle data and labels entries.\n",
    "data = data[indices]\n",
    "labels = labels[indices]\n",
    "\n",
    "training_samples = 15000\n",
    "validation_samples = 10000\n",
    "\n",
    "train_data = data[:training_samples]\n",
    "train_labels = labels[:training_samples]\n",
    "validation_data = data[training_samples:training_samples+validation_samples]\n",
    "validation_labels = labels[training_samples:training_samples+validation_samples]\n",
    "\n",
    "print('Shape of train data =', train_data.shape)\n",
    "print('Shape of validation data =', validation_data.shape)"
   ]
  },
  {
   "cell_type": "code",
   "execution_count": 106,
   "metadata": {},
   "outputs": [
    {
     "name": "stdout",
     "output_type": "stream",
     "text": [
      "_________________________________________________________________\n",
      "Layer (type)                 Output Shape              Param #   \n",
      "=================================================================\n",
      "embedding_15 (Embedding)     (None, 100, 100)          1000000   \n",
      "_________________________________________________________________\n",
      "flatten_15 (Flatten)         (None, 10000)             0         \n",
      "_________________________________________________________________\n",
      "dense_40 (Dense)             (None, 32)                320032    \n",
      "_________________________________________________________________\n",
      "dropout_25 (Dropout)         (None, 32)                0         \n",
      "_________________________________________________________________\n",
      "dense_41 (Dense)             (None, 32)                1056      \n",
      "_________________________________________________________________\n",
      "dropout_26 (Dropout)         (None, 32)                0         \n",
      "_________________________________________________________________\n",
      "dense_42 (Dense)             (None, 1)                 33        \n",
      "=================================================================\n",
      "Total params: 1,321,121\n",
      "Trainable params: 321,121\n",
      "Non-trainable params: 1,000,000\n",
      "_________________________________________________________________\n"
     ]
    }
   ],
   "source": [
    "model = models.Sequential()\n",
    "model.add(layers.Embedding(max_words, embedding_dim, input_length=max_length))\n",
    "model.add(layers.Flatten())\n",
    "model.add(layers.Dense(32, activation='relu'))\n",
    "model.add(layers.Dropout(0.5))\n",
    "model.add(layers.Dense(32, activation='relu'))\n",
    "model.add(layers.Dropout(0.5))\n",
    "model.add(layers.Dense(1, activation='sigmoid'))\n",
    "\n",
    "# Load GloVe embedding vectors to this model.\n",
    "# And freeze first layer, embedding layer.\n",
    "model.layers[0].set_weights([embedding_matrix])\n",
    "model.layers[0].trainable = False\n",
    "\n",
    "model.compile(optimizer='rmsprop',\n",
    "              loss='binary_crossentropy',\n",
    "              metrics=['acc'])\n",
    "\n",
    "model.summary()"
   ]
  },
  {
   "cell_type": "code",
   "execution_count": 107,
   "metadata": {},
   "outputs": [
    {
     "name": "stdout",
     "output_type": "stream",
     "text": [
      "The number of train data samples = 15000\n",
      "The number of validation data samples = 10000\n",
      "Train on 15000 samples, validate on 10000 samples\n",
      "Epoch 1/15\n",
      "15000/15000 [==============================] - 2s 109us/step - loss: 0.7047 - acc: 0.5020 - val_loss: 0.6932 - val_acc: 0.4953\n",
      "Epoch 2/15\n",
      "15000/15000 [==============================] - 1s 58us/step - loss: 0.6951 - acc: 0.5026 - val_loss: 0.6931 - val_acc: 0.4958\n",
      "Epoch 3/15\n",
      "15000/15000 [==============================] - 1s 57us/step - loss: 0.6964 - acc: 0.5079 - val_loss: 0.6930 - val_acc: 0.4978\n",
      "Epoch 4/15\n",
      "15000/15000 [==============================] - 1s 63us/step - loss: 0.6935 - acc: 0.5048 - val_loss: 0.6910 - val_acc: 0.5071\n",
      "Epoch 5/15\n",
      "15000/15000 [==============================] - 1s 59us/step - loss: 0.6905 - acc: 0.5268 - val_loss: 0.6781 - val_acc: 0.5757\n",
      "Epoch 6/15\n",
      "15000/15000 [==============================] - 1s 55us/step - loss: 0.6777 - acc: 0.5653 - val_loss: 0.6674 - val_acc: 0.6087\n",
      "Epoch 7/15\n",
      "15000/15000 [==============================] - 1s 53us/step - loss: 0.6665 - acc: 0.5843 - val_loss: 0.6290 - val_acc: 0.6712\n",
      "Epoch 8/15\n",
      "15000/15000 [==============================] - 1s 52us/step - loss: 0.6539 - acc: 0.5986 - val_loss: 0.6403 - val_acc: 0.6518\n",
      "Epoch 9/15\n",
      "15000/15000 [==============================] - 1s 53us/step - loss: 0.6426 - acc: 0.6152 - val_loss: 0.6092 - val_acc: 0.6903\n",
      "Epoch 10/15\n",
      "15000/15000 [==============================] - 1s 53us/step - loss: 0.6405 - acc: 0.6220 - val_loss: 0.6087 - val_acc: 0.6923\n",
      "Epoch 11/15\n",
      "15000/15000 [==============================] - 1s 54us/step - loss: 0.6157 - acc: 0.6449 - val_loss: 0.6058 - val_acc: 0.6852\n",
      "Epoch 12/15\n",
      "15000/15000 [==============================] - 1s 53us/step - loss: 0.5964 - acc: 0.6653 - val_loss: 0.6034 - val_acc: 0.6647\n",
      "Epoch 13/15\n",
      "15000/15000 [==============================] - 1s 54us/step - loss: 0.5807 - acc: 0.6796 - val_loss: 0.5816 - val_acc: 0.7040\n",
      "Epoch 14/15\n",
      "15000/15000 [==============================] - 1s 55us/step - loss: 0.5638 - acc: 0.6910 - val_loss: 0.6021 - val_acc: 0.6595\n",
      "Epoch 15/15\n",
      "15000/15000 [==============================] - 1s 55us/step - loss: 0.5443 - acc: 0.7069 - val_loss: 0.6305 - val_acc: 0.6733\n"
     ]
    }
   ],
   "source": [
    "print('The number of train data samples =', len(train_data))\n",
    "print('The number of validation data samples =', len(validation_data))\n",
    "\n",
    "history = model.fit(train_data, train_labels,\n",
    "                    epochs=15,\n",
    "                    batch_size=64,\n",
    "                    validation_data=(validation_data, validation_labels))"
   ]
  },
  {
   "cell_type": "code",
   "execution_count": 108,
   "metadata": {},
   "outputs": [],
   "source": [
    "model.save_weights('based_glove6_100d_model_with_10000_train_samples.h5')"
   ]
  },
  {
   "cell_type": "code",
   "execution_count": 109,
   "metadata": {},
   "outputs": [
    {
     "data": {
      "image/png": "[encoded data removed]",
      "text/plain": [
       "<Figure size 432x288 with 1 Axes>"
      ]
     },
     "metadata": {
      "needs_background": "light"
     },
     "output_type": "display_data"
    },
    {
     "data": {
      "image/png": "[encoded data removed]",
      "text/plain": [
       "<Figure size 432x288 with 1 Axes>"
      ]
     },
     "metadata": {
      "needs_background": "light"
     },
     "output_type": "display_data"
    }
   ],
   "source": [
    "acc = history.history['acc']\n",
    "val_acc = history.history['val_acc']\n",
    "loss = history.history['loss']\n",
    "val_loss = history.history['val_loss']\n",
    "\n",
    "epochs = np.arange(len(acc)) + 1\n",
    "\n",
    "plt.figure('Training and validation accuracy')\n",
    "plt.title('Training and validation accuracy')\n",
    "plt.plot(epochs, acc, color='b', label='Training acc')\n",
    "plt.plot(epochs, val_acc, color='r', label='Validation acc')\n",
    "plt.legend()\n",
    "plt.grid()\n",
    "plt.show()\n",
    "\n",
    "# Model is overfitting after 10 iterations.\n",
    "# Validation accuracy is about 70%\n",
    "\n",
    "plt.figure('Training and validation loss')\n",
    "plt.title('Training and validation loss')\n",
    "plt.plot(epochs, loss, color='b', label='Training loss')\n",
    "plt.plot(epochs, val_loss, color='r', label='Validation loss')\n",
    "plt.legend()\n",
    "plt.grid()\n",
    "plt.show()"
   ]
  },
  {
   "cell_type": "code",
   "execution_count": 110,
   "metadata": {},
   "outputs": [],
   "source": [
    "# Evaluate a model with test samples.\n",
    "\n",
    "test_dir = os.path.join(imdb_dir, 'test')\n",
    "\n",
    "test_data, test_labels, word_index = load_data_from_imdb(test_dir, max_length=100, max_words=10000)"
   ]
  },
  {
   "cell_type": "code",
   "execution_count": 111,
   "metadata": {},
   "outputs": [
    {
     "name": "stdout",
     "output_type": "stream",
     "text": [
      "25000/25000 [==============================] - 1s 29us/step\n",
      "Model(%s) test accuracy = 0.5286\n"
     ]
    }
   ],
   "source": [
    "pre_trained_model = 'based_glove6_100d_model_with_10000_train_samples.h5'\n",
    "\n",
    "model.load_weights(pre_trained_model)\n",
    "loss, accuracy = model.evaluate(test_data, test_labels)\n",
    "\n",
    "print('Model(%s) test accuracy =', accuracy)"
   ]
  },
  {
   "cell_type": "code",
   "execution_count": null,
   "metadata": {},
   "outputs": [],
   "source": []
  }
 ],
 "metadata": {
  "kernelspec": {
   "display_name": "Python gu-keras",
   "language": "python",
   "name": "gu-keras"
  },
  "language_info": {
   "codemirror_mode": {
    "name": "ipython",
    "version": 3
   },
   "file_extension": ".py",
   "mimetype": "text/x-python",
   "name": "python",
   "nbconvert_exporter": "python",
   "pygments_lexer": "ipython3",
   "version": "3.6.8"
  }
 },
 "nbformat": 4,
 "nbformat_minor": 2
}
