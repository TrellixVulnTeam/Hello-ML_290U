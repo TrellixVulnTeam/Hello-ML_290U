{
 "cells": [
  {
   "cell_type": "code",
   "execution_count": 1,
   "metadata": {},
   "outputs": [
    {
     "name": "stderr",
     "output_type": "stream",
     "text": [
      "Using TensorFlow backend.\n"
     ]
    }
   ],
   "source": [
    "from keras.applications import VGG16\n",
    "\n",
    "'''\n",
    "VGG16 is a model trained with ImageNet dataset.\n",
    "It has 16 convolutional base layers and 3 Densly connected layers.\n",
    "\n",
    "Train the new model by using convolutional base layers of VGG16.\n",
    "And connect new densly connected layers to classify images into cats and dogs.\n",
    "'''\n",
    "\n",
    "conv_base = VGG16(weights='imagenet',\n",
    "                  include_top=False,\n",
    "                  input_shape=(150, 150, 3))"
   ]
  },
  {
   "cell_type": "code",
   "execution_count": 2,
   "metadata": {},
   "outputs": [
    {
     "name": "stdout",
     "output_type": "stream",
     "text": [
      "_________________________________________________________________\n",
      "Layer (type)                 Output Shape              Param #   \n",
      "=================================================================\n",
      "input_1 (InputLayer)         (None, 150, 150, 3)       0         \n",
      "_________________________________________________________________\n",
      "block1_conv1 (Conv2D)        (None, 150, 150, 64)      1792      \n",
      "_________________________________________________________________\n",
      "block1_conv2 (Conv2D)        (None, 150, 150, 64)      36928     \n",
      "_________________________________________________________________\n",
      "block1_pool (MaxPooling2D)   (None, 75, 75, 64)        0         \n",
      "_________________________________________________________________\n",
      "block2_conv1 (Conv2D)        (None, 75, 75, 128)       73856     \n",
      "_________________________________________________________________\n",
      "block2_conv2 (Conv2D)        (None, 75, 75, 128)       147584    \n",
      "_________________________________________________________________\n",
      "block2_pool (MaxPooling2D)   (None, 37, 37, 128)       0         \n",
      "_________________________________________________________________\n",
      "block3_conv1 (Conv2D)        (None, 37, 37, 256)       295168    \n",
      "_________________________________________________________________\n",
      "block3_conv2 (Conv2D)        (None, 37, 37, 256)       590080    \n",
      "_________________________________________________________________\n",
      "block3_conv3 (Conv2D)        (None, 37, 37, 256)       590080    \n",
      "_________________________________________________________________\n",
      "block3_pool (MaxPooling2D)   (None, 18, 18, 256)       0         \n",
      "_________________________________________________________________\n",
      "block4_conv1 (Conv2D)        (None, 18, 18, 512)       1180160   \n",
      "_________________________________________________________________\n",
      "block4_conv2 (Conv2D)        (None, 18, 18, 512)       2359808   \n",
      "_________________________________________________________________\n",
      "block4_conv3 (Conv2D)        (None, 18, 18, 512)       2359808   \n",
      "_________________________________________________________________\n",
      "block4_pool (MaxPooling2D)   (None, 9, 9, 512)         0         \n",
      "_________________________________________________________________\n",
      "block5_conv1 (Conv2D)        (None, 9, 9, 512)         2359808   \n",
      "_________________________________________________________________\n",
      "block5_conv2 (Conv2D)        (None, 9, 9, 512)         2359808   \n",
      "_________________________________________________________________\n",
      "block5_conv3 (Conv2D)        (None, 9, 9, 512)         2359808   \n",
      "_________________________________________________________________\n",
      "block5_pool (MaxPooling2D)   (None, 4, 4, 512)         0         \n",
      "=================================================================\n",
      "Total params: 14,714,688\n",
      "Trainable params: 14,714,688\n",
      "Non-trainable params: 0\n",
      "_________________________________________________________________\n"
     ]
    }
   ],
   "source": [
    "conv_base.summary()"
   ]
  },
  {
   "cell_type": "code",
   "execution_count": 3,
   "metadata": {},
   "outputs": [],
   "source": [
    "# Case I. Features from VGG16 without augmentation sample images.\n",
    "\n",
    "from keras.preprocessing.image import ImageDataGenerator\n",
    "import numpy as np\n",
    "import os\n",
    "\n",
    "dataset_dir = '/home/guhwanbae/workspace/machine-learning/resource/cats-and-dogs-small'\n",
    "train_dir = os.path.join(dataset_dir, 'train')\n",
    "validation_dir = os.path.join(dataset_dir, 'validation')\n",
    "test_dir = os.path.join(dataset_dir, 'test')"
   ]
  },
  {
   "cell_type": "code",
   "execution_count": 4,
   "metadata": {},
   "outputs": [],
   "source": [
    "def extract_featrues(directory, sample_count, model, input_shape, datagen, batch_size):\n",
    "    features = np.zeros(shape=(sample_count, 4, 4, 512))\n",
    "    labels = np.zeros(shape=(sample_count))\n",
    "    generator = datagen.flow_from_directory(\n",
    "        directory,\n",
    "        target_size=input_shape,\n",
    "        batch_size=batch_size,\n",
    "        class_mode='binary')\n",
    "    for idx, (inputs_batch, labels_batch) in enumerate(generator):\n",
    "        features_batch = model.predict(inputs_batch)\n",
    "        first = idx * batch_size\n",
    "        last = (idx+1) * batch_size\n",
    "        features[first:last] = features_batch\n",
    "        labels[first:last] = labels_batch\n",
    "        if last >= sample_count:\n",
    "            break\n",
    "    return features, labels    "
   ]
  },
  {
   "cell_type": "code",
   "execution_count": 5,
   "metadata": {},
   "outputs": [
    {
     "name": "stdout",
     "output_type": "stream",
     "text": [
      "Found 2000 images belonging to 2 classes.\n"
     ]
    }
   ],
   "source": [
    "datagen = ImageDataGenerator(rescale=1./255)\n",
    "input_shape = (150, 150)\n",
    "batch_size = 20\n",
    "\n",
    "train_features, train_labels = extract_featrues(train_dir, sample_count=2000,\n",
    "                                                model=conv_base, input_shape=input_shape,\n",
    "                                                datagen=datagen, batch_size=batch_size)"
   ]
  },
  {
   "cell_type": "code",
   "execution_count": 6,
   "metadata": {},
   "outputs": [
    {
     "name": "stdout",
     "output_type": "stream",
     "text": [
      "Found 1000 images belonging to 2 classes.\n"
     ]
    }
   ],
   "source": [
    "validation_features, validation_labels = extract_featrues(validation_dir, sample_count=1000,\n",
    "                                                          model=conv_base, input_shape=input_shape,\n",
    "                                                          datagen=datagen, batch_size=batch_size)"
   ]
  },
  {
   "cell_type": "code",
   "execution_count": 7,
   "metadata": {},
   "outputs": [
    {
     "name": "stdout",
     "output_type": "stream",
     "text": [
      "Found 1000 images belonging to 2 classes.\n"
     ]
    }
   ],
   "source": [
    "test_features, test_labels = extract_featrues(test_dir, sample_count=1000,\n",
    "                                              model=conv_base, input_shape=input_shape,\n",
    "                                              datagen=datagen, batch_size=batch_size)"
   ]
  },
  {
   "cell_type": "code",
   "execution_count": 9,
   "metadata": {},
   "outputs": [],
   "source": [
    "array_save_path = './features_from_vgg16'\n",
    "np.savez(array_save_path,\n",
    "         train_featrues=train_features,\n",
    "         train_labels=train_labels,\n",
    "         validation_features=validation_features,\n",
    "         validation_labels=validation_labels,\n",
    "         test_features=test_features,\n",
    "         test_labels=test_labels)"
   ]
  },
  {
   "cell_type": "code",
   "execution_count": 10,
   "metadata": {},
   "outputs": [],
   "source": [
    "'''\n",
    "Reshape features passed convolutional layers to input to densely connected layers.\n",
    "Input shape of densely connected layers is 8192 flatten, (4, 4, 512) to (8192,).\n",
    "'''\n",
    "\n",
    "dense_layer_input_shape = 4*4*512\n",
    "train_features = train_features.reshape((2000, dense_layer_input_shape))\n",
    "validation_features = validation_features.reshape((1000, dense_layer_input_shape))\n",
    "test_featrues = test_features.reshape((1000, dense_layer_input_shape))"
   ]
  },
  {
   "cell_type": "code",
   "execution_count": 11,
   "metadata": {},
   "outputs": [],
   "source": [
    "'''\n",
    "Classifier\n",
    "Add densely connected layers to classify binary labels, cats and dogs,\n",
    "from features passed through VGG16 convoludtional base layers.\n",
    "To regularize add a dropout layer.\n",
    "'''\n",
    "\n",
    "from keras import models\n",
    "from keras import layers\n",
    "from keras import optimizers\n",
    "\n",
    "model = models.Sequential()\n",
    "model.add(layers.Dense(256, activation='relu', input_dim=dense_layer_input_shape))\n",
    "model.add(layers.Dropout(0.5))\n",
    "model.add(layers.Dense(1, activation='sigmoid'))"
   ]
  },
  {
   "cell_type": "code",
   "execution_count": 12,
   "metadata": {},
   "outputs": [],
   "source": [
    "model.compile(optimizer=optimizers.RMSprop(lr=2e-5),\n",
    "              loss='binary_crossentropy',\n",
    "              metrics=['acc'])"
   ]
  },
  {
   "cell_type": "code",
   "execution_count": 13,
   "metadata": {},
   "outputs": [
    {
     "name": "stdout",
     "output_type": "stream",
     "text": [
      "Train on 2000 samples, validate on 1000 samples\n",
      "Epoch 1/30\n",
      "2000/2000 [==============================] - 2s 947us/step - loss: 0.6036 - acc: 0.6710 - val_loss: 0.4391 - val_acc: 0.8270\n",
      "Epoch 2/30\n",
      "2000/2000 [==============================] - 2s 830us/step - loss: 0.4291 - acc: 0.8115 - val_loss: 0.3756 - val_acc: 0.8450\n",
      "Epoch 3/30\n",
      "2000/2000 [==============================] - 2s 826us/step - loss: 0.3601 - acc: 0.8445 - val_loss: 0.3209 - val_acc: 0.8750\n",
      "Epoch 4/30\n",
      "2000/2000 [==============================] - 2s 849us/step - loss: 0.3086 - acc: 0.8795 - val_loss: 0.2989 - val_acc: 0.8880\n",
      "Epoch 5/30\n",
      "2000/2000 [==============================] - 2s 834us/step - loss: 0.2871 - acc: 0.8865 - val_loss: 0.2972 - val_acc: 0.8720\n",
      "Epoch 6/30\n",
      "2000/2000 [==============================] - 2s 903us/step - loss: 0.2643 - acc: 0.8940 - val_loss: 0.2689 - val_acc: 0.8940\n",
      "Epoch 7/30\n",
      "2000/2000 [==============================] - 2s 849us/step - loss: 0.2499 - acc: 0.9005 - val_loss: 0.2622 - val_acc: 0.8930\n",
      "Epoch 8/30\n",
      "2000/2000 [==============================] - 2s 851us/step - loss: 0.2349 - acc: 0.9080 - val_loss: 0.2563 - val_acc: 0.8920\n",
      "Epoch 9/30\n",
      "2000/2000 [==============================] - 2s 855us/step - loss: 0.2161 - acc: 0.9195 - val_loss: 0.2511 - val_acc: 0.8950\n",
      "Epoch 10/30\n",
      "2000/2000 [==============================] - 2s 917us/step - loss: 0.2033 - acc: 0.9290 - val_loss: 0.2468 - val_acc: 0.9030\n",
      "Epoch 11/30\n",
      "2000/2000 [==============================] - 2s 934us/step - loss: 0.1936 - acc: 0.9275 - val_loss: 0.2441 - val_acc: 0.9050\n",
      "Epoch 12/30\n",
      "2000/2000 [==============================] - 2s 910us/step - loss: 0.1905 - acc: 0.9340 - val_loss: 0.2417 - val_acc: 0.9000\n",
      "Epoch 13/30\n",
      "2000/2000 [==============================] - 2s 905us/step - loss: 0.1819 - acc: 0.9330 - val_loss: 0.2406 - val_acc: 0.9000\n",
      "Epoch 14/30\n",
      "2000/2000 [==============================] - 2s 901us/step - loss: 0.1699 - acc: 0.9395 - val_loss: 0.2369 - val_acc: 0.9040\n",
      "Epoch 15/30\n",
      "2000/2000 [==============================] - 2s 922us/step - loss: 0.1611 - acc: 0.9410 - val_loss: 0.2348 - val_acc: 0.9060\n",
      "Epoch 16/30\n",
      "2000/2000 [==============================] - 2s 929us/step - loss: 0.1492 - acc: 0.9520 - val_loss: 0.2394 - val_acc: 0.8960\n",
      "Epoch 17/30\n",
      "2000/2000 [==============================] - 2s 912us/step - loss: 0.1448 - acc: 0.9485 - val_loss: 0.2387 - val_acc: 0.8960\n",
      "Epoch 18/30\n",
      "2000/2000 [==============================] - 2s 932us/step - loss: 0.1442 - acc: 0.9485 - val_loss: 0.2334 - val_acc: 0.9020\n",
      "Epoch 19/30\n",
      "2000/2000 [==============================] - 2s 933us/step - loss: 0.1362 - acc: 0.9535 - val_loss: 0.2317 - val_acc: 0.9030\n",
      "Epoch 20/30\n",
      "2000/2000 [==============================] - 2s 931us/step - loss: 0.1338 - acc: 0.9510 - val_loss: 0.2350 - val_acc: 0.9000\n",
      "Epoch 21/30\n",
      "2000/2000 [==============================] - 2s 940us/step - loss: 0.1271 - acc: 0.9595 - val_loss: 0.2378 - val_acc: 0.9010\n",
      "Epoch 22/30\n",
      "2000/2000 [==============================] - 2s 952us/step - loss: 0.1244 - acc: 0.9600 - val_loss: 0.2507 - val_acc: 0.8980\n",
      "Epoch 23/30\n",
      "2000/2000 [==============================] - 2s 926us/step - loss: 0.1130 - acc: 0.9605 - val_loss: 0.2383 - val_acc: 0.9000\n",
      "Epoch 24/30\n",
      "2000/2000 [==============================] - 2s 941us/step - loss: 0.1124 - acc: 0.9630 - val_loss: 0.2373 - val_acc: 0.8990\n",
      "Epoch 25/30\n",
      "2000/2000 [==============================] - 2s 953us/step - loss: 0.1080 - acc: 0.9660 - val_loss: 0.2370 - val_acc: 0.8960\n",
      "Epoch 26/30\n",
      "2000/2000 [==============================] - 2s 954us/step - loss: 0.1054 - acc: 0.9650 - val_loss: 0.2445 - val_acc: 0.8980\n",
      "Epoch 27/30\n",
      "2000/2000 [==============================] - 2s 956us/step - loss: 0.0980 - acc: 0.9690 - val_loss: 0.2344 - val_acc: 0.9000\n",
      "Epoch 28/30\n",
      "2000/2000 [==============================] - 2s 961us/step - loss: 0.0966 - acc: 0.9690 - val_loss: 0.2430 - val_acc: 0.9000\n",
      "Epoch 29/30\n",
      "2000/2000 [==============================] - 2s 960us/step - loss: 0.0928 - acc: 0.9730 - val_loss: 0.2431 - val_acc: 0.9000\n",
      "Epoch 30/30\n",
      "2000/2000 [==============================] - 2s 958us/step - loss: 0.0917 - acc: 0.9730 - val_loss: 0.2365 - val_acc: 0.9030\n"
     ]
    }
   ],
   "source": [
    "history = model.fit(train_features, train_labels,\n",
    "                    epochs=30,\n",
    "                    batch_size=20,\n",
    "                    validation_data=(validation_features, validation_labels))"
   ]
  },
  {
   "cell_type": "code",
   "execution_count": 15,
   "metadata": {},
   "outputs": [
    {
     "data": {
      "image/png": "[encoded data removed]",
      "text/plain": [
       "<Figure size 432x288 with 1 Axes>"
      ]
     },
     "metadata": {
      "needs_background": "light"
     },
     "output_type": "display_data"
    }
   ],
   "source": [
    "import matplotlib.pyplot as plt\n",
    "\n",
    "acc = history.history['acc']\n",
    "val_acc = history.history['val_acc']\n",
    "loss = history.history['loss']\n",
    "val_loss = history.history['val_loss']\n",
    "\n",
    "epochs = np.arange(len(acc)) + 1\n",
    "\n",
    "plt.figure('Accuracy')\n",
    "plt.title('Training and validation accuracy')\n",
    "plt.plot(epochs, acc, color='b', label='Training accuracy')\n",
    "plt.plot(epochs, val_acc, color='r', label='Validation accuracy')\n",
    "plt.legend()\n",
    "plt.grid()\n",
    "plt.show()\n",
    "\n",
    "# Validation accuracy is saturated about 90% after 10 epochs."
   ]
  },
  {
   "cell_type": "code",
   "execution_count": 17,
   "metadata": {},
   "outputs": [
    {
     "data": {
      "image/png": "[encoded data removed]",
      "text/plain": [
       "<Figure size 432x288 with 1 Axes>"
      ]
     },
     "metadata": {
      "needs_background": "light"
     },
     "output_type": "display_data"
    },
    {
     "data": {
      "text/plain": [
       "'\\nEven with a drop-out layer, model is quickly overfitting after first iteration of training.\\nBecause features are obtained directly from VGG16 model not trained augmented sample images.\\n'"
      ]
     },
     "execution_count": 17,
     "metadata": {},
     "output_type": "execute_result"
    }
   ],
   "source": [
    "plt.figure('Loss')\n",
    "plt.title('Training and validation loss')\n",
    "plt.plot(epochs, loss, color='b', label='Training loss')\n",
    "plt.plot(epochs, val_loss, color='r', label='Validation loss')\n",
    "plt.legend()\n",
    "plt.grid()\n",
    "plt.show()\n",
    "\n",
    "'''\n",
    "Even with a drop-out layer, model is quickly overfitting after first iteration of training.\n",
    "Because features are obtained directly from VGG16 model not trained augmented sample images.\n",
    "'''"
   ]
  },
  {
   "cell_type": "code",
   "execution_count": 18,
   "metadata": {},
   "outputs": [],
   "source": [
    "model.save('dogs_and_cats_vgg16_direct_features_1.h5')"
   ]
  }
 ],
 "metadata": {
  "kernelspec": {
   "display_name": "Python gu-keras",
   "language": "python",
   "name": "gu-keras"
  },
  "language_info": {
   "codemirror_mode": {
    "name": "ipython",
    "version": 3
   },
   "file_extension": ".py",
   "mimetype": "text/x-python",
   "name": "python",
   "nbconvert_exporter": "python",
   "pygments_lexer": "ipython3",
   "version": "3.6.8"
  }
 },
 "nbformat": 4,
 "nbformat_minor": 2
}
