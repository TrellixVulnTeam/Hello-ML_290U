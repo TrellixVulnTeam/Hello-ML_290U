{
 "cells": [
  {
   "cell_type": "code",
   "execution_count": 1,
   "metadata": {},
   "outputs": [
    {
     "name": "stderr",
     "output_type": "stream",
     "text": [
      "Using TensorFlow backend.\n"
     ]
    }
   ],
   "source": [
    "from keras import models\n",
    "from keras import layers\n",
    "\n",
    "model = models.Sequential()\n",
    "model.add(layers.Conv2D(filters=32, kernel_size=(3, 3),\n",
    "                        activation='relu',\n",
    "                        input_shape=(150, 150, 3)))\n",
    "model.add(layers.MaxPooling2D(pool_size=(2, 2)))\n",
    "model.add(layers.Conv2D(64, (3, 3), activation='relu'))\n",
    "model.add(layers.MaxPooling2D((2, 2)))\n",
    "model.add(layers.Conv2D(128, (3, 3), activation='relu'))\n",
    "model.add(layers.MaxPooling2D((2, 2)))\n",
    "model.add(layers.Conv2D(128, (3, 3), activation='relu'))\n",
    "model.add(layers.MaxPooling2D((2, 2)))\n",
    "model.add(layers.Flatten())\n",
    "model.add(layers.Dropout(0.5))\n",
    "model.add(layers.Dense(units=512, activation='relu'))\n",
    "model.add(layers.Dense(1, activation='sigmoid'))"
   ]
  },
  {
   "cell_type": "code",
   "execution_count": 2,
   "metadata": {},
   "outputs": [],
   "source": [
    "from keras import optimizers\n",
    "\n",
    "model.compile(loss='binary_crossentropy',\n",
    "              optimizer=optimizers.RMSprop(lr=1e-4),\n",
    "              metrics=['acc'])"
   ]
  },
  {
   "cell_type": "code",
   "execution_count": 3,
   "metadata": {},
   "outputs": [],
   "source": [
    "from keras.preprocessing.image import ImageDataGenerator\n",
    "\n",
    "'''\n",
    "Use a data augmentation to generate modified samples.\n",
    "It depress the overfitting of model.\n",
    "'''\n",
    "train_datagen = ImageDataGenerator(rescale=1./255,\n",
    "                                   rotation_range=40,\n",
    "                                   width_shift_range=0.2,\n",
    "                                   height_shift_range=0.2,\n",
    "                                   shear_range=0.2,\n",
    "                                   zoom_range=0.2,\n",
    "                                   horizontal_flip=True)\n",
    "# Validation and test dataset must keep integrity!\n",
    "validation_datagen = ImageDataGenerator(rescale=1./255)"
   ]
  },
  {
   "cell_type": "code",
   "execution_count": 4,
   "metadata": {},
   "outputs": [
    {
     "name": "stdout",
     "output_type": "stream",
     "text": [
      "Found 2000 images belonging to 2 classes.\n",
      "Found 1000 images belonging to 2 classes.\n"
     ]
    }
   ],
   "source": [
    "import os\n",
    "\n",
    "dataset_dir = '/home/guhwanbae/workspace/machine-learning/resource/cats-and-dogs-small'\n",
    "train_dir = os.path.join(dataset_dir, 'train')\n",
    "validation_dir = os.path.join(dataset_dir, 'validation')\n",
    "\n",
    "train_generator = train_datagen.flow_from_directory(\n",
    "    train_dir,\n",
    "    target_size=(150, 150),\n",
    "    batch_size=32,\n",
    "    class_mode='binary')\n",
    "\n",
    "validation_generator = validation_datagen.flow_from_directory(\n",
    "    validation_dir,\n",
    "    target_size=(150, 150),\n",
    "    batch_size=32,\n",
    "    class_mode='binary')"
   ]
  },
  {
   "cell_type": "code",
   "execution_count": 5,
   "metadata": {},
   "outputs": [
    {
     "name": "stdout",
     "output_type": "stream",
     "text": [
      "Epoch 1/100\n",
      "100/100 [==============================] - 20s 198ms/step - loss: 0.6895 - acc: 0.5263 - val_loss: 0.6694 - val_acc: 0.5787\n",
      "Epoch 2/100\n",
      "100/100 [==============================] - 18s 176ms/step - loss: 0.6739 - acc: 0.5684 - val_loss: 0.6633 - val_acc: 0.5818\n",
      "Epoch 3/100\n",
      "100/100 [==============================] - 18s 175ms/step - loss: 0.6576 - acc: 0.5950 - val_loss: 0.6898 - val_acc: 0.5317\n",
      "Epoch 4/100\n",
      "100/100 [==============================] - 18s 180ms/step - loss: 0.6319 - acc: 0.6350 - val_loss: 0.6130 - val_acc: 0.6566\n",
      "Epoch 5/100\n",
      "100/100 [==============================] - 17s 174ms/step - loss: 0.6172 - acc: 0.6641 - val_loss: 0.5928 - val_acc: 0.6840\n",
      "Epoch 6/100\n",
      "100/100 [==============================] - 19s 192ms/step - loss: 0.6040 - acc: 0.6716 - val_loss: 0.6013 - val_acc: 0.6611\n",
      "Epoch 7/100\n",
      "100/100 [==============================] - 18s 177ms/step - loss: 0.6043 - acc: 0.6678 - val_loss: 0.5851 - val_acc: 0.6796\n",
      "Epoch 8/100\n",
      "100/100 [==============================] - 18s 183ms/step - loss: 0.5925 - acc: 0.6794 - val_loss: 0.5605 - val_acc: 0.7036\n",
      "Epoch 9/100\n",
      "100/100 [==============================] - 18s 177ms/step - loss: 0.5829 - acc: 0.6847 - val_loss: 0.5613 - val_acc: 0.7036\n",
      "Epoch 10/100\n",
      "100/100 [==============================] - 17s 175ms/step - loss: 0.5740 - acc: 0.7056 - val_loss: 0.5598 - val_acc: 0.7037\n",
      "Epoch 11/100\n",
      "100/100 [==============================] - 19s 186ms/step - loss: 0.5765 - acc: 0.6938 - val_loss: 0.5497 - val_acc: 0.7062\n",
      "Epoch 12/100\n",
      "100/100 [==============================] - 18s 176ms/step - loss: 0.5673 - acc: 0.7072 - val_loss: 0.5689 - val_acc: 0.7056\n",
      "Epoch 13/100\n",
      "100/100 [==============================] - 18s 179ms/step - loss: 0.5676 - acc: 0.7028 - val_loss: 0.5174 - val_acc: 0.7326\n",
      "Epoch 14/100\n",
      "100/100 [==============================] - 18s 176ms/step - loss: 0.5552 - acc: 0.7191 - val_loss: 0.5610 - val_acc: 0.7075\n",
      "Epoch 15/100\n",
      "100/100 [==============================] - 18s 180ms/step - loss: 0.5619 - acc: 0.7188 - val_loss: 0.5505 - val_acc: 0.7017\n",
      "Epoch 16/100\n",
      "100/100 [==============================] - 18s 181ms/step - loss: 0.5411 - acc: 0.7294 - val_loss: 0.5148 - val_acc: 0.7436\n",
      "Epoch 17/100\n",
      "100/100 [==============================] - 18s 175ms/step - loss: 0.5351 - acc: 0.7347 - val_loss: 0.5381 - val_acc: 0.7386\n",
      "Epoch 18/100\n",
      "100/100 [==============================] - 19s 192ms/step - loss: 0.5413 - acc: 0.7300 - val_loss: 0.5086 - val_acc: 0.7506\n",
      "Epoch 19/100\n",
      "100/100 [==============================] - 18s 177ms/step - loss: 0.5319 - acc: 0.7431 - val_loss: 0.5211 - val_acc: 0.7386\n",
      "Epoch 20/100\n",
      "100/100 [==============================] - 18s 178ms/step - loss: 0.5207 - acc: 0.7428 - val_loss: 0.5800 - val_acc: 0.6985\n",
      "Epoch 21/100\n",
      "100/100 [==============================] - 18s 177ms/step - loss: 0.5231 - acc: 0.7350 - val_loss: 0.4840 - val_acc: 0.7557\n",
      "Epoch 22/100\n",
      "100/100 [==============================] - 18s 178ms/step - loss: 0.5056 - acc: 0.7550 - val_loss: 0.4849 - val_acc: 0.7674\n",
      "Epoch 23/100\n",
      "100/100 [==============================] - 19s 189ms/step - loss: 0.5117 - acc: 0.7434 - val_loss: 0.5013 - val_acc: 0.7627\n",
      "Epoch 24/100\n",
      "100/100 [==============================] - 18s 183ms/step - loss: 0.5055 - acc: 0.7506 - val_loss: 0.4997 - val_acc: 0.7700\n",
      "Epoch 25/100\n",
      "100/100 [==============================] - 18s 177ms/step - loss: 0.4911 - acc: 0.7678 - val_loss: 0.5540 - val_acc: 0.7165\n",
      "Epoch 26/100\n",
      "100/100 [==============================] - 18s 175ms/step - loss: 0.4972 - acc: 0.7572 - val_loss: 0.4745 - val_acc: 0.7659\n",
      "Epoch 27/100\n",
      "100/100 [==============================] - 18s 179ms/step - loss: 0.4952 - acc: 0.7600 - val_loss: 0.5450 - val_acc: 0.7294\n",
      "Epoch 28/100\n",
      "100/100 [==============================] - 18s 183ms/step - loss: 0.4836 - acc: 0.7659 - val_loss: 0.4927 - val_acc: 0.7519\n",
      "Epoch 29/100\n",
      "100/100 [==============================] - 18s 181ms/step - loss: 0.4841 - acc: 0.7659 - val_loss: 0.4985 - val_acc: 0.7448\n",
      "Epoch 30/100\n",
      "100/100 [==============================] - 18s 178ms/step - loss: 0.4794 - acc: 0.7650 - val_loss: 0.4813 - val_acc: 0.7614\n",
      "Epoch 31/100\n",
      "100/100 [==============================] - 18s 182ms/step - loss: 0.4752 - acc: 0.7669 - val_loss: 0.4689 - val_acc: 0.7713\n",
      "Epoch 32/100\n",
      "100/100 [==============================] - 17s 175ms/step - loss: 0.4764 - acc: 0.7725 - val_loss: 0.4476 - val_acc: 0.7938\n",
      "Epoch 33/100\n",
      "100/100 [==============================] - 18s 179ms/step - loss: 0.4789 - acc: 0.7662 - val_loss: 0.4429 - val_acc: 0.8027\n",
      "Epoch 34/100\n",
      "100/100 [==============================] - 18s 177ms/step - loss: 0.4637 - acc: 0.7794 - val_loss: 0.4656 - val_acc: 0.7758\n",
      "Epoch 35/100\n",
      "100/100 [==============================] - 19s 190ms/step - loss: 0.4564 - acc: 0.7794 - val_loss: 0.4655 - val_acc: 0.7741\n",
      "Epoch 36/100\n",
      "100/100 [==============================] - 18s 179ms/step - loss: 0.4630 - acc: 0.7769 - val_loss: 0.4453 - val_acc: 0.7867\n",
      "Epoch 37/100\n",
      "100/100 [==============================] - 18s 177ms/step - loss: 0.4650 - acc: 0.7841 - val_loss: 0.4294 - val_acc: 0.8039\n",
      "Epoch 38/100\n",
      "100/100 [==============================] - 18s 179ms/step - loss: 0.4584 - acc: 0.7728 - val_loss: 0.4803 - val_acc: 0.7706\n",
      "Epoch 39/100\n",
      "100/100 [==============================] - 18s 175ms/step - loss: 0.4500 - acc: 0.7847 - val_loss: 0.5136 - val_acc: 0.7614\n",
      "Epoch 40/100\n",
      "100/100 [==============================] - 19s 191ms/step - loss: 0.4558 - acc: 0.7822 - val_loss: 0.4621 - val_acc: 0.7655\n",
      "Epoch 41/100\n",
      "100/100 [==============================] - 18s 176ms/step - loss: 0.4538 - acc: 0.7797 - val_loss: 0.4784 - val_acc: 0.7719\n",
      "Epoch 42/100\n",
      "100/100 [==============================] - 17s 174ms/step - loss: 0.4547 - acc: 0.7787 - val_loss: 0.4640 - val_acc: 0.7824\n",
      "Epoch 43/100\n",
      "100/100 [==============================] - 18s 176ms/step - loss: 0.4372 - acc: 0.7928 - val_loss: 0.4360 - val_acc: 0.7970\n",
      "Epoch 44/100\n",
      "100/100 [==============================] - 17s 174ms/step - loss: 0.4376 - acc: 0.7984 - val_loss: 0.4849 - val_acc: 0.7817\n",
      "Epoch 45/100\n",
      "100/100 [==============================] - 18s 184ms/step - loss: 0.4507 - acc: 0.7831 - val_loss: 0.4408 - val_acc: 0.8054\n",
      "Epoch 46/100\n",
      "100/100 [==============================] - 18s 179ms/step - loss: 0.4484 - acc: 0.7947 - val_loss: 0.4246 - val_acc: 0.8096\n",
      "Epoch 47/100\n",
      "100/100 [==============================] - 19s 187ms/step - loss: 0.4385 - acc: 0.8016 - val_loss: 0.4598 - val_acc: 0.7803\n",
      "Epoch 48/100\n",
      "100/100 [==============================] - 17s 173ms/step - loss: 0.4294 - acc: 0.8003 - val_loss: 0.4931 - val_acc: 0.7719\n",
      "Epoch 49/100\n",
      "100/100 [==============================] - 18s 175ms/step - loss: 0.4248 - acc: 0.8003 - val_loss: 0.4133 - val_acc: 0.8185\n",
      "Epoch 50/100\n",
      "100/100 [==============================] - 18s 179ms/step - loss: 0.4188 - acc: 0.8069 - val_loss: 0.4629 - val_acc: 0.7874\n",
      "Epoch 51/100\n",
      "100/100 [==============================] - 17s 174ms/step - loss: 0.4224 - acc: 0.8013 - val_loss: 0.4726 - val_acc: 0.7766\n",
      "Epoch 52/100\n",
      "100/100 [==============================] - 19s 193ms/step - loss: 0.4149 - acc: 0.8097 - val_loss: 0.4616 - val_acc: 0.7957\n",
      "Epoch 53/100\n",
      "100/100 [==============================] - 18s 177ms/step - loss: 0.4155 - acc: 0.8012 - val_loss: 0.4369 - val_acc: 0.8077\n",
      "Epoch 54/100\n",
      "100/100 [==============================] - 18s 179ms/step - loss: 0.4131 - acc: 0.8106 - val_loss: 0.4218 - val_acc: 0.8170\n",
      "Epoch 55/100\n",
      "100/100 [==============================] - 18s 177ms/step - loss: 0.4243 - acc: 0.8097 - val_loss: 0.4483 - val_acc: 0.7830\n",
      "Epoch 56/100\n",
      "100/100 [==============================] - 18s 179ms/step - loss: 0.4075 - acc: 0.8072 - val_loss: 0.4216 - val_acc: 0.8144\n",
      "Epoch 57/100\n",
      "100/100 [==============================] - 18s 185ms/step - loss: 0.4109 - acc: 0.8091 - val_loss: 0.4583 - val_acc: 0.7938\n",
      "Epoch 58/100\n",
      "100/100 [==============================] - 17s 175ms/step - loss: 0.4172 - acc: 0.8084 - val_loss: 0.4387 - val_acc: 0.7970\n",
      "Epoch 59/100\n",
      "100/100 [==============================] - 18s 177ms/step - loss: 0.3989 - acc: 0.8197 - val_loss: 0.4217 - val_acc: 0.8099\n",
      "Epoch 60/100\n",
      "100/100 [==============================] - 18s 177ms/step - loss: 0.4047 - acc: 0.8069 - val_loss: 0.4732 - val_acc: 0.7912\n"
     ]
    },
    {
     "name": "stdout",
     "output_type": "stream",
     "text": [
      "Epoch 61/100\n",
      "100/100 [==============================] - 18s 179ms/step - loss: 0.3952 - acc: 0.8203 - val_loss: 0.4535 - val_acc: 0.7990\n",
      "Epoch 62/100\n",
      "100/100 [==============================] - 18s 179ms/step - loss: 0.4080 - acc: 0.8122 - val_loss: 0.5971 - val_acc: 0.7538\n",
      "Epoch 63/100\n",
      "100/100 [==============================] - 18s 178ms/step - loss: 0.4010 - acc: 0.8178 - val_loss: 0.4289 - val_acc: 0.8073\n",
      "Epoch 64/100\n",
      "100/100 [==============================] - 17s 173ms/step - loss: 0.3953 - acc: 0.8166 - val_loss: 0.4496 - val_acc: 0.7957\n",
      "Epoch 65/100\n",
      "100/100 [==============================] - 17s 175ms/step - loss: 0.4088 - acc: 0.7994 - val_loss: 0.4860 - val_acc: 0.7951\n",
      "Epoch 66/100\n",
      "100/100 [==============================] - 18s 177ms/step - loss: 0.3908 - acc: 0.8269 - val_loss: 0.5041 - val_acc: 0.7893\n",
      "Epoch 67/100\n",
      "100/100 [==============================] - 18s 176ms/step - loss: 0.3836 - acc: 0.8275 - val_loss: 0.4962 - val_acc: 0.7843\n",
      "Epoch 68/100\n",
      "100/100 [==============================] - 18s 176ms/step - loss: 0.3877 - acc: 0.8228 - val_loss: 0.4833 - val_acc: 0.7899\n",
      "Epoch 69/100\n",
      "100/100 [==============================] - 19s 185ms/step - loss: 0.3911 - acc: 0.8269 - val_loss: 0.4151 - val_acc: 0.8141\n",
      "Epoch 70/100\n",
      "100/100 [==============================] - 18s 179ms/step - loss: 0.3855 - acc: 0.8322 - val_loss: 0.4587 - val_acc: 0.8067\n",
      "Epoch 71/100\n",
      "100/100 [==============================] - 17s 174ms/step - loss: 0.3828 - acc: 0.8341 - val_loss: 0.4827 - val_acc: 0.8027\n",
      "Epoch 72/100\n",
      "100/100 [==============================] - 18s 180ms/step - loss: 0.3937 - acc: 0.8234 - val_loss: 0.4112 - val_acc: 0.8131\n",
      "Epoch 73/100\n",
      "100/100 [==============================] - 17s 174ms/step - loss: 0.3925 - acc: 0.8237 - val_loss: 0.4942 - val_acc: 0.7816\n",
      "Epoch 74/100\n",
      "100/100 [==============================] - 18s 183ms/step - loss: 0.3779 - acc: 0.8269 - val_loss: 0.4593 - val_acc: 0.8014\n",
      "Epoch 75/100\n",
      "100/100 [==============================] - 18s 178ms/step - loss: 0.3645 - acc: 0.8341 - val_loss: 0.4930 - val_acc: 0.7680\n",
      "Epoch 76/100\n",
      "100/100 [==============================] - 17s 175ms/step - loss: 0.3662 - acc: 0.8331 - val_loss: 0.4361 - val_acc: 0.8071\n",
      "Epoch 77/100\n",
      "100/100 [==============================] - 18s 179ms/step - loss: 0.3662 - acc: 0.8381 - val_loss: 0.4233 - val_acc: 0.8157\n",
      "Epoch 78/100\n",
      "100/100 [==============================] - 18s 177ms/step - loss: 0.3702 - acc: 0.8341 - val_loss: 0.4128 - val_acc: 0.8039\n",
      "Epoch 79/100\n",
      "100/100 [==============================] - 19s 190ms/step - loss: 0.3709 - acc: 0.8334 - val_loss: 0.3989 - val_acc: 0.8196\n",
      "Epoch 80/100\n",
      "100/100 [==============================] - 18s 177ms/step - loss: 0.3683 - acc: 0.8437 - val_loss: 0.4382 - val_acc: 0.8170\n",
      "Epoch 81/100\n",
      "100/100 [==============================] - 20s 200ms/step - loss: 0.3517 - acc: 0.8466 - val_loss: 0.4414 - val_acc: 0.8122\n",
      "Epoch 82/100\n",
      "100/100 [==============================] - 19s 186ms/step - loss: 0.3659 - acc: 0.8338 - val_loss: 0.3942 - val_acc: 0.8254\n",
      "Epoch 83/100\n",
      "100/100 [==============================] - 18s 179ms/step - loss: 0.3484 - acc: 0.8444 - val_loss: 0.4704 - val_acc: 0.7976\n",
      "Epoch 84/100\n",
      "100/100 [==============================] - 18s 180ms/step - loss: 0.3472 - acc: 0.8428 - val_loss: 0.4147 - val_acc: 0.8293\n",
      "Epoch 85/100\n",
      "100/100 [==============================] - 17s 175ms/step - loss: 0.3514 - acc: 0.8475 - val_loss: 0.5133 - val_acc: 0.7989\n",
      "Epoch 86/100\n",
      "100/100 [==============================] - 19s 191ms/step - loss: 0.3490 - acc: 0.8428 - val_loss: 0.4579 - val_acc: 0.7964\n",
      "Epoch 87/100\n",
      "100/100 [==============================] - 18s 176ms/step - loss: 0.3474 - acc: 0.8422 - val_loss: 0.4373 - val_acc: 0.8115\n",
      "Epoch 88/100\n",
      "100/100 [==============================] - 18s 181ms/step - loss: 0.3398 - acc: 0.8509 - val_loss: 0.5027 - val_acc: 0.7899\n",
      "Epoch 89/100\n",
      "100/100 [==============================] - 18s 177ms/step - loss: 0.3431 - acc: 0.8475 - val_loss: 0.3872 - val_acc: 0.8441\n",
      "Epoch 90/100\n",
      "100/100 [==============================] - 18s 176ms/step - loss: 0.3418 - acc: 0.8506 - val_loss: 0.4613 - val_acc: 0.8065\n",
      "Epoch 91/100\n",
      "100/100 [==============================] - 18s 184ms/step - loss: 0.3273 - acc: 0.8531 - val_loss: 0.4824 - val_acc: 0.7880\n",
      "Epoch 92/100\n",
      "100/100 [==============================] - 18s 177ms/step - loss: 0.3382 - acc: 0.8506 - val_loss: 0.4383 - val_acc: 0.8027\n",
      "Epoch 93/100\n",
      "100/100 [==============================] - 18s 181ms/step - loss: 0.3420 - acc: 0.8453 - val_loss: 0.4440 - val_acc: 0.8054\n",
      "Epoch 94/100\n",
      "100/100 [==============================] - 18s 178ms/step - loss: 0.3384 - acc: 0.8497 - val_loss: 0.4042 - val_acc: 0.8255\n",
      "Epoch 95/100\n",
      "100/100 [==============================] - 18s 181ms/step - loss: 0.3383 - acc: 0.8541 - val_loss: 0.4730 - val_acc: 0.7919\n",
      "Epoch 96/100\n",
      "100/100 [==============================] - 18s 178ms/step - loss: 0.3302 - acc: 0.8572 - val_loss: 0.4795 - val_acc: 0.8054\n",
      "Epoch 97/100\n",
      "100/100 [==============================] - 17s 174ms/step - loss: 0.3439 - acc: 0.8478 - val_loss: 0.4129 - val_acc: 0.8211\n",
      "Epoch 98/100\n",
      "100/100 [==============================] - 19s 191ms/step - loss: 0.3208 - acc: 0.8616 - val_loss: 0.4682 - val_acc: 0.7867\n",
      "Epoch 99/100\n",
      "100/100 [==============================] - 18s 175ms/step - loss: 0.3240 - acc: 0.8609 - val_loss: 0.4097 - val_acc: 0.8242\n",
      "Epoch 100/100\n",
      "100/100 [==============================] - 18s 177ms/step - loss: 0.3155 - acc: 0.8722 - val_loss: 0.4396 - val_acc: 0.8086\n"
     ]
    }
   ],
   "source": [
    "'''\n",
    "train_generator make a batch which contains 20 samples.\n",
    "fit_generator procedure call train_generator 100 times to process 2000 samples in train dataset.\n",
    "'''\n",
    "\n",
    "history = model.fit_generator(train_generator,\n",
    "    steps_per_epoch=100,\n",
    "    epochs=100,\n",
    "    validation_data=validation_generator,\n",
    "    validation_steps=50)"
   ]
  },
  {
   "cell_type": "code",
   "execution_count": 6,
   "metadata": {},
   "outputs": [],
   "source": [
    "model.save('cats_and_dogs_small_data_aug_1.h5')"
   ]
  },
  {
   "cell_type": "code",
   "execution_count": 9,
   "metadata": {},
   "outputs": [
    {
     "data": {
      "image/png": "[encoded data removed]",
      "text/plain": [
       "<Figure size 432x288 with 1 Axes>"
      ]
     },
     "metadata": {
      "needs_background": "light"
     },
     "output_type": "display_data"
    },
    {
     "data": {
      "image/png": "[encoded data removed]",
      "text/plain": [
       "<Figure size 432x288 with 1 Axes>"
      ]
     },
     "metadata": {
      "needs_background": "light"
     },
     "output_type": "display_data"
    },
    {
     "data": {
      "text/plain": [
       "'\\nValidation curve follow training curve.\\nImage augmentation and dropout method depress that model is overfitting.\\n'"
      ]
     },
     "execution_count": 9,
     "metadata": {},
     "output_type": "execute_result"
    }
   ],
   "source": [
    "import numpy as np\n",
    "import matplotlib.pyplot as plt\n",
    "\n",
    "acc = history.history['acc']\n",
    "val_acc = history.history['val_acc']\n",
    "loss = history.history['loss']\n",
    "val_loss = history.history['val_loss']\n",
    "\n",
    "epochs = np.arange(len(acc)) + 1\n",
    "\n",
    "plt.figure('Accuracy')\n",
    "plt.title('Training and validation accuracy')\n",
    "plt.plot(epochs, acc, 'b', label='Training accuracy')\n",
    "plt.plot(epochs, val_acc, 'r', label='Validation accuracy')\n",
    "plt.legend()\n",
    "plt.grid()\n",
    "plt.show()\n",
    "\n",
    "plt.figure('Loss')\n",
    "plt.title('Training and validation loss')\n",
    "plt.plot(epochs, loss, 'b', label='Training loss')\n",
    "plt.plot(epochs, val_loss, 'r', label='Validation loss')\n",
    "plt.legend()\n",
    "plt.grid()\n",
    "plt.show()\n",
    "\n",
    "'''\n",
    "Validation curve follow training curve.\n",
    "Image augmentation and dropout method depress that model is overfitting.\n",
    "'''"
   ]
  },
  {
   "cell_type": "code",
   "execution_count": null,
   "metadata": {},
   "outputs": [],
   "source": []
  }
 ],
 "metadata": {
  "kernelspec": {
   "display_name": "Python gu-keras",
   "language": "python",
   "name": "gu-keras"
  },
  "language_info": {
   "codemirror_mode": {
    "name": "ipython",
    "version": 3
   },
   "file_extension": ".py",
   "mimetype": "text/x-python",
   "name": "python",
   "nbconvert_exporter": "python",
   "pygments_lexer": "ipython3",
   "version": "3.6.8"
  }
 },
 "nbformat": 4,
 "nbformat_minor": 2
}
