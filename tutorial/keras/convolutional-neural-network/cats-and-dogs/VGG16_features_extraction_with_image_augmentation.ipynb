{
 "cells": [
  {
   "cell_type": "code",
   "execution_count": 1,
   "metadata": {},
   "outputs": [
    {
     "name": "stderr",
     "output_type": "stream",
     "text": [
      "Using TensorFlow backend.\n"
     ]
    }
   ],
   "source": [
    "from keras import models\n",
    "from keras import layers\n",
    "from keras.applications import VGG16\n",
    "\n",
    "'''\n",
    "Case II, Train full layers, conv_base + classifier, with augmented sample images.\n",
    "This end-to-end training needs heavy resources.\n",
    "'''\n",
    "\n",
    "'''\n",
    "Freeze weights to prevent changing on training.\n",
    "Randomly initialized classifier layers propagate large update values to the network.\n",
    "It makes trained weights huge change.\n",
    "'''\n",
    "conv_base = VGG16(weights='imagenet',\n",
    "                  include_top=False,\n",
    "                  input_shape=(150, 150, 3))\n",
    "conv_base.trainable = False\n",
    "\n",
    "model = models.Sequential()\n",
    "model.add(conv_base)\n",
    "model.add(layers.Flatten())\n",
    "model.add(layers.Dense(256, activation='relu'))\n",
    "model.add(layers.Dense(1, activation='sigmoid'))"
   ]
  },
  {
   "cell_type": "code",
   "execution_count": 2,
   "metadata": {},
   "outputs": [
    {
     "name": "stdout",
     "output_type": "stream",
     "text": [
      "_________________________________________________________________\n",
      "Layer (type)                 Output Shape              Param #   \n",
      "=================================================================\n",
      "vgg16 (Model)                (None, 4, 4, 512)         14714688  \n",
      "_________________________________________________________________\n",
      "flatten_1 (Flatten)          (None, 8192)              0         \n",
      "_________________________________________________________________\n",
      "dense_1 (Dense)              (None, 256)               2097408   \n",
      "_________________________________________________________________\n",
      "dense_2 (Dense)              (None, 1)                 257       \n",
      "=================================================================\n",
      "Total params: 16,812,353\n",
      "Trainable params: 2,097,665\n",
      "Non-trainable params: 14,714,688\n",
      "_________________________________________________________________\n"
     ]
    }
   ],
   "source": [
    "model.summary()"
   ]
  },
  {
   "cell_type": "code",
   "execution_count": 3,
   "metadata": {},
   "outputs": [],
   "source": [
    "from keras import optimizers\n",
    "\n",
    "model.compile(optimizer=optimizers.RMSprop(lr=2e-5),\n",
    "              loss='binary_crossentropy',\n",
    "              metrics=['acc'])"
   ]
  },
  {
   "cell_type": "code",
   "execution_count": 4,
   "metadata": {},
   "outputs": [],
   "source": [
    "from keras.preprocessing.image import ImageDataGenerator\n",
    "\n",
    "# Augmented samples generator.\n",
    "train_datagen = ImageDataGenerator(rescale=1./255,\n",
    "                                   rotation_range=40,\n",
    "                                   width_shift_range=0.2,\n",
    "                                   height_shift_range=0.2,\n",
    "                                   shear_range=0.2,\n",
    "                                   zoom_range=0.2,\n",
    "                                   horizontal_flip=True,\n",
    "                                   fill_mode='nearest')\n",
    "\n",
    "# Test and validation dataset must keep integrity.\n",
    "validation_datagen = ImageDataGenerator(rescale=1./255)"
   ]
  },
  {
   "cell_type": "code",
   "execution_count": 5,
   "metadata": {},
   "outputs": [],
   "source": [
    "import os\n",
    "\n",
    "dataset_dir = '/home/guhwanbae/workspace/machine-learning/resource/cats-and-dogs-small'\n",
    "train_dir = os.path.join(dataset_dir, 'train')\n",
    "validation_dir = os.path.join(dataset_dir, 'validation')\n",
    "test_dir = os.path.join(dataset_dir, 'test')"
   ]
  },
  {
   "cell_type": "code",
   "execution_count": 6,
   "metadata": {},
   "outputs": [
    {
     "name": "stdout",
     "output_type": "stream",
     "text": [
      "Found 2000 images belonging to 2 classes.\n",
      "Found 1000 images belonging to 2 classes.\n"
     ]
    }
   ],
   "source": [
    "input_shape = (150, 150)\n",
    "\n",
    "# Make labels.\n",
    "train_generator = train_datagen.flow_from_directory(train_dir,\n",
    "                                                    target_size=input_shape,\n",
    "                                                    batch_size=20,\n",
    "                                                    class_mode='binary')\n",
    "validation_generator = validation_datagen.flow_from_directory(validation_dir,\n",
    "                                                              target_size=input_shape,\n",
    "                                                              batch_size=20,\n",
    "                                                              class_mode='binary')"
   ]
  },
  {
   "cell_type": "code",
   "execution_count": 7,
   "metadata": {
    "scrolled": true
   },
   "outputs": [
    {
     "name": "stdout",
     "output_type": "stream",
     "text": [
      "Epoch 1/30\n",
      "100/100 [==============================] - 25s 255ms/step - loss: 0.5883 - acc: 0.6980 - val_loss: 0.4491 - val_acc: 0.8270\n",
      "Epoch 2/30\n",
      "100/100 [==============================] - 23s 232ms/step - loss: 0.4816 - acc: 0.7980 - val_loss: 0.3688 - val_acc: 0.8570\n",
      "Epoch 3/30\n",
      "100/100 [==============================] - 23s 233ms/step - loss: 0.4410 - acc: 0.8125 - val_loss: 0.3410 - val_acc: 0.8570\n",
      "Epoch 4/30\n",
      "100/100 [==============================] - 23s 232ms/step - loss: 0.4038 - acc: 0.8195 - val_loss: 0.3204 - val_acc: 0.8720\n",
      "Epoch 5/30\n",
      "100/100 [==============================] - 23s 232ms/step - loss: 0.3795 - acc: 0.8325 - val_loss: 0.3100 - val_acc: 0.8690\n",
      "Epoch 6/30\n",
      "100/100 [==============================] - 23s 232ms/step - loss: 0.3761 - acc: 0.8415 - val_loss: 0.2809 - val_acc: 0.8830\n",
      "Epoch 7/30\n",
      "100/100 [==============================] - 23s 232ms/step - loss: 0.3528 - acc: 0.8515 - val_loss: 0.2746 - val_acc: 0.8850\n",
      "Epoch 8/30\n",
      "100/100 [==============================] - 23s 233ms/step - loss: 0.3563 - acc: 0.8405 - val_loss: 0.2760 - val_acc: 0.8780\n",
      "Epoch 9/30\n",
      "100/100 [==============================] - 23s 228ms/step - loss: 0.3407 - acc: 0.8530 - val_loss: 0.2661 - val_acc: 0.8930\n",
      "Epoch 10/30\n",
      "100/100 [==============================] - 23s 233ms/step - loss: 0.3403 - acc: 0.8490 - val_loss: 0.2588 - val_acc: 0.8940\n",
      "Epoch 11/30\n",
      "100/100 [==============================] - 23s 233ms/step - loss: 0.3258 - acc: 0.8520 - val_loss: 0.2759 - val_acc: 0.8850\n",
      "Epoch 12/30\n",
      "100/100 [==============================] - 23s 232ms/step - loss: 0.3301 - acc: 0.8590 - val_loss: 0.2546 - val_acc: 0.8920\n",
      "Epoch 13/30\n",
      "100/100 [==============================] - 23s 232ms/step - loss: 0.3231 - acc: 0.8540 - val_loss: 0.2540 - val_acc: 0.8920\n",
      "Epoch 14/30\n",
      "100/100 [==============================] - 23s 233ms/step - loss: 0.3275 - acc: 0.8510 - val_loss: 0.2531 - val_acc: 0.8950\n",
      "Epoch 15/30\n",
      "100/100 [==============================] - 23s 232ms/step - loss: 0.3187 - acc: 0.8710 - val_loss: 0.2568 - val_acc: 0.8900\n",
      "Epoch 16/30\n",
      "100/100 [==============================] - 23s 234ms/step - loss: 0.3047 - acc: 0.8650 - val_loss: 0.2530 - val_acc: 0.8980\n",
      "Epoch 17/30\n",
      "100/100 [==============================] - 23s 232ms/step - loss: 0.3098 - acc: 0.8645 - val_loss: 0.2447 - val_acc: 0.9010\n",
      "Epoch 18/30\n",
      "100/100 [==============================] - 23s 232ms/step - loss: 0.3086 - acc: 0.8640 - val_loss: 0.2436 - val_acc: 0.9010\n",
      "Epoch 19/30\n",
      "100/100 [==============================] - 23s 233ms/step - loss: 0.2972 - acc: 0.8660 - val_loss: 0.2440 - val_acc: 0.9040\n",
      "Epoch 20/30\n",
      "100/100 [==============================] - 23s 233ms/step - loss: 0.3085 - acc: 0.8685 - val_loss: 0.2473 - val_acc: 0.8930\n",
      "Epoch 21/30\n",
      "100/100 [==============================] - 23s 233ms/step - loss: 0.2985 - acc: 0.8745 - val_loss: 0.2381 - val_acc: 0.9040\n",
      "Epoch 22/30\n",
      "100/100 [==============================] - 23s 232ms/step - loss: 0.2902 - acc: 0.8775 - val_loss: 0.2403 - val_acc: 0.9020\n",
      "Epoch 23/30\n",
      "100/100 [==============================] - 23s 232ms/step - loss: 0.2961 - acc: 0.8655 - val_loss: 0.2376 - val_acc: 0.9030\n",
      "Epoch 24/30\n",
      "100/100 [==============================] - 23s 233ms/step - loss: 0.2943 - acc: 0.8760 - val_loss: 0.2468 - val_acc: 0.9050\n",
      "Epoch 25/30\n",
      "100/100 [==============================] - 23s 232ms/step - loss: 0.2913 - acc: 0.8730 - val_loss: 0.2459 - val_acc: 0.8960\n",
      "Epoch 26/30\n",
      "100/100 [==============================] - 23s 232ms/step - loss: 0.2860 - acc: 0.8750 - val_loss: 0.2472 - val_acc: 0.8900\n",
      "Epoch 27/30\n",
      "100/100 [==============================] - 23s 232ms/step - loss: 0.2820 - acc: 0.8810 - val_loss: 0.2454 - val_acc: 0.9010\n",
      "Epoch 28/30\n",
      "100/100 [==============================] - 23s 232ms/step - loss: 0.2861 - acc: 0.8770 - val_loss: 0.2583 - val_acc: 0.8910\n",
      "Epoch 29/30\n",
      "100/100 [==============================] - 23s 232ms/step - loss: 0.2739 - acc: 0.8810 - val_loss: 0.2470 - val_acc: 0.9080\n",
      "Epoch 30/30\n",
      "100/100 [==============================] - 23s 233ms/step - loss: 0.2822 - acc: 0.8800 - val_loss: 0.2380 - val_acc: 0.8990\n"
     ]
    }
   ],
   "source": [
    "history = model.fit_generator(train_generator,\n",
    "                              steps_per_epoch=100,\n",
    "                              epochs=30,\n",
    "                              validation_data=validation_generator,\n",
    "                              validation_steps=50)"
   ]
  },
  {
   "cell_type": "code",
   "execution_count": 14,
   "metadata": {},
   "outputs": [],
   "source": [
    "model.save('dogs_and_cats_vgg16_with_augmented_samples_1.h5')"
   ]
  },
  {
   "cell_type": "code",
   "execution_count": 15,
   "metadata": {},
   "outputs": [
    {
     "data": {
      "image/png": "[encoded data removed]",
      "text/plain": [
       "<Figure size 432x288 with 1 Axes>"
      ]
     },
     "metadata": {
      "needs_background": "light"
     },
     "output_type": "display_data"
    }
   ],
   "source": [
    "import numpy as np\n",
    "import matplotlib.pyplot as plt\n",
    "\n",
    "acc = history.history['acc']\n",
    "val_acc = history.history['val_acc']\n",
    "loss = history.history['loss']\n",
    "val_loss = history.history['val_loss']\n",
    "\n",
    "epochs = np.arange(len(acc)) + 1\n",
    "\n",
    "plt.figure('Accuracy')\n",
    "plt.title('Training and validation accuracy')\n",
    "plt.plot(epochs, acc, color='b', label='Training accuracy')\n",
    "plt.plot(epochs, val_acc, color='r', label='Validation accuracy')\n",
    "plt.legend()\n",
    "plt.grid()\n",
    "plt.show()"
   ]
  },
  {
   "cell_type": "code",
   "execution_count": 16,
   "metadata": {},
   "outputs": [
    {
     "data": {
      "image/png": "[encoded data removed]",
      "text/plain": [
       "<Figure size 432x288 with 1 Axes>"
      ]
     },
     "metadata": {
      "needs_background": "light"
     },
     "output_type": "display_data"
    }
   ],
   "source": [
    "plt.figure('Loss')\n",
    "plt.title('Training and validation loss')\n",
    "plt.plot(epochs, loss, color='b', label='Training loss')\n",
    "plt.plot(epochs, val_loss, color='r', label='Validation loss')\n",
    "plt.legend()\n",
    "plt.grid()\n",
    "plt.show()"
   ]
  }
 ],
 "metadata": {
  "kernelspec": {
   "display_name": "Python gu-keras",
   "language": "python",
   "name": "gu-keras"
  },
  "language_info": {
   "codemirror_mode": {
    "name": "ipython",
    "version": 3
   },
   "file_extension": ".py",
   "mimetype": "text/x-python",
   "name": "python",
   "nbconvert_exporter": "python",
   "pygments_lexer": "ipython3",
   "version": "3.6.8"
  }
 },
 "nbformat": 4,
 "nbformat_minor": 2
}
