{
 "cells": [
  {
   "cell_type": "code",
   "execution_count": 1,
   "metadata": {},
   "outputs": [
    {
     "name": "stderr",
     "output_type": "stream",
     "text": [
      "Using TensorFlow backend.\n"
     ]
    }
   ],
   "source": [
    "from keras import models\n",
    "from keras import layers\n",
    "\n",
    "model = models.Sequential()\n",
    "model.add(layers.Conv2D(filters=32, kernel_size=(3, 3),\n",
    "                        activation='relu',\n",
    "                        input_shape=(150, 150, 3)))\n",
    "model.add(layers.MaxPooling2D(pool_size=(2, 2)))\n",
    "model.add(layers.Conv2D(64, (3, 3), activation='relu'))\n",
    "model.add(layers.MaxPooling2D((2, 2)))\n",
    "model.add(layers.Conv2D(128, (3, 3), activation='relu'))\n",
    "model.add(layers.MaxPooling2D((2, 2)))\n",
    "model.add(layers.Conv2D(128, (3, 3), activation='relu'))\n",
    "model.add(layers.MaxPooling2D((2, 2)))\n",
    "model.add(layers.Flatten())\n",
    "model.add(layers.Dense(units=512, activation='relu'))\n",
    "model.add(layers.Dense(1, activation='sigmoid'))"
   ]
  },
  {
   "cell_type": "code",
   "execution_count": 2,
   "metadata": {},
   "outputs": [
    {
     "name": "stdout",
     "output_type": "stream",
     "text": [
      "_________________________________________________________________\n",
      "Layer (type)                 Output Shape              Param #   \n",
      "=================================================================\n",
      "conv2d_1 (Conv2D)            (None, 148, 148, 32)      896       \n",
      "_________________________________________________________________\n",
      "max_pooling2d_1 (MaxPooling2 (None, 74, 74, 32)        0         \n",
      "_________________________________________________________________\n",
      "conv2d_2 (Conv2D)            (None, 72, 72, 64)        18496     \n",
      "_________________________________________________________________\n",
      "max_pooling2d_2 (MaxPooling2 (None, 36, 36, 64)        0         \n",
      "_________________________________________________________________\n",
      "conv2d_3 (Conv2D)            (None, 34, 34, 128)       73856     \n",
      "_________________________________________________________________\n",
      "max_pooling2d_3 (MaxPooling2 (None, 17, 17, 128)       0         \n",
      "_________________________________________________________________\n",
      "conv2d_4 (Conv2D)            (None, 15, 15, 128)       147584    \n",
      "_________________________________________________________________\n",
      "max_pooling2d_4 (MaxPooling2 (None, 7, 7, 128)         0         \n",
      "_________________________________________________________________\n",
      "flatten_1 (Flatten)          (None, 6272)              0         \n",
      "_________________________________________________________________\n",
      "dense_1 (Dense)              (None, 512)               3211776   \n",
      "_________________________________________________________________\n",
      "dense_2 (Dense)              (None, 1)                 513       \n",
      "=================================================================\n",
      "Total params: 3,453,121\n",
      "Trainable params: 3,453,121\n",
      "Non-trainable params: 0\n",
      "_________________________________________________________________\n"
     ]
    }
   ],
   "source": [
    "model.summary()"
   ]
  },
  {
   "cell_type": "code",
   "execution_count": 3,
   "metadata": {},
   "outputs": [],
   "source": [
    "from keras import optimizers\n",
    "\n",
    "model.compile(loss='binary_crossentropy',\n",
    "              optimizer=optimizers.RMSprop(lr=1e-4),\n",
    "              metrics=['acc'])"
   ]
  },
  {
   "cell_type": "code",
   "execution_count": 4,
   "metadata": {},
   "outputs": [
    {
     "name": "stdout",
     "output_type": "stream",
     "text": [
      "Found 2000 images belonging to 2 classes.\n",
      "Found 1000 images belonging to 2 classes.\n"
     ]
    }
   ],
   "source": [
    "'''\n",
    "Pre-processing input samples\n",
    "1) Convert data format storage files as jpg to rgb.\n",
    "2) Vectorize rgb file as tensor that entry type is float.\n",
    "3) Standardize entries.\n",
    "\n",
    "keras.preprocessing.image module has helpers which pre-process input images.\n",
    "'''\n",
    "\n",
    "from keras.preprocessing.image import ImageDataGenerator\n",
    "import os\n",
    "\n",
    "train_datagen = ImageDataGenerator(rescale=1./255)\n",
    "validation_datagen = ImageDataGenerator(rescale=1./255)\n",
    "\n",
    "dataset_dir = '/home/guhwanbae/workspace/machine-learning/resource/cats-and-dogs-small'\n",
    "train_dir = os.path.join(dataset_dir, 'train')\n",
    "validation_dir = os.path.join(dataset_dir, 'validation')\n",
    "\n",
    "# train directory has cats and dogs directory.\n",
    "# flow_from_directory procedure set dogs a target class.\n",
    "# model's output is a probability that input image is a dog.\n",
    "train_generator = train_datagen.flow_from_directory(\n",
    "    train_dir,\n",
    "    target_size=(150, 150),\n",
    "    batch_size=20,\n",
    "    class_mode='binary')\n",
    "\n",
    "validation_generator = validation_datagen.flow_from_directory(\n",
    "    validation_dir,\n",
    "    target_size=(150, 150),\n",
    "    batch_size=20,\n",
    "    class_mode='binary')"
   ]
  },
  {
   "cell_type": "code",
   "execution_count": 6,
   "metadata": {},
   "outputs": [
    {
     "name": "stdout",
     "output_type": "stream",
     "text": [
      "Epoch 1/30\n",
      "100/100 [==============================] - 8s 85ms/step - loss: 0.6895 - acc: 0.5485 - val_loss: 0.6788 - val_acc: 0.5080\n",
      "Epoch 2/30\n",
      "100/100 [==============================] - 6s 61ms/step - loss: 0.6654 - acc: 0.6080 - val_loss: 0.6450 - val_acc: 0.6290\n",
      "Epoch 3/30\n",
      "100/100 [==============================] - 6s 62ms/step - loss: 0.6149 - acc: 0.6735 - val_loss: 0.5967 - val_acc: 0.6640\n",
      "Epoch 4/30\n",
      "100/100 [==============================] - 6s 62ms/step - loss: 0.5729 - acc: 0.7010 - val_loss: 0.6532 - val_acc: 0.6270\n",
      "Epoch 5/30\n",
      "100/100 [==============================] - 6s 62ms/step - loss: 0.5446 - acc: 0.7260 - val_loss: 0.5908 - val_acc: 0.6710\n",
      "Epoch 6/30\n",
      "100/100 [==============================] - 6s 62ms/step - loss: 0.5130 - acc: 0.7520 - val_loss: 0.6299 - val_acc: 0.6660\n",
      "Epoch 7/30\n",
      "100/100 [==============================] - 6s 61ms/step - loss: 0.4931 - acc: 0.7585 - val_loss: 0.6003 - val_acc: 0.6760\n",
      "Epoch 8/30\n",
      "100/100 [==============================] - 6s 61ms/step - loss: 0.4648 - acc: 0.7750 - val_loss: 0.6117 - val_acc: 0.6690\n",
      "Epoch 9/30\n",
      "100/100 [==============================] - 6s 61ms/step - loss: 0.4410 - acc: 0.7920 - val_loss: 0.5593 - val_acc: 0.7150\n",
      "Epoch 10/30\n",
      "100/100 [==============================] - 6s 61ms/step - loss: 0.4111 - acc: 0.8095 - val_loss: 0.5726 - val_acc: 0.7080\n",
      "Epoch 11/30\n",
      "100/100 [==============================] - 6s 61ms/step - loss: 0.3822 - acc: 0.8330 - val_loss: 0.6001 - val_acc: 0.7000\n",
      "Epoch 12/30\n",
      "100/100 [==============================] - 6s 61ms/step - loss: 0.3642 - acc: 0.8405 - val_loss: 0.5798 - val_acc: 0.7180\n",
      "Epoch 13/30\n",
      "100/100 [==============================] - 6s 62ms/step - loss: 0.3399 - acc: 0.8515 - val_loss: 0.5905 - val_acc: 0.7100\n",
      "Epoch 14/30\n",
      "100/100 [==============================] - 6s 62ms/step - loss: 0.3202 - acc: 0.8615 - val_loss: 0.6442 - val_acc: 0.6990\n",
      "Epoch 15/30\n",
      "100/100 [==============================] - 6s 62ms/step - loss: 0.2917 - acc: 0.8835 - val_loss: 0.5931 - val_acc: 0.7210\n",
      "Epoch 16/30\n",
      "100/100 [==============================] - 6s 61ms/step - loss: 0.2666 - acc: 0.8905 - val_loss: 0.6209 - val_acc: 0.7180\n",
      "Epoch 17/30\n",
      "100/100 [==============================] - 6s 61ms/step - loss: 0.2476 - acc: 0.9025 - val_loss: 0.7967 - val_acc: 0.6950\n",
      "Epoch 18/30\n",
      "100/100 [==============================] - 6s 62ms/step - loss: 0.2230 - acc: 0.9170 - val_loss: 0.6629 - val_acc: 0.7160\n",
      "Epoch 19/30\n",
      "100/100 [==============================] - 6s 61ms/step - loss: 0.2049 - acc: 0.9185 - val_loss: 0.6759 - val_acc: 0.7250\n",
      "Epoch 20/30\n",
      "100/100 [==============================] - 6s 62ms/step - loss: 0.1835 - acc: 0.9380 - val_loss: 0.7219 - val_acc: 0.7230\n",
      "Epoch 21/30\n",
      "100/100 [==============================] - 6s 62ms/step - loss: 0.1663 - acc: 0.9460 - val_loss: 0.7495 - val_acc: 0.7090\n",
      "Epoch 22/30\n",
      "100/100 [==============================] - 6s 61ms/step - loss: 0.1415 - acc: 0.9570 - val_loss: 0.9326 - val_acc: 0.7040\n",
      "Epoch 23/30\n",
      "100/100 [==============================] - 6s 62ms/step - loss: 0.1307 - acc: 0.9550 - val_loss: 0.7628 - val_acc: 0.7220\n",
      "Epoch 24/30\n",
      "100/100 [==============================] - 6s 62ms/step - loss: 0.1109 - acc: 0.9650 - val_loss: 0.8033 - val_acc: 0.7190\n",
      "Epoch 25/30\n",
      "100/100 [==============================] - 6s 62ms/step - loss: 0.0958 - acc: 0.9710 - val_loss: 0.8328 - val_acc: 0.7240\n",
      "Epoch 26/30\n",
      "100/100 [==============================] - 6s 62ms/step - loss: 0.0908 - acc: 0.9710 - val_loss: 0.8395 - val_acc: 0.7270\n",
      "Epoch 27/30\n",
      "100/100 [==============================] - 6s 62ms/step - loss: 0.0707 - acc: 0.9800 - val_loss: 0.9316 - val_acc: 0.7290\n",
      "Epoch 28/30\n",
      "100/100 [==============================] - 6s 62ms/step - loss: 0.0599 - acc: 0.9870 - val_loss: 0.9562 - val_acc: 0.7290\n",
      "Epoch 29/30\n",
      "100/100 [==============================] - 6s 62ms/step - loss: 0.0532 - acc: 0.9865 - val_loss: 1.2009 - val_acc: 0.6860\n",
      "Epoch 30/30\n",
      "100/100 [==============================] - 6s 62ms/step - loss: 0.0483 - acc: 0.9860 - val_loss: 1.0190 - val_acc: 0.7240\n"
     ]
    }
   ],
   "source": [
    "'''\n",
    "train_generator make a batch which contains 20 samples.\n",
    "fit_generator procedure call train_generator 100 times to process 2000 samples in train dataset.\n",
    "'''\n",
    "\n",
    "history = model.fit_generator(train_generator,\n",
    "    steps_per_epoch=100,\n",
    "    epochs=30,\n",
    "    validation_data=validation_generator,\n",
    "    validation_steps=50)"
   ]
  },
  {
   "cell_type": "code",
   "execution_count": 7,
   "metadata": {},
   "outputs": [],
   "source": [
    "model.save('cats_and_dogs_small_1.h5')"
   ]
  },
  {
   "cell_type": "code",
   "execution_count": 10,
   "metadata": {},
   "outputs": [
    {
     "data": {
      "image/png": "[encoded data removed]",
      "text/plain": [
       "<Figure size 432x288 with 1 Axes>"
      ]
     },
     "metadata": {
      "needs_background": "light"
     },
     "output_type": "display_data"
    },
    {
     "data": {
      "image/png": "[encoded data removed]",
      "text/plain": [
       "<Figure size 432x288 with 1 Axes>"
      ]
     },
     "metadata": {
      "needs_background": "light"
     },
     "output_type": "display_data"
    }
   ],
   "source": [
    "import numpy as np\n",
    "import matplotlib.pyplot as plt\n",
    "\n",
    "acc = history.history['acc']\n",
    "val_acc = history.history['val_acc']\n",
    "loss = history.history['loss']\n",
    "val_loss = history.history['val_loss']\n",
    "\n",
    "epochs = np.arange(len(acc)) + 1\n",
    "\n",
    "plt.figure('Accuracy')\n",
    "plt.title('Training and validation accuracy')\n",
    "plt.plot(epochs, acc, 'b', label='Training accuracy')\n",
    "plt.plot(epochs, val_acc, 'r', label='Validation accuracy')\n",
    "plt.legend()\n",
    "plt.grid()\n",
    "plt.show()\n",
    "\n",
    "plt.figure('Loss')\n",
    "plt.title('Training and validation loss')\n",
    "plt.plot(epochs, loss, 'b', label='Training loss')\n",
    "plt.plot(epochs, val_loss, 'r', label='Validation loss')\n",
    "plt.legend()\n",
    "plt.grid()\n",
    "plt.show()\n",
    "\n",
    "'''\n",
    "Model is overfitting after epoch 5.\n",
    "Repeat training, but validation accuracy does not near 70%.\n",
    "Validation loss linearly decrease after 5 iterations.\n",
    "\n",
    "How to depress overfitting?\n",
    "Use a data augmentaion.\n",
    "'''"
   ]
  }
 ],
 "metadata": {
  "kernelspec": {
   "display_name": "Python gu-keras",
   "language": "python",
   "name": "gu-keras"
  },
  "language_info": {
   "codemirror_mode": {
    "name": "ipython",
    "version": 3
   },
   "file_extension": ".py",
   "mimetype": "text/x-python",
   "name": "python",
   "nbconvert_exporter": "python",
   "pygments_lexer": "ipython3",
   "version": "3.6.8"
  }
 },
 "nbformat": 4,
 "nbformat_minor": 2
}
