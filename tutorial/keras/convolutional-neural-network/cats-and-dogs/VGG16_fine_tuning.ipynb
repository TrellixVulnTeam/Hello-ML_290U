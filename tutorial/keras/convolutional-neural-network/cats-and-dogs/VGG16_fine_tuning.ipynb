{
 "cells": [
  {
   "cell_type": "code",
   "execution_count": 1,
   "metadata": {
    "scrolled": true
   },
   "outputs": [
    {
     "name": "stderr",
     "output_type": "stream",
     "text": [
      "Using TensorFlow backend.\n"
     ]
    },
    {
     "name": "stdout",
     "output_type": "stream",
     "text": [
      "_________________________________________________________________\n",
      "Layer (type)                 Output Shape              Param #   \n",
      "=================================================================\n",
      "vgg16 (Model)                (None, 4, 4, 512)         14714688  \n",
      "_________________________________________________________________\n",
      "flatten_1 (Flatten)          (None, 8192)              0         \n",
      "_________________________________________________________________\n",
      "dense_1 (Dense)              (None, 256)               2097408   \n",
      "_________________________________________________________________\n",
      "dense_2 (Dense)              (None, 1)                 257       \n",
      "=================================================================\n",
      "Total params: 16,812,353\n",
      "Trainable params: 16,812,353\n",
      "Non-trainable params: 0\n",
      "_________________________________________________________________\n"
     ]
    },
    {
     "name": "stderr",
     "output_type": "stream",
     "text": [
      "/home/guhwanbae/anaconda3/envs/gu-keras/lib/python3.6/site-packages/keras/engine/saving.py:327: UserWarning: Error in loading the saved optimizer state. As a result, your model is starting with a freshly initialized optimizer.\n",
      "  warnings.warn('Error in loading the saved optimizer '\n"
     ]
    }
   ],
   "source": [
    "from keras import models\n",
    "from keras import layers\n",
    "\n",
    "# Case III. Fine tuning\n",
    "# Retrain a top block of VGG16 convolutional base layers.\n",
    "base_model_path = './dogs_and_cats_vgg16_with_augmented_samples_1.h5'\n",
    "base_model = models.load_model(base_model_path)\n",
    "base_model.summary()"
   ]
  },
  {
   "cell_type": "code",
   "execution_count": 2,
   "metadata": {},
   "outputs": [
    {
     "name": "stdout",
     "output_type": "stream",
     "text": [
      "_________________________________________________________________\n",
      "Layer (type)                 Output Shape              Param #   \n",
      "=================================================================\n",
      "input_1 (InputLayer)         (None, 150, 150, 3)       0         \n",
      "_________________________________________________________________\n",
      "block1_conv1 (Conv2D)        (None, 150, 150, 64)      1792      \n",
      "_________________________________________________________________\n",
      "block1_conv2 (Conv2D)        (None, 150, 150, 64)      36928     \n",
      "_________________________________________________________________\n",
      "block1_pool (MaxPooling2D)   (None, 75, 75, 64)        0         \n",
      "_________________________________________________________________\n",
      "block2_conv1 (Conv2D)        (None, 75, 75, 128)       73856     \n",
      "_________________________________________________________________\n",
      "block2_conv2 (Conv2D)        (None, 75, 75, 128)       147584    \n",
      "_________________________________________________________________\n",
      "block2_pool (MaxPooling2D)   (None, 37, 37, 128)       0         \n",
      "_________________________________________________________________\n",
      "block3_conv1 (Conv2D)        (None, 37, 37, 256)       295168    \n",
      "_________________________________________________________________\n",
      "block3_conv2 (Conv2D)        (None, 37, 37, 256)       590080    \n",
      "_________________________________________________________________\n",
      "block3_conv3 (Conv2D)        (None, 37, 37, 256)       590080    \n",
      "_________________________________________________________________\n",
      "block3_pool (MaxPooling2D)   (None, 18, 18, 256)       0         \n",
      "_________________________________________________________________\n",
      "block4_conv1 (Conv2D)        (None, 18, 18, 512)       1180160   \n",
      "_________________________________________________________________\n",
      "block4_conv2 (Conv2D)        (None, 18, 18, 512)       2359808   \n",
      "_________________________________________________________________\n",
      "block4_conv3 (Conv2D)        (None, 18, 18, 512)       2359808   \n",
      "_________________________________________________________________\n",
      "block4_pool (MaxPooling2D)   (None, 9, 9, 512)         0         \n",
      "_________________________________________________________________\n",
      "block5_conv1 (Conv2D)        (None, 9, 9, 512)         2359808   \n",
      "_________________________________________________________________\n",
      "block5_conv2 (Conv2D)        (None, 9, 9, 512)         2359808   \n",
      "_________________________________________________________________\n",
      "block5_conv3 (Conv2D)        (None, 9, 9, 512)         2359808   \n",
      "_________________________________________________________________\n",
      "block5_pool (MaxPooling2D)   (None, 4, 4, 512)         0         \n",
      "=================================================================\n",
      "Total params: 14,714,688\n",
      "Trainable params: 14,714,688\n",
      "Non-trainable params: 0\n",
      "_________________________________________________________________\n"
     ]
    }
   ],
   "source": [
    "conv_base = base_model.get_layer('vgg16')\n",
    "conv_base.summary()"
   ]
  },
  {
   "cell_type": "code",
   "execution_count": 3,
   "metadata": {},
   "outputs": [
    {
     "name": "stdout",
     "output_type": "stream",
     "text": [
      "_________________________________________________________________\n",
      "Layer (type)                 Output Shape              Param #   \n",
      "=================================================================\n",
      "input_1 (InputLayer)         (None, 150, 150, 3)       0         \n",
      "_________________________________________________________________\n",
      "block1_conv1 (Conv2D)        (None, 150, 150, 64)      1792      \n",
      "_________________________________________________________________\n",
      "block1_conv2 (Conv2D)        (None, 150, 150, 64)      36928     \n",
      "_________________________________________________________________\n",
      "block1_pool (MaxPooling2D)   (None, 75, 75, 64)        0         \n",
      "_________________________________________________________________\n",
      "block2_conv1 (Conv2D)        (None, 75, 75, 128)       73856     \n",
      "_________________________________________________________________\n",
      "block2_conv2 (Conv2D)        (None, 75, 75, 128)       147584    \n",
      "_________________________________________________________________\n",
      "block2_pool (MaxPooling2D)   (None, 37, 37, 128)       0         \n",
      "_________________________________________________________________\n",
      "block3_conv1 (Conv2D)        (None, 37, 37, 256)       295168    \n",
      "_________________________________________________________________\n",
      "block3_conv2 (Conv2D)        (None, 37, 37, 256)       590080    \n",
      "_________________________________________________________________\n",
      "block3_conv3 (Conv2D)        (None, 37, 37, 256)       590080    \n",
      "_________________________________________________________________\n",
      "block3_pool (MaxPooling2D)   (None, 18, 18, 256)       0         \n",
      "_________________________________________________________________\n",
      "block4_conv1 (Conv2D)        (None, 18, 18, 512)       1180160   \n",
      "_________________________________________________________________\n",
      "block4_conv2 (Conv2D)        (None, 18, 18, 512)       2359808   \n",
      "_________________________________________________________________\n",
      "block4_conv3 (Conv2D)        (None, 18, 18, 512)       2359808   \n",
      "_________________________________________________________________\n",
      "block4_pool (MaxPooling2D)   (None, 9, 9, 512)         0         \n",
      "_________________________________________________________________\n",
      "block5_conv1 (Conv2D)        (None, 9, 9, 512)         2359808   \n",
      "_________________________________________________________________\n",
      "block5_conv2 (Conv2D)        (None, 9, 9, 512)         2359808   \n",
      "_________________________________________________________________\n",
      "block5_conv3 (Conv2D)        (None, 9, 9, 512)         2359808   \n",
      "_________________________________________________________________\n",
      "block5_pool (MaxPooling2D)   (None, 4, 4, 512)         0         \n",
      "=================================================================\n",
      "Total params: 14,714,688\n",
      "Trainable params: 7,079,424\n",
      "Non-trainable params: 7,635,264\n",
      "_________________________________________________________________\n"
     ]
    }
   ],
   "source": [
    "conv_base.trainable = True\n",
    "\n",
    "set_trainable = False\n",
    "for layer in conv_base.layers:\n",
    "    if layer.name == 'block5_conv1':\n",
    "        set_trainable = True\n",
    "    if set_trainable:\n",
    "        layer.trainable = True\n",
    "    else:\n",
    "        layer.trainable = False\n",
    "\n",
    "conv_base.summary()"
   ]
  },
  {
   "cell_type": "code",
   "execution_count": 4,
   "metadata": {},
   "outputs": [],
   "source": [
    "from keras import optimizers\n",
    "\n",
    "# Reduce a learning rate to update little by little.\n",
    "base_model.compile(loss='binary_crossentropy',\n",
    "                   optimizer=optimizers.RMSprop(lr=1e-5),\n",
    "                   metrics=['acc'])"
   ]
  },
  {
   "cell_type": "code",
   "execution_count": 5,
   "metadata": {},
   "outputs": [
    {
     "name": "stdout",
     "output_type": "stream",
     "text": [
      "_________________________________________________________________\n",
      "Layer (type)                 Output Shape              Param #   \n",
      "=================================================================\n",
      "vgg16 (Model)                (None, 4, 4, 512)         14714688  \n",
      "_________________________________________________________________\n",
      "flatten_1 (Flatten)          (None, 8192)              0         \n",
      "_________________________________________________________________\n",
      "dense_1 (Dense)              (None, 256)               2097408   \n",
      "_________________________________________________________________\n",
      "dense_2 (Dense)              (None, 1)                 257       \n",
      "=================================================================\n",
      "Total params: 16,812,353\n",
      "Trainable params: 9,177,089\n",
      "Non-trainable params: 7,635,264\n",
      "_________________________________________________________________\n"
     ]
    }
   ],
   "source": [
    "base_model.summary()"
   ]
  },
  {
   "cell_type": "code",
   "execution_count": 6,
   "metadata": {},
   "outputs": [],
   "source": [
    "from keras.preprocessing.image import ImageDataGenerator\n",
    "\n",
    "# Augmented samples generator.\n",
    "train_datagen = ImageDataGenerator(rescale=1./255,\n",
    "                                   rotation_range=40,\n",
    "                                   width_shift_range=0.2,\n",
    "                                   height_shift_range=0.2,\n",
    "                                   shear_range=0.2,\n",
    "                                   zoom_range=0.2,\n",
    "                                   horizontal_flip=True,\n",
    "                                   fill_mode='nearest')\n",
    "\n",
    "# Test and validation dataset must keep integrity.\n",
    "validation_datagen = ImageDataGenerator(rescale=1./255)"
   ]
  },
  {
   "cell_type": "code",
   "execution_count": 7,
   "metadata": {},
   "outputs": [],
   "source": [
    "import os\n",
    "\n",
    "dataset_dir = '/home/guhwanbae/workspace/machine-learning/resource/cats-and-dogs-small'\n",
    "train_dir = os.path.join(dataset_dir, 'train')\n",
    "validation_dir = os.path.join(dataset_dir, 'validation')\n",
    "test_dir = os.path.join(dataset_dir, 'test')"
   ]
  },
  {
   "cell_type": "code",
   "execution_count": 8,
   "metadata": {},
   "outputs": [
    {
     "name": "stdout",
     "output_type": "stream",
     "text": [
      "Found 2000 images belonging to 2 classes.\n",
      "Found 1000 images belonging to 2 classes.\n"
     ]
    }
   ],
   "source": [
    "input_shape = (150, 150)\n",
    "\n",
    "# Make labels.\n",
    "train_generator = train_datagen.flow_from_directory(train_dir,\n",
    "                                                    target_size=input_shape,\n",
    "                                                    batch_size=20,\n",
    "                                                    class_mode='binary')\n",
    "validation_generator = validation_datagen.flow_from_directory(validation_dir,\n",
    "                                                              target_size=input_shape,\n",
    "                                                              batch_size=20,\n",
    "                                                              class_mode='binary')"
   ]
  },
  {
   "cell_type": "code",
   "execution_count": 9,
   "metadata": {},
   "outputs": [
    {
     "name": "stdout",
     "output_type": "stream",
     "text": [
      "Epoch 1/100\n",
      "100/100 [==============================] - 30s 299ms/step - loss: 0.2870 - acc: 0.8800 - val_loss: 0.2331 - val_acc: 0.9100\n",
      "Epoch 2/100\n",
      "100/100 [==============================] - 27s 266ms/step - loss: 0.2580 - acc: 0.8970 - val_loss: 0.2171 - val_acc: 0.9200\n",
      "Epoch 3/100\n",
      "100/100 [==============================] - 27s 266ms/step - loss: 0.2151 - acc: 0.8975 - val_loss: 0.2188 - val_acc: 0.9220\n",
      "Epoch 4/100\n",
      "100/100 [==============================] - 27s 266ms/step - loss: 0.2102 - acc: 0.9125 - val_loss: 0.2068 - val_acc: 0.9230\n",
      "Epoch 5/100\n",
      "100/100 [==============================] - 27s 266ms/step - loss: 0.2149 - acc: 0.9135 - val_loss: 0.2397 - val_acc: 0.9050\n",
      "Epoch 6/100\n",
      "100/100 [==============================] - 27s 266ms/step - loss: 0.1989 - acc: 0.9205 - val_loss: 0.2928 - val_acc: 0.8890\n",
      "Epoch 7/100\n",
      "100/100 [==============================] - 27s 266ms/step - loss: 0.1827 - acc: 0.9290 - val_loss: 0.2061 - val_acc: 0.9170\n",
      "Epoch 8/100\n",
      "100/100 [==============================] - 27s 265ms/step - loss: 0.1527 - acc: 0.9380 - val_loss: 0.2186 - val_acc: 0.9200\n",
      "Epoch 9/100\n",
      "100/100 [==============================] - 27s 265ms/step - loss: 0.1647 - acc: 0.9315 - val_loss: 0.1805 - val_acc: 0.9280\n",
      "Epoch 10/100\n",
      "100/100 [==============================] - 27s 266ms/step - loss: 0.1633 - acc: 0.9325 - val_loss: 0.1859 - val_acc: 0.9330\n",
      "Epoch 11/100\n",
      "100/100 [==============================] - 27s 267ms/step - loss: 0.1471 - acc: 0.9415 - val_loss: 0.1836 - val_acc: 0.9370\n",
      "Epoch 12/100\n",
      "100/100 [==============================] - 27s 267ms/step - loss: 0.1322 - acc: 0.9485 - val_loss: 0.1778 - val_acc: 0.9370\n",
      "Epoch 13/100\n",
      "100/100 [==============================] - 27s 267ms/step - loss: 0.1346 - acc: 0.9425 - val_loss: 0.1740 - val_acc: 0.9360\n",
      "Epoch 14/100\n",
      "100/100 [==============================] - 27s 267ms/step - loss: 0.1420 - acc: 0.9460 - val_loss: 0.1966 - val_acc: 0.9270\n",
      "Epoch 15/100\n",
      "100/100 [==============================] - 27s 267ms/step - loss: 0.1220 - acc: 0.9610 - val_loss: 0.1813 - val_acc: 0.9340\n",
      "Epoch 16/100\n",
      "100/100 [==============================] - 27s 267ms/step - loss: 0.1271 - acc: 0.9510 - val_loss: 0.1657 - val_acc: 0.9380\n",
      "Epoch 17/100\n",
      "100/100 [==============================] - 27s 267ms/step - loss: 0.1134 - acc: 0.9590 - val_loss: 0.2018 - val_acc: 0.9330\n",
      "Epoch 18/100\n",
      "100/100 [==============================] - 27s 267ms/step - loss: 0.1035 - acc: 0.9585 - val_loss: 0.1759 - val_acc: 0.9350\n",
      "Epoch 19/100\n",
      "100/100 [==============================] - 27s 267ms/step - loss: 0.0967 - acc: 0.9615 - val_loss: 0.1822 - val_acc: 0.9350\n",
      "Epoch 20/100\n",
      "100/100 [==============================] - 27s 267ms/step - loss: 0.0937 - acc: 0.9610 - val_loss: 0.2050 - val_acc: 0.9310\n",
      "Epoch 21/100\n",
      "100/100 [==============================] - 27s 266ms/step - loss: 0.0911 - acc: 0.9650 - val_loss: 0.1790 - val_acc: 0.9330\n",
      "Epoch 22/100\n",
      "100/100 [==============================] - 27s 266ms/step - loss: 0.0937 - acc: 0.9630 - val_loss: 0.1781 - val_acc: 0.9360\n",
      "Epoch 23/100\n",
      "100/100 [==============================] - 27s 266ms/step - loss: 0.0904 - acc: 0.9625 - val_loss: 0.2034 - val_acc: 0.9340\n",
      "Epoch 24/100\n",
      "100/100 [==============================] - 27s 266ms/step - loss: 0.0799 - acc: 0.9680 - val_loss: 0.1876 - val_acc: 0.9340\n",
      "Epoch 25/100\n",
      "100/100 [==============================] - 27s 267ms/step - loss: 0.0855 - acc: 0.9650 - val_loss: 0.1861 - val_acc: 0.9310\n",
      "Epoch 26/100\n",
      "100/100 [==============================] - 27s 267ms/step - loss: 0.0795 - acc: 0.9670 - val_loss: 0.1783 - val_acc: 0.9350\n",
      "Epoch 27/100\n",
      "100/100 [==============================] - 27s 267ms/step - loss: 0.0694 - acc: 0.9735 - val_loss: 0.1715 - val_acc: 0.9410\n",
      "Epoch 28/100\n",
      "100/100 [==============================] - 27s 267ms/step - loss: 0.0764 - acc: 0.9760 - val_loss: 0.1791 - val_acc: 0.9370\n",
      "Epoch 29/100\n",
      "100/100 [==============================] - 27s 267ms/step - loss: 0.0751 - acc: 0.9735 - val_loss: 0.1659 - val_acc: 0.9370\n",
      "Epoch 30/100\n",
      "100/100 [==============================] - 27s 267ms/step - loss: 0.0648 - acc: 0.9755 - val_loss: 0.1899 - val_acc: 0.9320\n",
      "Epoch 31/100\n",
      "100/100 [==============================] - 27s 267ms/step - loss: 0.0590 - acc: 0.9785 - val_loss: 0.2204 - val_acc: 0.9340\n",
      "Epoch 32/100\n",
      "100/100 [==============================] - 27s 267ms/step - loss: 0.0647 - acc: 0.9805 - val_loss: 0.2098 - val_acc: 0.9340\n",
      "Epoch 33/100\n",
      "100/100 [==============================] - 27s 267ms/step - loss: 0.0738 - acc: 0.9720 - val_loss: 0.3628 - val_acc: 0.9050\n",
      "Epoch 34/100\n",
      "100/100 [==============================] - 27s 267ms/step - loss: 0.0657 - acc: 0.9735 - val_loss: 0.1916 - val_acc: 0.9320\n",
      "Epoch 35/100\n",
      "100/100 [==============================] - 27s 274ms/step - loss: 0.0603 - acc: 0.9775 - val_loss: 0.1988 - val_acc: 0.9350\n",
      "Epoch 36/100\n",
      "100/100 [==============================] - 26s 264ms/step - loss: 0.0640 - acc: 0.9750 - val_loss: 0.2151 - val_acc: 0.9360\n",
      "Epoch 37/100\n",
      "100/100 [==============================] - 26s 263ms/step - loss: 0.0499 - acc: 0.9815 - val_loss: 0.2249 - val_acc: 0.9380\n",
      "Epoch 38/100\n",
      "100/100 [==============================] - 26s 264ms/step - loss: 0.0595 - acc: 0.9770 - val_loss: 0.1956 - val_acc: 0.9360\n",
      "Epoch 39/100\n",
      "100/100 [==============================] - 26s 263ms/step - loss: 0.0553 - acc: 0.9780 - val_loss: 0.1994 - val_acc: 0.9340\n",
      "Epoch 40/100\n",
      "100/100 [==============================] - 26s 263ms/step - loss: 0.0366 - acc: 0.9880 - val_loss: 0.3971 - val_acc: 0.9120\n",
      "Epoch 41/100\n",
      "100/100 [==============================] - 26s 264ms/step - loss: 0.0507 - acc: 0.9795 - val_loss: 0.2134 - val_acc: 0.9310\n",
      "Epoch 42/100\n",
      "100/100 [==============================] - 26s 263ms/step - loss: 0.0496 - acc: 0.9805 - val_loss: 0.2565 - val_acc: 0.9250\n",
      "Epoch 43/100\n",
      "100/100 [==============================] - 26s 264ms/step - loss: 0.0517 - acc: 0.9775 - val_loss: 0.2090 - val_acc: 0.9360\n",
      "Epoch 44/100\n",
      "100/100 [==============================] - 26s 264ms/step - loss: 0.0448 - acc: 0.9825 - val_loss: 0.2537 - val_acc: 0.9270\n",
      "Epoch 45/100\n",
      "100/100 [==============================] - 26s 264ms/step - loss: 0.0616 - acc: 0.9800 - val_loss: 0.2036 - val_acc: 0.9430\n",
      "Epoch 46/100\n",
      "100/100 [==============================] - 26s 264ms/step - loss: 0.0346 - acc: 0.9885 - val_loss: 0.2508 - val_acc: 0.9330\n",
      "Epoch 47/100\n",
      "100/100 [==============================] - 26s 263ms/step - loss: 0.0399 - acc: 0.9850 - val_loss: 0.2215 - val_acc: 0.9390\n",
      "Epoch 48/100\n",
      "100/100 [==============================] - 26s 264ms/step - loss: 0.0395 - acc: 0.9845 - val_loss: 0.2464 - val_acc: 0.9370\n",
      "Epoch 49/100\n",
      "100/100 [==============================] - 26s 264ms/step - loss: 0.0345 - acc: 0.9890 - val_loss: 0.2303 - val_acc: 0.9410\n",
      "Epoch 50/100\n",
      "100/100 [==============================] - 26s 263ms/step - loss: 0.0498 - acc: 0.9800 - val_loss: 0.2049 - val_acc: 0.9420\n",
      "Epoch 51/100\n",
      "100/100 [==============================] - 26s 263ms/step - loss: 0.0346 - acc: 0.9855 - val_loss: 0.2043 - val_acc: 0.9380\n",
      "Epoch 52/100\n",
      "100/100 [==============================] - 26s 264ms/step - loss: 0.0448 - acc: 0.9830 - val_loss: 0.2139 - val_acc: 0.9380\n",
      "Epoch 53/100\n",
      "100/100 [==============================] - 28s 275ms/step - loss: 0.0364 - acc: 0.9865 - val_loss: 0.2302 - val_acc: 0.9470\n",
      "Epoch 54/100\n",
      "100/100 [==============================] - 27s 272ms/step - loss: 0.0333 - acc: 0.9895 - val_loss: 0.2212 - val_acc: 0.9380\n",
      "Epoch 55/100\n",
      "100/100 [==============================] - 27s 272ms/step - loss: 0.0427 - acc: 0.9845 - val_loss: 0.2017 - val_acc: 0.9390\n",
      "Epoch 56/100\n",
      "100/100 [==============================] - 27s 273ms/step - loss: 0.0352 - acc: 0.9880 - val_loss: 0.3029 - val_acc: 0.9310\n",
      "Epoch 57/100\n",
      "100/100 [==============================] - 27s 273ms/step - loss: 0.0302 - acc: 0.9900 - val_loss: 0.2186 - val_acc: 0.9350\n",
      "Epoch 58/100\n",
      "100/100 [==============================] - 27s 273ms/step - loss: 0.0370 - acc: 0.9890 - val_loss: 0.2080 - val_acc: 0.9460\n",
      "Epoch 59/100\n",
      "100/100 [==============================] - 27s 273ms/step - loss: 0.0380 - acc: 0.9860 - val_loss: 0.2337 - val_acc: 0.9330\n",
      "Epoch 60/100\n",
      "100/100 [==============================] - 27s 272ms/step - loss: 0.0439 - acc: 0.9855 - val_loss: 0.2081 - val_acc: 0.9370\n"
     ]
    },
    {
     "name": "stdout",
     "output_type": "stream",
     "text": [
      "Epoch 61/100\n",
      "100/100 [==============================] - 27s 267ms/step - loss: 0.0280 - acc: 0.9920 - val_loss: 0.2273 - val_acc: 0.9390\n",
      "Epoch 62/100\n",
      "100/100 [==============================] - 27s 267ms/step - loss: 0.0338 - acc: 0.9890 - val_loss: 0.2543 - val_acc: 0.9400\n",
      "Epoch 63/100\n",
      "100/100 [==============================] - 27s 266ms/step - loss: 0.0268 - acc: 0.9915 - val_loss: 0.3743 - val_acc: 0.9260\n",
      "Epoch 64/100\n",
      "100/100 [==============================] - 27s 266ms/step - loss: 0.0302 - acc: 0.9885 - val_loss: 0.2407 - val_acc: 0.9440\n",
      "Epoch 65/100\n",
      "100/100 [==============================] - 27s 267ms/step - loss: 0.0388 - acc: 0.9875 - val_loss: 0.2325 - val_acc: 0.9340\n",
      "Epoch 66/100\n",
      "100/100 [==============================] - 27s 266ms/step - loss: 0.0367 - acc: 0.9840 - val_loss: 0.2297 - val_acc: 0.9420\n",
      "Epoch 67/100\n",
      "100/100 [==============================] - 27s 267ms/step - loss: 0.0292 - acc: 0.9895 - val_loss: 0.2468 - val_acc: 0.9370\n",
      "Epoch 68/100\n",
      "100/100 [==============================] - 27s 267ms/step - loss: 0.0258 - acc: 0.9920 - val_loss: 0.2250 - val_acc: 0.9410\n",
      "Epoch 69/100\n",
      "100/100 [==============================] - 27s 267ms/step - loss: 0.0213 - acc: 0.9915 - val_loss: 0.2697 - val_acc: 0.9400\n",
      "Epoch 70/100\n",
      "100/100 [==============================] - 27s 267ms/step - loss: 0.0237 - acc: 0.9915 - val_loss: 0.2980 - val_acc: 0.9380\n",
      "Epoch 71/100\n",
      "100/100 [==============================] - 27s 266ms/step - loss: 0.0270 - acc: 0.9930 - val_loss: 0.2395 - val_acc: 0.9390\n",
      "Epoch 72/100\n",
      "100/100 [==============================] - 27s 267ms/step - loss: 0.0272 - acc: 0.9895 - val_loss: 0.2395 - val_acc: 0.9400\n",
      "Epoch 73/100\n",
      "100/100 [==============================] - 27s 266ms/step - loss: 0.0243 - acc: 0.9915 - val_loss: 0.2113 - val_acc: 0.9380\n",
      "Epoch 74/100\n",
      "100/100 [==============================] - 27s 267ms/step - loss: 0.0191 - acc: 0.9915 - val_loss: 0.2294 - val_acc: 0.9360\n",
      "Epoch 75/100\n",
      "100/100 [==============================] - 27s 267ms/step - loss: 0.0253 - acc: 0.9935 - val_loss: 0.2727 - val_acc: 0.9350\n",
      "Epoch 76/100\n",
      "100/100 [==============================] - 27s 267ms/step - loss: 0.0311 - acc: 0.9890 - val_loss: 0.2943 - val_acc: 0.9320\n",
      "Epoch 77/100\n",
      "100/100 [==============================] - 27s 266ms/step - loss: 0.0247 - acc: 0.9890 - val_loss: 0.2496 - val_acc: 0.9360\n",
      "Epoch 78/100\n",
      "100/100 [==============================] - 27s 266ms/step - loss: 0.0228 - acc: 0.9920 - val_loss: 0.2928 - val_acc: 0.9320\n",
      "Epoch 79/100\n",
      "100/100 [==============================] - 27s 267ms/step - loss: 0.0247 - acc: 0.9925 - val_loss: 0.2558 - val_acc: 0.9320\n",
      "Epoch 80/100\n",
      "100/100 [==============================] - 27s 267ms/step - loss: 0.0280 - acc: 0.9920 - val_loss: 0.2923 - val_acc: 0.9300\n",
      "Epoch 81/100\n",
      "100/100 [==============================] - 27s 267ms/step - loss: 0.0200 - acc: 0.9945 - val_loss: 0.2187 - val_acc: 0.9480\n",
      "Epoch 82/100\n",
      "100/100 [==============================] - 27s 266ms/step - loss: 0.0215 - acc: 0.9925 - val_loss: 0.2266 - val_acc: 0.9450\n",
      "Epoch 83/100\n",
      "100/100 [==============================] - 27s 267ms/step - loss: 0.0216 - acc: 0.9910 - val_loss: 0.2590 - val_acc: 0.9460\n",
      "Epoch 84/100\n",
      "100/100 [==============================] - 27s 267ms/step - loss: 0.0307 - acc: 0.9880 - val_loss: 0.2208 - val_acc: 0.9420\n",
      "Epoch 85/100\n",
      "100/100 [==============================] - 27s 267ms/step - loss: 0.0229 - acc: 0.9930 - val_loss: 0.2848 - val_acc: 0.9340\n",
      "Epoch 86/100\n",
      "100/100 [==============================] - 27s 266ms/step - loss: 0.0253 - acc: 0.9910 - val_loss: 0.2334 - val_acc: 0.9380\n",
      "Epoch 87/100\n",
      "100/100 [==============================] - 27s 274ms/step - loss: 0.0148 - acc: 0.9940 - val_loss: 0.2325 - val_acc: 0.9370\n",
      "Epoch 88/100\n",
      "100/100 [==============================] - 26s 264ms/step - loss: 0.0195 - acc: 0.9920 - val_loss: 0.3240 - val_acc: 0.9310\n",
      "Epoch 89/100\n",
      "100/100 [==============================] - 26s 264ms/step - loss: 0.0215 - acc: 0.9910 - val_loss: 0.2696 - val_acc: 0.9380\n",
      "Epoch 90/100\n",
      "100/100 [==============================] - 26s 264ms/step - loss: 0.0178 - acc: 0.9935 - val_loss: 0.3186 - val_acc: 0.9310\n",
      "Epoch 91/100\n",
      "100/100 [==============================] - 26s 263ms/step - loss: 0.0218 - acc: 0.9910 - val_loss: 0.2589 - val_acc: 0.9400\n",
      "Epoch 92/100\n",
      "100/100 [==============================] - 26s 263ms/step - loss: 0.0187 - acc: 0.9935 - val_loss: 0.2567 - val_acc: 0.9390\n",
      "Epoch 93/100\n",
      "100/100 [==============================] - 26s 264ms/step - loss: 0.0177 - acc: 0.9960 - val_loss: 0.2664 - val_acc: 0.9380\n",
      "Epoch 94/100\n",
      "100/100 [==============================] - 26s 264ms/step - loss: 0.0211 - acc: 0.9910 - val_loss: 0.2451 - val_acc: 0.9390\n",
      "Epoch 95/100\n",
      "100/100 [==============================] - 26s 263ms/step - loss: 0.0202 - acc: 0.9920 - val_loss: 0.2659 - val_acc: 0.9350\n",
      "Epoch 96/100\n",
      "100/100 [==============================] - 26s 263ms/step - loss: 0.0182 - acc: 0.9940 - val_loss: 0.5265 - val_acc: 0.9110\n",
      "Epoch 97/100\n",
      "100/100 [==============================] - 26s 263ms/step - loss: 0.0179 - acc: 0.9920 - val_loss: 0.3163 - val_acc: 0.9390\n",
      "Epoch 98/100\n",
      "100/100 [==============================] - 26s 263ms/step - loss: 0.0105 - acc: 0.9980 - val_loss: 0.3023 - val_acc: 0.9400\n",
      "Epoch 99/100\n",
      "100/100 [==============================] - 26s 263ms/step - loss: 0.0193 - acc: 0.9945 - val_loss: 0.4126 - val_acc: 0.9290\n",
      "Epoch 100/100\n",
      "100/100 [==============================] - 26s 263ms/step - loss: 0.0166 - acc: 0.9935 - val_loss: 0.4600 - val_acc: 0.9300\n"
     ]
    }
   ],
   "source": [
    "history = base_model.fit_generator(train_generator,\n",
    "                                   steps_per_epoch=100,\n",
    "                                   epochs=100,\n",
    "                                   validation_data=validation_generator,\n",
    "                                   validation_steps=50)"
   ]
  },
  {
   "cell_type": "code",
   "execution_count": 10,
   "metadata": {},
   "outputs": [],
   "source": [
    "base_model.save('dogs_and_cats_vgg16_fine_tuning_2.h5')"
   ]
  },
  {
   "cell_type": "code",
   "execution_count": 14,
   "metadata": {},
   "outputs": [
    {
     "data": {
      "image/png": "[encoded data removed]",
      "text/plain": [
       "<Figure size 432x288 with 1 Axes>"
      ]
     },
     "metadata": {
      "needs_background": "light"
     },
     "output_type": "display_data"
    }
   ],
   "source": [
    "import numpy as np\n",
    "import matplotlib.pyplot as plt\n",
    "\n",
    "acc = history.history['acc']\n",
    "val_acc = history.history['val_acc']\n",
    "loss = history.history['loss']\n",
    "val_loss = history.history['val_loss']\n",
    "\n",
    "epochs = np.arange(len(acc)) + 1\n",
    "\n",
    "plt.figure('Accuracy')\n",
    "plt.title('Training and validation accuracy')\n",
    "plt.plot(epochs, acc, color='b', label='Training accuracy')\n",
    "plt.plot(epochs, val_acc, color='r', label='Valdiation accuracy')\n",
    "plt.legend()\n",
    "plt.grid()\n",
    "plt.show()"
   ]
  },
  {
   "cell_type": "code",
   "execution_count": 15,
   "metadata": {},
   "outputs": [
    {
     "data": {
      "image/png": "[encoded data removed]",
      "text/plain": [
       "<Figure size 432x288 with 1 Axes>"
      ]
     },
     "metadata": {
      "needs_background": "light"
     },
     "output_type": "display_data"
    }
   ],
   "source": [
    "plt.figure('Loss')\n",
    "plt.title('Training and validation loss')\n",
    "plt.plot(epochs, loss, color='b', label='Training loss')\n",
    "plt.plot(epochs, val_loss, color='r', label='Valdiation loss')\n",
    "plt.legend()\n",
    "plt.grid()\n",
    "plt.show()"
   ]
  },
  {
   "cell_type": "code",
   "execution_count": 19,
   "metadata": {},
   "outputs": [],
   "source": [
    "def smooth_curve(points, factor=0.8):\n",
    "    smoothed = []\n",
    "    for p in points:\n",
    "        if smoothed:\n",
    "            prev = smoothed[-1]\n",
    "            smoothed.append(prev*factor + p*(1-factor))\n",
    "        else:\n",
    "            smoothed.append(p)\n",
    "    return smoothed"
   ]
  },
  {
   "cell_type": "code",
   "execution_count": 20,
   "metadata": {},
   "outputs": [
    {
     "data": {
      "image/png": "[encoded data removed]",
      "text/plain": [
       "<Figure size 432x288 with 1 Axes>"
      ]
     },
     "metadata": {
      "needs_background": "light"
     },
     "output_type": "display_data"
    }
   ],
   "source": [
    "plt.figure('Smoothing accuracy')\n",
    "plt.title('Training and validation accuracy')\n",
    "plt.plot(epochs, smooth_curve(acc), color='b', label='Training accuracy')\n",
    "plt.plot(epochs, smooth_curve(val_acc), color='r', label='Valdiation accuracy')\n",
    "plt.legend()\n",
    "plt.grid()\n",
    "plt.show()"
   ]
  },
  {
   "cell_type": "code",
   "execution_count": 21,
   "metadata": {},
   "outputs": [
    {
     "data": {
      "image/png": "[encoded data removed]",
      "text/plain": [
       "<Figure size 432x288 with 1 Axes>"
      ]
     },
     "metadata": {
      "needs_background": "light"
     },
     "output_type": "display_data"
    }
   ],
   "source": [
    "plt.figure('Smoothing loss')\n",
    "plt.title('Training and validation loss')\n",
    "plt.plot(epochs, smooth_curve(loss), color='b', label='Training loss')\n",
    "plt.plot(epochs, smooth_curve(val_loss), color='r', label='Valdiation loss')\n",
    "plt.legend()\n",
    "plt.grid()\n",
    "plt.show()"
   ]
  },
  {
   "cell_type": "code",
   "execution_count": null,
   "metadata": {},
   "outputs": [],
   "source": []
  }
 ],
 "metadata": {
  "kernelspec": {
   "display_name": "Python gu-keras",
   "language": "python",
   "name": "gu-keras"
  },
  "language_info": {
   "codemirror_mode": {
    "name": "ipython",
    "version": 3
   },
   "file_extension": ".py",
   "mimetype": "text/x-python",
   "name": "python",
   "nbconvert_exporter": "python",
   "pygments_lexer": "ipython3",
   "version": "3.6.8"
  }
 },
 "nbformat": 4,
 "nbformat_minor": 2
}
