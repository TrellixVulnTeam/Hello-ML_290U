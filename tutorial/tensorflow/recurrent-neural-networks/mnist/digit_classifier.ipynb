{
 "cells": [
  {
   "cell_type": "code",
   "execution_count": 1,
   "metadata": {
    "scrolled": false
   },
   "outputs": [],
   "source": [
    "import tensorflow as tf\n",
    "import numpy as np\n",
    "\n",
    "n_steps, n_features = (28, 28)\n",
    "n_neurons = 150\n",
    "n_classes = 10\n",
    "\n",
    "lr = 1e-3  # Learning rate\n",
    "\n",
    "X = tf.placeholder(tf.float32, [None, n_steps, n_features])  # Samples\n",
    "y = tf.placeholder(tf.int32, [None])  # Labels\n",
    "\n",
    "# RNN layers\n",
    "basic_cell = tf.nn.rnn_cell.BasicRNNCell(num_units=n_neurons)\n",
    "outpus, states = tf.nn.dynamic_rnn(basic_cell, X, dtype=tf.float32)\n",
    "\n",
    "# Classifier layers\n",
    "logits = tf.layers.dense(states, n_classes)\n",
    "xentropy = tf.nn.sparse_softmax_cross_entropy_with_logits(labels=y, logits=logits)\n",
    "\n",
    "# Cost module\n",
    "loss = tf.reduce_mean(xentropy)\n",
    "optimizer = tf.train.AdamOptimizer(learning_rate=lr)\n",
    "training_op = optimizer.minimize(loss)\n",
    "correct = tf.nn.in_top_k(logits, y, 1)\n",
    "accuracy = tf.reduce_mean(tf.cast(correct, tf.float32))\n",
    "\n",
    "init = tf.global_variables_initializer()"
   ]
  },
  {
   "cell_type": "code",
   "execution_count": 2,
   "metadata": {},
   "outputs": [],
   "source": [
    "preprocess = lambda x: x.astype(np.float32).reshape(-1, 28*28) / 255.0\n",
    "\n",
    "(X_train, y_train), (X_test, y_test) = tf.keras.datasets.mnist.load_data()\n",
    "X_train = preprocess(X_train)\n",
    "X_test = preprocess(X_test)\n",
    "y_train = y_train.astype(np.int32)\n",
    "y_test = y_test.astype(np.int32)"
   ]
  },
  {
   "cell_type": "code",
   "execution_count": 3,
   "metadata": {},
   "outputs": [],
   "source": [
    "from sklearn.preprocessing import StandardScaler\n",
    "\n",
    "scaler = StandardScaler()\n",
    "X_train = scaler.fit_transform(X_train)\n",
    "X_test = scaler.transform(X_test)\n",
    "\n",
    "X_train = X_train.reshape((-1, n_steps, n_features))\n",
    "X_test = X_test.reshape((-1, n_steps, n_features))\n",
    "\n",
    "n_validation = 5000\n",
    "X_valid, X_train = X_train[:n_validation], X_train[n_validation:]\n",
    "y_valid, y_train = y_train[:n_validation], y_train[n_validation:]"
   ]
  },
  {
   "cell_type": "code",
   "execution_count": 4,
   "metadata": {},
   "outputs": [],
   "source": [
    "def shuffle_batch(X, y, batch_size=150):\n",
    "    n_samples = len(X)\n",
    "    rand_idx = np.random.permutation(n_samples)\n",
    "    n_batches = n_samples // batch_size\n",
    "    for batch_idx in np.array_split(rand_idx, n_batches):\n",
    "        X_batch, y_batch = X[batch_idx], y[batch_idx]\n",
    "        yield X_batch, y_batch"
   ]
  },
  {
   "cell_type": "code",
   "execution_count": 5,
   "metadata": {
    "scrolled": false
   },
   "outputs": [
    {
     "name": "stdout",
     "output_type": "stream",
     "text": [
      "epoch=0, time=6.05780 s\n",
      "acc_train=0.85679, acc_val=0.92980\n",
      "epoch=1, time=5.77460 s\n",
      "acc_train=0.94643, acc_val=0.94400\n",
      "epoch=2, time=5.90218 s\n",
      "acc_train=0.95648, acc_val=0.95680\n",
      "epoch=3, time=5.94113 s\n",
      "acc_train=0.96638, acc_val=0.96600\n",
      "epoch=4, time=5.90054 s\n",
      "acc_train=0.97025, acc_val=0.97060\n",
      "epoch=5, time=5.90339 s\n",
      "acc_train=0.97546, acc_val=0.96600\n",
      "epoch=6, time=5.75915 s\n",
      "acc_train=0.97637, acc_val=0.97140\n",
      "epoch=7, time=5.72848 s\n",
      "acc_train=0.97734, acc_val=0.96600\n",
      "epoch=8, time=5.71836 s\n",
      "acc_train=0.98053, acc_val=0.97300\n",
      "epoch=9, time=5.72302 s\n",
      "acc_train=0.98191, acc_val=0.96620\n"
     ]
    }
   ],
   "source": [
    "import time\n",
    "\n",
    "n_epochs = 10\n",
    "\n",
    "history_acc_train = []\n",
    "history_acc_val = []\n",
    "\n",
    "with tf.Session() as sess:\n",
    "    init.run()\n",
    "    for epoch in range(n_epochs):\n",
    "        start = time.time()\n",
    "        acc_batch = []\n",
    "        for X_batch, y_batch in shuffle_batch(X_train, y_train):\n",
    "            sess.run(training_op, feed_dict={X: X_batch, y: y_batch})\n",
    "            acc_batch.append(accuracy.eval(feed_dict={X: X_batch, y: y_batch}))\n",
    "        end = time.time()\n",
    "        print('epoch={}, time={:1.5f} s'.format(epoch, (end-start)))\n",
    "        acc_train = np.mean(acc_batch, axis=0)\n",
    "        acc_val = accuracy.eval(feed_dict={X: X_valid, y: y_valid})\n",
    "        history_acc_train.append(acc_train)\n",
    "        history_acc_val.append(acc_val)\n",
    "        print('acc_train={:1.5f}, acc_val={:1.5f}'.format(acc_train, acc_val))"
   ]
  },
  {
   "cell_type": "code",
   "execution_count": 7,
   "metadata": {},
   "outputs": [
    {
     "data": {
      "image/png": "[encoded data removed]",
      "text/plain": [
       "<Figure size 720x360 with 1 Axes>"
      ]
     },
     "metadata": {
      "needs_background": "light"
     },
     "output_type": "display_data"
    }
   ],
   "source": [
    "import matplotlib.pyplot as plt\n",
    "\n",
    "epochs = np.arange(n_epochs) + 1\n",
    "\n",
    "plt.figure(figsize=(10,5))\n",
    "plt.title('Training and validation accuracy')\n",
    "plt.plot(epochs, history_acc_train, 'b', label='Training accuracy')\n",
    "plt.plot(epochs, history_acc_val, 'r', label='Validation accuracy')\n",
    "plt.xlabel('epoch')\n",
    "plt.ylabel('accuracy')\n",
    "plt.grid()\n",
    "plt.legend()\n",
    "plt.show()"
   ]
  },
  {
   "cell_type": "code",
   "execution_count": 9,
   "metadata": {},
   "outputs": [],
   "source": [
    "def reset_graph(seed=42):\n",
    "    tf.reset_default_graph()\n",
    "    tf.set_random_seed(seed)\n",
    "    np.random.seed(seed)"
   ]
  },
  {
   "cell_type": "code",
   "execution_count": 10,
   "metadata": {},
   "outputs": [],
   "source": [
    "reset_graph()\n",
    "\n",
    "n_steps, n_features = (28,28)\n",
    "n_classes = 10\n",
    "\n",
    "lr = 1e-3\n",
    "\n",
    "X = tf.placeholder(tf.float32, [None, n_steps, n_features])\n",
    "y = tf.placeholder(tf.int32, [None])"
   ]
  },
  {
   "cell_type": "code",
   "execution_count": 11,
   "metadata": {
    "scrolled": false
   },
   "outputs": [],
   "source": [
    "n_neurons = 100\n",
    "n_layers = 3\n",
    "\n",
    "layers = [tf.nn.rnn_cell.BasicRNNCell(\n",
    "            num_units=n_neurons,\n",
    "            activation=tf.nn.relu) for n in range(n_layers)]\n",
    "multi_layer_cell = tf.nn.rnn_cell.MultiRNNCell(layers)\n",
    "outputs, states = tf.nn.dynamic_rnn(multi_layer_cell, X, dtype=tf.float32)\n",
    "\n",
    "states_concat = tf.concat(axis=1, values=states)\n",
    "logits = tf.layers.dense(states_concat, n_classes)\n",
    "xentropy = tf.nn.sparse_softmax_cross_entropy_with_logits(labels=y, logits=logits)\n",
    "loss = tf.reduce_mean(xentropy)\n",
    "optimizer = tf.train.AdamOptimizer(learning_rate=lr)\n",
    "training_op = optimizer.minimize(loss)\n",
    "correct = tf.nn.in_top_k(logits, y, 1)\n",
    "accuracy = tf.reduce_mean(tf.cast(correct, tf.float32))\n",
    "\n",
    "init = tf.global_variables_initializer()"
   ]
  },
  {
   "cell_type": "code",
   "execution_count": 12,
   "metadata": {},
   "outputs": [
    {
     "name": "stdout",
     "output_type": "stream",
     "text": [
      "epoch=0, time=8.410\n",
      "acc_train=0.82140, acc_val=0.93800\n",
      "states_concat shape= (150, 300)\n",
      "epoch=1, time=8.235\n",
      "acc_train=0.95329, acc_val=0.96060\n",
      "states_concat shape= (150, 300)\n",
      "epoch=2, time=8.217\n",
      "acc_train=0.96764, acc_val=0.96360\n",
      "states_concat shape= (150, 300)\n",
      "epoch=3, time=8.206\n",
      "acc_train=0.97497, acc_val=0.96840\n",
      "states_concat shape= (150, 300)\n",
      "epoch=4, time=8.221\n",
      "acc_train=0.97898, acc_val=0.97420\n",
      "states_concat shape= (150, 300)\n",
      "epoch=5, time=8.210\n",
      "acc_train=0.98238, acc_val=0.97040\n",
      "states_concat shape= (150, 300)\n",
      "epoch=6, time=8.270\n",
      "acc_train=0.98444, acc_val=0.97440\n",
      "states_concat shape= (150, 300)\n",
      "epoch=7, time=8.217\n",
      "acc_train=0.98516, acc_val=0.97800\n",
      "states_concat shape= (150, 300)\n",
      "epoch=8, time=8.206\n",
      "acc_train=0.98756, acc_val=0.98300\n",
      "states_concat shape= (150, 300)\n",
      "epoch=9, time=8.218\n",
      "acc_train=0.98907, acc_val=0.97520\n",
      "states_concat shape= (150, 300)\n",
      "epoch=10, time=8.212\n",
      "acc_train=0.98934, acc_val=0.98040\n",
      "states_concat shape= (150, 300)\n",
      "epoch=11, time=8.214\n",
      "acc_train=0.99069, acc_val=0.98140\n",
      "states_concat shape= (150, 300)\n",
      "epoch=12, time=8.285\n",
      "acc_train=0.99142, acc_val=0.98220\n",
      "states_concat shape= (150, 300)\n",
      "epoch=13, time=8.691\n",
      "acc_train=0.99100, acc_val=0.98100\n",
      "states_concat shape= (150, 300)\n",
      "epoch=14, time=8.528\n",
      "acc_train=0.99202, acc_val=0.97840\n",
      "states_concat shape= (150, 300)\n",
      "epoch=15, time=8.215\n",
      "acc_train=0.99276, acc_val=0.97840\n",
      "states_concat shape= (150, 300)\n",
      "epoch=16, time=8.391\n",
      "acc_train=0.99271, acc_val=0.98160\n",
      "states_concat shape= (150, 300)\n",
      "epoch=17, time=8.299\n",
      "acc_train=0.99255, acc_val=0.97820\n",
      "states_concat shape= (150, 300)\n",
      "epoch=18, time=8.658\n",
      "acc_train=0.99325, acc_val=0.97840\n",
      "states_concat shape= (150, 300)\n",
      "epoch=19, time=8.635\n",
      "acc_train=0.99324, acc_val=0.98440\n",
      "states_concat shape= (150, 300)\n",
      "epoch=20, time=8.647\n",
      "acc_train=0.99369, acc_val=0.98280\n",
      "states_concat shape= (150, 300)\n",
      "epoch=21, time=8.617\n",
      "acc_train=0.99425, acc_val=0.98500\n",
      "states_concat shape= (150, 300)\n",
      "epoch=22, time=8.621\n",
      "acc_train=0.99465, acc_val=0.98100\n",
      "states_concat shape= (150, 300)\n",
      "epoch=23, time=8.607\n",
      "acc_train=0.99567, acc_val=0.97960\n",
      "states_concat shape= (150, 300)\n",
      "epoch=24, time=8.619\n",
      "acc_train=0.99514, acc_val=0.98060\n",
      "states_concat shape= (150, 300)\n",
      "epoch=25, time=8.238\n",
      "acc_train=0.99481, acc_val=0.98440\n",
      "states_concat shape= (150, 300)\n",
      "epoch=26, time=8.241\n",
      "acc_train=0.99540, acc_val=0.98460\n",
      "states_concat shape= (150, 300)\n",
      "epoch=27, time=8.213\n",
      "acc_train=0.99487, acc_val=0.98080\n",
      "states_concat shape= (150, 300)\n",
      "epoch=28, time=8.230\n",
      "acc_train=0.99564, acc_val=0.98440\n",
      "states_concat shape= (150, 300)\n",
      "epoch=29, time=8.209\n",
      "acc_train=0.99649, acc_val=0.98380\n",
      "states_concat shape= (150, 300)\n"
     ]
    }
   ],
   "source": [
    "n_epochs = 30\n",
    "batch_size = 150\n",
    "\n",
    "history_acc_train = []\n",
    "history_acc_val = []\n",
    "\n",
    "saver = tf.train.Saver()\n",
    "\n",
    "with tf.Session() as sess:\n",
    "    init.run()\n",
    "    for epoch in range(n_epochs):\n",
    "        start = time.time()\n",
    "        acc_batch = []\n",
    "        for X_batch, y_batch in shuffle_batch(X_train, y_train, batch_size):\n",
    "            sess.run(training_op, feed_dict={X: X_batch, y: y_batch})\n",
    "            acc_batch.append(accuracy.eval(feed_dict={X: X_batch, y: y_batch}))\n",
    "        end = time.time()\n",
    "        acc_train = np.mean(acc_batch)\n",
    "        acc_val = accuracy.eval(feed_dict={X: X_valid, y: y_valid})\n",
    "        history_acc_train.append(acc_train)\n",
    "        history_acc_val.append(acc_val)\n",
    "        print('epoch={}, time={:3.3f}'.format(epoch, end-start))\n",
    "        print('acc_train={:1.5f}, acc_val={:1.5f}'.format(acc_train, acc_val))\n",
    "        print('states_concat shape=', states_concat.eval(feed_dict={X:X_batch, y:y_batch}).shape)\n",
    "    saver.save(sess, './multi_cell_rnn')"
   ]
  },
  {
   "cell_type": "code",
   "execution_count": 13,
   "metadata": {},
   "outputs": [
    {
     "data": {
      "image/png": "[encoded data removed]",
      "text/plain": [
       "<Figure size 720x360 with 1 Axes>"
      ]
     },
     "metadata": {
      "needs_background": "light"
     },
     "output_type": "display_data"
    }
   ],
   "source": [
    "epochs = np.arange(n_epochs) + 1\n",
    "\n",
    "plt.figure(figsize=(10,5))\n",
    "plt.title('Training and validation accuracy')\n",
    "plt.plot(epochs, history_acc_train, 'b', label='Training accuracy')\n",
    "plt.plot(epochs, history_acc_val, 'r', label='Validation accuracy')\n",
    "plt.xlabel('epoch')\n",
    "plt.ylabel('accuracy')\n",
    "plt.grid()\n",
    "plt.legend()\n",
    "plt.show()"
   ]
  },
  {
   "cell_type": "code",
   "execution_count": null,
   "metadata": {},
   "outputs": [],
   "source": []
  }
 ],
 "metadata": {
  "kernelspec": {
   "display_name": "Python gu-keras",
   "language": "python",
   "name": "gu-keras"
  },
  "language_info": {
   "codemirror_mode": {
    "name": "ipython",
    "version": 3
   },
   "file_extension": ".py",
   "mimetype": "text/x-python",
   "name": "python",
   "nbconvert_exporter": "python",
   "pygments_lexer": "ipython3",
   "version": "3.6.8"
  }
 },
 "nbformat": 4,
 "nbformat_minor": 2
}
