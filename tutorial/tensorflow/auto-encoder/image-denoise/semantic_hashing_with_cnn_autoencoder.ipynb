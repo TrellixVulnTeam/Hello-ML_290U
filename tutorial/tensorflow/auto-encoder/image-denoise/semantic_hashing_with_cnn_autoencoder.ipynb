{
 "cells": [
  {
   "cell_type": "code",
   "execution_count": 1,
   "metadata": {},
   "outputs": [
    {
     "name": "stderr",
     "output_type": "stream",
     "text": [
      "WARNING: Logging before flag parsing goes to stderr.\n",
      "W0909 22:24:44.725461 140628488132416 deprecation.py:506] From /home/guhwanbae/anaconda3/envs/gu-keras/lib/python3.7/site-packages/tensorflow/python/ops/init_ops.py:1251: calling VarianceScaling.__init__ (from tensorflow.python.ops.init_ops) with dtype is deprecated and will be removed in a future version.\n",
      "Instructions for updating:\n",
      "Call initializer instance with the dtype argument instead of passing it to the constructor\n"
     ]
    }
   ],
   "source": [
    "import tensorflow as tf\n",
    "import numpy as np\n",
    "from functools import partial\n",
    "\n",
    "input_shape = (28, 28, 1)\n",
    "height, width, n_channels = input_shape\n",
    "\n",
    "conv_layer = partial(tf.keras.layers.Conv2D,\n",
    "                     kernel_size=(3,3),\n",
    "                     padding='same',\n",
    "                     activation='elu')\n",
    "maxpooling_layer = partial(tf.keras.layers.MaxPool2D,\n",
    "                           pool_size=(2,2),\n",
    "                           strides=(2,2),\n",
    "                           padding='same')\n",
    "upsampling_layer = partial(tf.keras.layers.UpSampling2D,\n",
    "                           size=(2,2))\n",
    "\n",
    "model = tf.keras.models.Sequential()\n",
    "model.add(conv_layer(input_shape=input_shape,\n",
    "                     filters=32,\n",
    "                     name='encoder_conv1'))\n",
    "model.add(conv_layer(input_shape=input_shape,\n",
    "                     filters=32,\n",
    "                     name='encoder_conv2'))\n",
    "model.add(maxpooling_layer(name='encoder_maxpooling1'))\n",
    "model.add(tf.keras.layers.Dropout(0.25, name='encoder_dropout1'))\n",
    "model.add(conv_layer(filters=64,\n",
    "                     name='encoder_conv3'))\n",
    "model.add(conv_layer(filters=64,\n",
    "                     name='encoder_conv4'))\n",
    "model.add(maxpooling_layer(name='encoder_maxpooling2'))\n",
    "model.add(tf.keras.layers.Dropout(0.25, name='encoder_dropout2'))\n",
    "\n",
    "model.add(tf.keras.layers.Flatten(name='flatten'))\n",
    "\n",
    "def binary_relaxation_term(weights, beta=1e-2):\n",
    "    ''' To make sparse and well distributed binary codings. '''\n",
    "    return beta * tf.reduce_sum(tf.linalg.norm(tf.abs(weights) - 1, axis=1))\n",
    "\n",
    "model.add(tf.keras.layers.Dense(30,\n",
    "                                activation='tanh',\n",
    "                                kernel_regularizer=binary_relaxation_term,\n",
    "                                name='latent_vector'))\n",
    "\n",
    "encoder_output_shape = tf.keras.backend.int_shape(model.get_layer('flatten').output)\n",
    "last_conv_shape = tf.keras.backend.int_shape(model.get_layer('encoder_maxpooling2').output)\n",
    "\n",
    "model.add(tf.keras.layers.Dense(encoder_output_shape[1], activation='elu', name='inverse_flatten'))\n",
    "model.add(tf.keras.layers.Reshape((last_conv_shape[1],\n",
    "                                   last_conv_shape[2],\n",
    "                                   last_conv_shape[3]), name='reshape'))\n",
    "\n",
    "model.add(upsampling_layer(name='decoder_upsampling1'))\n",
    "model.add(tf.keras.layers.Dropout(0.25, name='decoder_dropout1'))\n",
    "model.add(conv_layer(filters=64,\n",
    "                     name='decoder_conv1'))\n",
    "model.add(conv_layer(filters=64,\n",
    "                     name='decoder_conv2'))\n",
    "model.add(upsampling_layer(name='decoder_upsampling2'))\n",
    "model.add(tf.keras.layers.Dropout(0.25, name='decoder_dropout2'))\n",
    "model.add(conv_layer(filters=32,\n",
    "                     name='decoder_conv3'))\n",
    "model.add(conv_layer(filters=32,\n",
    "                     name='decoder_conv4'))\n",
    "model.add(conv_layer(filters=1,\n",
    "                     name='outputs'))"
   ]
  },
  {
   "cell_type": "code",
   "execution_count": 2,
   "metadata": {},
   "outputs": [
    {
     "name": "stdout",
     "output_type": "stream",
     "text": [
      "Model: \"sequential\"\n",
      "_________________________________________________________________\n",
      "Layer (type)                 Output Shape              Param #   \n",
      "=================================================================\n",
      "encoder_conv1 (Conv2D)       (None, 28, 28, 32)        320       \n",
      "_________________________________________________________________\n",
      "encoder_conv2 (Conv2D)       (None, 28, 28, 32)        9248      \n",
      "_________________________________________________________________\n",
      "encoder_maxpooling1 (MaxPool (None, 14, 14, 32)        0         \n",
      "_________________________________________________________________\n",
      "encoder_dropout1 (Dropout)   (None, 14, 14, 32)        0         \n",
      "_________________________________________________________________\n",
      "encoder_conv3 (Conv2D)       (None, 14, 14, 64)        18496     \n",
      "_________________________________________________________________\n",
      "encoder_conv4 (Conv2D)       (None, 14, 14, 64)        36928     \n",
      "_________________________________________________________________\n",
      "encoder_maxpooling2 (MaxPool (None, 7, 7, 64)          0         \n",
      "_________________________________________________________________\n",
      "encoder_dropout2 (Dropout)   (None, 7, 7, 64)          0         \n",
      "_________________________________________________________________\n",
      "flatten (Flatten)            (None, 3136)              0         \n",
      "_________________________________________________________________\n",
      "latent_vector (Dense)        (None, 30)                94110     \n",
      "_________________________________________________________________\n",
      "inverse_flatten (Dense)      (None, 3136)              97216     \n",
      "_________________________________________________________________\n",
      "reshape (Reshape)            (None, 7, 7, 64)          0         \n",
      "_________________________________________________________________\n",
      "decoder_upsampling1 (UpSampl (None, 14, 14, 64)        0         \n",
      "_________________________________________________________________\n",
      "decoder_dropout1 (Dropout)   (None, 14, 14, 64)        0         \n",
      "_________________________________________________________________\n",
      "decoder_conv1 (Conv2D)       (None, 14, 14, 64)        36928     \n",
      "_________________________________________________________________\n",
      "decoder_conv2 (Conv2D)       (None, 14, 14, 64)        36928     \n",
      "_________________________________________________________________\n",
      "decoder_upsampling2 (UpSampl (None, 28, 28, 64)        0         \n",
      "_________________________________________________________________\n",
      "decoder_dropout2 (Dropout)   (None, 28, 28, 64)        0         \n",
      "_________________________________________________________________\n",
      "decoder_conv3 (Conv2D)       (None, 28, 28, 32)        18464     \n",
      "_________________________________________________________________\n",
      "decoder_conv4 (Conv2D)       (None, 28, 28, 32)        9248      \n",
      "_________________________________________________________________\n",
      "outputs (Conv2D)             (None, 28, 28, 1)         289       \n",
      "=================================================================\n",
      "Total params: 358,175\n",
      "Trainable params: 358,175\n",
      "Non-trainable params: 0\n",
      "_________________________________________________________________\n"
     ]
    }
   ],
   "source": [
    "model.summary()"
   ]
  },
  {
   "cell_type": "code",
   "execution_count": 3,
   "metadata": {
    "scrolled": false
   },
   "outputs": [],
   "source": [
    "model.compile(optimizer='adam',\n",
    "              loss='mse',\n",
    "              metrics=['accuracy'])"
   ]
  },
  {
   "cell_type": "code",
   "execution_count": 4,
   "metadata": {},
   "outputs": [],
   "source": [
    "from sklearn.preprocessing import MinMaxScaler\n",
    "\n",
    "(X_train, y_train), (X_test, y_test) = tf.keras.datasets.mnist.load_data()\n",
    "\n",
    "X_train = X_train.reshape(len(y_train), -1).astype(np.float32)\n",
    "X_test = X_test.reshape(len(y_test), -1).astype(np.float32)\n",
    "\n",
    "scaler = MinMaxScaler()\n",
    "X_train = scaler.fit_transform(X_train).reshape(-1, height, width, n_channels)\n",
    "X_test = scaler.transform(X_test).reshape(-1, height, width, n_channels)"
   ]
  },
  {
   "cell_type": "code",
   "execution_count": 5,
   "metadata": {},
   "outputs": [],
   "source": [
    "def add_gaussian_noise(X, noise_level=0.5):\n",
    "    return X + noise_level * np.random.normal(size=X.shape)\n",
    "\n",
    "X_train_noisy = add_gaussian_noise(X_train, noise_level=1.0)\n",
    "X_test_noisy = add_gaussian_noise(X_test, noise_level=1.0)"
   ]
  },
  {
   "cell_type": "code",
   "execution_count": 6,
   "metadata": {
    "scrolled": false
   },
   "outputs": [
    {
     "name": "stdout",
     "output_type": "stream",
     "text": [
      "Train on 60000 samples, validate on 10000 samples\n",
      "Epoch 1/50\n",
      "60000/60000 [==============================] - 31s 514us/sample - loss: 163.3144 - acc: 0.7962 - val_loss: 158.1862 - val_acc: 0.7996\n",
      "Epoch 2/50\n",
      "60000/60000 [==============================] - 26s 431us/sample - loss: 153.2717 - acc: 0.7991 - val_loss: 148.1038 - val_acc: 0.8033\n",
      "Epoch 3/50\n",
      "60000/60000 [==============================] - 26s 433us/sample - loss: 143.1781 - acc: 0.8006 - val_loss: 138.0018 - val_acc: 0.8026\n",
      "Epoch 4/50\n",
      "60000/60000 [==============================] - 26s 432us/sample - loss: 133.0715 - acc: 0.8009 - val_loss: 127.8914 - val_acc: 0.8041\n",
      "Epoch 5/50\n",
      "60000/60000 [==============================] - 26s 432us/sample - loss: 122.9585 - acc: 0.8012 - val_loss: 117.7761 - val_acc: 0.8034\n",
      "Epoch 6/50\n",
      "60000/60000 [==============================] - 27s 447us/sample - loss: 112.8415 - acc: 0.8016 - val_loss: 107.6581 - val_acc: 0.8049\n",
      "Epoch 7/50\n",
      "60000/60000 [==============================] - 27s 457us/sample - loss: 102.7222 - acc: 0.8019 - val_loss: 97.5384 - val_acc: 0.8058\n",
      "Epoch 8/50\n",
      "60000/60000 [==============================] - 27s 454us/sample - loss: 92.6012 - acc: 0.8021 - val_loss: 87.4162 - val_acc: 0.8007\n",
      "Epoch 9/50\n",
      "60000/60000 [==============================] - 27s 453us/sample - loss: 82.4793 - acc: 0.8022 - val_loss: 77.2937 - val_acc: 0.8035\n",
      "Epoch 10/50\n",
      "60000/60000 [==============================] - 27s 453us/sample - loss: 72.3572 - acc: 0.8024 - val_loss: 67.1715 - val_acc: 0.8030\n",
      "Epoch 11/50\n",
      "60000/60000 [==============================] - 27s 453us/sample - loss: 62.2349 - acc: 0.8025 - val_loss: 57.0505 - val_acc: 0.8065\n",
      "Epoch 12/50\n",
      "60000/60000 [==============================] - 27s 453us/sample - loss: 52.1132 - acc: 0.8027 - val_loss: 46.9283 - val_acc: 0.8041\n",
      "Epoch 13/50\n",
      "60000/60000 [==============================] - 27s 453us/sample - loss: 41.9927 - acc: 0.8028 - val_loss: 36.8096 - val_acc: 0.8064\n",
      "Epoch 14/50\n",
      "60000/60000 [==============================] - 27s 453us/sample - loss: 31.8746 - acc: 0.8029 - val_loss: 26.6932 - val_acc: 0.8064\n",
      "Epoch 15/50\n",
      "60000/60000 [==============================] - 27s 453us/sample - loss: 21.7604 - acc: 0.8031 - val_loss: 16.5815 - val_acc: 0.8041\n",
      "Epoch 16/50\n",
      "60000/60000 [==============================] - 27s 453us/sample - loss: 11.6550 - acc: 0.8031 - val_loss: 6.4841 - val_acc: 0.8045\n",
      "Epoch 17/50\n",
      "60000/60000 [==============================] - 27s 453us/sample - loss: 2.2911 - acc: 0.8032 - val_loss: 0.1681 - val_acc: 0.8048\n",
      "Epoch 18/50\n",
      "60000/60000 [==============================] - 27s 452us/sample - loss: 0.0721 - acc: 0.8033 - val_loss: 0.0432 - val_acc: 0.8046\n",
      "Epoch 19/50\n",
      "60000/60000 [==============================] - 27s 453us/sample - loss: 0.0454 - acc: 0.8034 - val_loss: 0.0405 - val_acc: 0.8056\n",
      "Epoch 20/50\n",
      "60000/60000 [==============================] - 27s 453us/sample - loss: 0.0438 - acc: 0.8034 - val_loss: 0.0392 - val_acc: 0.8047\n",
      "Epoch 21/50\n",
      "60000/60000 [==============================] - 27s 451us/sample - loss: 0.0426 - acc: 0.8035 - val_loss: 0.0394 - val_acc: 0.8065\n",
      "Epoch 22/50\n",
      "60000/60000 [==============================] - 27s 452us/sample - loss: 0.0423 - acc: 0.8037 - val_loss: 0.0386 - val_acc: 0.8043\n",
      "Epoch 23/50\n",
      "60000/60000 [==============================] - 27s 451us/sample - loss: 0.0423 - acc: 0.8037 - val_loss: 0.0387 - val_acc: 0.8043\n",
      "Epoch 24/50\n",
      "60000/60000 [==============================] - 27s 452us/sample - loss: 0.0425 - acc: 0.8037 - val_loss: 0.0385 - val_acc: 0.8051\n",
      "Epoch 25/50\n",
      "60000/60000 [==============================] - 27s 451us/sample - loss: 0.0423 - acc: 0.8038 - val_loss: 0.0388 - val_acc: 0.8057\n",
      "Epoch 26/50\n",
      "60000/60000 [==============================] - 27s 453us/sample - loss: 0.0423 - acc: 0.8038 - val_loss: 0.0385 - val_acc: 0.8049\n",
      "Epoch 27/50\n",
      "60000/60000 [==============================] - 28s 459us/sample - loss: 0.0424 - acc: 0.8038 - val_loss: 0.0390 - val_acc: 0.8062\n",
      "Epoch 28/50\n",
      "60000/60000 [==============================] - 27s 456us/sample - loss: 0.0425 - acc: 0.8039 - val_loss: 0.0387 - val_acc: 0.8052\n",
      "Epoch 29/50\n",
      "60000/60000 [==============================] - 27s 453us/sample - loss: 0.0425 - acc: 0.8040 - val_loss: 0.0392 - val_acc: 0.8028\n",
      "Epoch 30/50\n",
      "60000/60000 [==============================] - 27s 451us/sample - loss: 0.0425 - acc: 0.8040 - val_loss: 0.0388 - val_acc: 0.8055\n",
      "Epoch 31/50\n",
      "60000/60000 [==============================] - 27s 450us/sample - loss: 0.0426 - acc: 0.8040 - val_loss: 0.0388 - val_acc: 0.8058\n",
      "Epoch 32/50\n",
      "60000/60000 [==============================] - 27s 450us/sample - loss: 0.0425 - acc: 0.8041 - val_loss: 0.0389 - val_acc: 0.8060\n",
      "Epoch 33/50\n",
      "60000/60000 [==============================] - 27s 450us/sample - loss: 0.0423 - acc: 0.8041 - val_loss: 0.0387 - val_acc: 0.8054\n",
      "Epoch 34/50\n",
      "60000/60000 [==============================] - 27s 450us/sample - loss: 0.0424 - acc: 0.8041 - val_loss: 0.0396 - val_acc: 0.8077\n",
      "Epoch 35/50\n",
      "60000/60000 [==============================] - 27s 450us/sample - loss: 0.0422 - acc: 0.8042 - val_loss: 0.0385 - val_acc: 0.8056\n",
      "Epoch 36/50\n",
      "60000/60000 [==============================] - 27s 452us/sample - loss: 0.0421 - acc: 0.8043 - val_loss: 0.0384 - val_acc: 0.8054\n",
      "Epoch 37/50\n",
      "60000/60000 [==============================] - 27s 452us/sample - loss: 0.0421 - acc: 0.8042 - val_loss: 0.0383 - val_acc: 0.8056\n",
      "Epoch 38/50\n",
      "60000/60000 [==============================] - 27s 452us/sample - loss: 0.0417 - acc: 0.8043 - val_loss: 0.0382 - val_acc: 0.8038\n",
      "Epoch 39/50\n",
      "60000/60000 [==============================] - 27s 451us/sample - loss: 0.0417 - acc: 0.8043 - val_loss: 0.0381 - val_acc: 0.8059\n",
      "Epoch 40/50\n",
      "60000/60000 [==============================] - 27s 450us/sample - loss: 0.0415 - acc: 0.8043 - val_loss: 0.0383 - val_acc: 0.8068\n",
      "Epoch 41/50\n",
      "60000/60000 [==============================] - 27s 450us/sample - loss: 0.0414 - acc: 0.8044 - val_loss: 0.0382 - val_acc: 0.8071\n",
      "Epoch 42/50\n",
      "60000/60000 [==============================] - 27s 451us/sample - loss: 0.0414 - acc: 0.8044 - val_loss: 0.0377 - val_acc: 0.8051\n",
      "Epoch 43/50\n",
      "60000/60000 [==============================] - 27s 450us/sample - loss: 0.0413 - acc: 0.8044 - val_loss: 0.0377 - val_acc: 0.8056\n",
      "Epoch 44/50\n",
      "60000/60000 [==============================] - 27s 450us/sample - loss: 0.0411 - acc: 0.8044 - val_loss: 0.0378 - val_acc: 0.8062\n",
      "Epoch 45/50\n",
      "60000/60000 [==============================] - 27s 452us/sample - loss: 0.0410 - acc: 0.8045 - val_loss: 0.0374 - val_acc: 0.8052\n",
      "Epoch 46/50\n",
      "60000/60000 [==============================] - 27s 451us/sample - loss: 0.0410 - acc: 0.8045 - val_loss: 0.0376 - val_acc: 0.8041\n",
      "Epoch 47/50\n",
      "60000/60000 [==============================] - 27s 451us/sample - loss: 0.0410 - acc: 0.8045 - val_loss: 0.0374 - val_acc: 0.8049\n",
      "Epoch 48/50\n",
      "60000/60000 [==============================] - 27s 451us/sample - loss: 0.0409 - acc: 0.8045 - val_loss: 0.0376 - val_acc: 0.8042\n",
      "Epoch 49/50\n",
      "60000/60000 [==============================] - 27s 451us/sample - loss: 0.0409 - acc: 0.8045 - val_loss: 0.0379 - val_acc: 0.8069\n",
      "Epoch 50/50\n",
      "60000/60000 [==============================] - 27s 451us/sample - loss: 0.0408 - acc: 0.8046 - val_loss: 0.0377 - val_acc: 0.8068\n"
     ]
    },
    {
     "data": {
      "text/plain": [
       "<tensorflow.python.keras.callbacks.History at 0x7fe67dbaaeb8>"
      ]
     },
     "execution_count": 6,
     "metadata": {},
     "output_type": "execute_result"
    }
   ],
   "source": [
    "model_path = './semantic_hashing_autoencoder.h5'\n",
    "model_saver = tf.keras.callbacks.ModelCheckpoint(filepath=model_path, verbose=0, save_best_only=True)\n",
    "early_stopper = tf.keras.callbacks.EarlyStopping(monitor='val_loss', patience=15, verbose=0)\n",
    "\n",
    "n_epochs = 50\n",
    "batch_size = 1024\n",
    "\n",
    "model.fit(x=X_train_noisy, y=X_train,\n",
    "          epochs=n_epochs, batch_size=batch_size,\n",
    "          shuffle=True, validation_data=(X_test_noisy, X_test),\n",
    "          callbacks=[model_saver, early_stopper])"
   ]
  },
  {
   "cell_type": "code",
   "execution_count": 7,
   "metadata": {},
   "outputs": [],
   "source": [
    "latent_vector = model.get_layer('latent_vector').output\n",
    "\n",
    "hash_functor = tf.keras.Model(inputs=model.input,\n",
    "                              outputs=latent_vector)\n",
    "hash_functor.trainable = False"
   ]
  },
  {
   "cell_type": "code",
   "execution_count": 12,
   "metadata": {},
   "outputs": [],
   "source": [
    "latent_vectors_test = hash_functor.predict(X_test, batch_size=1024)"
   ]
  },
  {
   "cell_type": "code",
   "execution_count": 86,
   "metadata": {},
   "outputs": [],
   "source": [
    "def latent_vectors_to_hasing_codes(latent_vectors):\n",
    "    hashing_codes = np.zeros(shape=latent_vectors.shape, dtype='int64')\n",
    "    hashing_codes[latent_vectors <= 0] = 0\n",
    "    hashing_codes[latent_vectors > 0] = 1\n",
    "    return hashing_codes"
   ]
  },
  {
   "cell_type": "code",
   "execution_count": 90,
   "metadata": {
    "scrolled": false
   },
   "outputs": [
    {
     "data": {
      "image/png": "[encoded data removed]",
      "text/plain": [
       "<Figure size 1440x720 with 3 Axes>"
      ]
     },
     "metadata": {
      "needs_background": "light"
     },
     "output_type": "display_data"
    }
   ],
   "source": [
    "import matplotlib.pyplot as plt\n",
    "\n",
    "hashing_codes_test = latent_vectors_to_hasing_codes(latent_vectors_test)\n",
    "\n",
    "partial_class_idx = np.where(y_test == 8)[0]\n",
    "\n",
    "samples = X_test[partial_class_idx]\n",
    "labels = y_test[partial_class_idx]\n",
    "hashing_codes = hashing_codes_test[partial_class_idx]\n",
    "\n",
    "plt.figure(figsize=(20,10))\n",
    "for sample, label, code, subplot_idx in zip(samples[:3],\n",
    "                                            labels[:3],\n",
    "                                            hashing_codes[:3], [131, 132, 133]):\n",
    "    plt.subplot(subplot_idx)\n",
    "    plt.title('code = {}'.format(''.join(map(str,code))))\n",
    "    plt.imshow(sample.reshape(28,28))\n",
    "    plt.axis('off')\n",
    "plt.show()"
   ]
  },
  {
   "cell_type": "code",
   "execution_count": 100,
   "metadata": {
    "scrolled": true
   },
   "outputs": [
    {
     "name": "stdout",
     "output_type": "stream",
     "text": [
      "11242\n"
     ]
    }
   ],
   "source": [
    "def sum_distance(ref, vectors):\n",
    "    return np.sum(np.square(vectors - ref))\n",
    "\n",
    "print(sum_distance(hashing_codes[0], hashing_codes))"
   ]
  },
  {
   "cell_type": "code",
   "execution_count": 101,
   "metadata": {},
   "outputs": [
    {
     "name": "stdout",
     "output_type": "stream",
     "text": [
      "label=0, sum_distance=12395\n",
      "label=1, sum_distance=15287\n",
      "label=2, sum_distance=12332\n",
      "label=3, sum_distance=15824\n",
      "label=4, sum_distance=12351\n",
      "label=5, sum_distance=11815\n",
      "label=6, sum_distance=12302\n",
      "label=7, sum_distance=14097\n",
      "label=8, sum_distance=11242\n",
      "label=9, sum_distance=12602\n"
     ]
    }
   ],
   "source": [
    "# Need to visualize digit-cluster\n",
    "\n",
    "for digit_label in range(10):\n",
    "    other_partial_class_idx = np.where(y_test == digit_label)[0]\n",
    "    other_codes = hashing_codes_test[other_partial_class_idx]\n",
    "    print('label={}, sum_distance={}'.format(digit_label, sum_distance(hashing_codes[0], other_codes)))"
   ]
  },
  {
   "cell_type": "code",
   "execution_count": null,
   "metadata": {},
   "outputs": [],
   "source": []
  }
 ],
 "metadata": {
  "kernelspec": {
   "display_name": "Python gu-keras",
   "language": "python",
   "name": "gu-keras"
  },
  "language_info": {
   "codemirror_mode": {
    "name": "ipython",
    "version": 3
   },
   "file_extension": ".py",
   "mimetype": "text/x-python",
   "name": "python",
   "nbconvert_exporter": "python",
   "pygments_lexer": "ipython3",
   "version": "3.7.3"
  }
 },
 "nbformat": 4,
 "nbformat_minor": 2
}
