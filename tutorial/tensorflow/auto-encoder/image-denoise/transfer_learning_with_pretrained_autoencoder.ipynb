{
 "cells": [
  {
   "cell_type": "code",
   "execution_count": 1,
   "metadata": {},
   "outputs": [
    {
     "name": "stderr",
     "output_type": "stream",
     "text": [
      "WARNING: Logging before flag parsing goes to stderr.\n",
      "W0908 19:37:09.347476 140520542365504 deprecation.py:506] From /home/guhwanbae/anaconda3/envs/gu-keras/lib/python3.7/site-packages/tensorflow/python/ops/init_ops.py:97: calling GlorotUniform.__init__ (from tensorflow.python.ops.init_ops) with dtype is deprecated and will be removed in a future version.\n",
      "Instructions for updating:\n",
      "Call initializer instance with the dtype argument instead of passing it to the constructor\n",
      "W0908 19:37:09.348099 140520542365504 deprecation.py:506] From /home/guhwanbae/anaconda3/envs/gu-keras/lib/python3.7/site-packages/tensorflow/python/ops/init_ops.py:1251: calling VarianceScaling.__init__ (from tensorflow.python.ops.init_ops) with dtype is deprecated and will be removed in a future version.\n",
      "Instructions for updating:\n",
      "Call initializer instance with the dtype argument instead of passing it to the constructor\n",
      "W0908 19:37:09.348687 140520542365504 deprecation.py:506] From /home/guhwanbae/anaconda3/envs/gu-keras/lib/python3.7/site-packages/tensorflow/python/ops/init_ops.py:97: calling Zeros.__init__ (from tensorflow.python.ops.init_ops) with dtype is deprecated and will be removed in a future version.\n",
      "Instructions for updating:\n",
      "Call initializer instance with the dtype argument instead of passing it to the constructor\n",
      "W0908 19:37:10.529216 140520542365504 training.py:2197] Discrepancy between trainable weights and collected trainable weights, did you set `model.trainable` without calling `model.compile` after ?\n"
     ]
    },
    {
     "name": "stdout",
     "output_type": "stream",
     "text": [
      "Model: \"sequential\"\n",
      "_________________________________________________________________\n",
      "Layer (type)                 Output Shape              Param #   \n",
      "=================================================================\n",
      "encoder_conv1 (Conv2D)       (None, 28, 28, 32)        320       \n",
      "_________________________________________________________________\n",
      "encoder_maxpooling1 (MaxPool (None, 14, 14, 32)        0         \n",
      "_________________________________________________________________\n",
      "encoder_conv2 (Conv2D)       (None, 14, 14, 32)        9248      \n",
      "_________________________________________________________________\n",
      "encoder_maxpooling2 (MaxPool (None, 7, 7, 32)          0         \n",
      "_________________________________________________________________\n",
      "decoder_conv1 (Conv2D)       (None, 7, 7, 32)          9248      \n",
      "_________________________________________________________________\n",
      "decoder_upsampling1 (UpSampl (None, 14, 14, 32)        0         \n",
      "_________________________________________________________________\n",
      "decoder_conv2 (Conv2D)       (None, 14, 14, 32)        9248      \n",
      "_________________________________________________________________\n",
      "decoder_upsampling2 (UpSampl (None, 28, 28, 32)        0         \n",
      "_________________________________________________________________\n",
      "decoder_conv3 (Conv2D)       (None, 28, 28, 1)         289       \n",
      "=================================================================\n",
      "Total params: 56,706\n",
      "Trainable params: 28,353\n",
      "Non-trainable params: 28,353\n",
      "_________________________________________________________________\n"
     ]
    }
   ],
   "source": [
    "import tensorflow as tf\n",
    "\n",
    "autoencoder_path = './gaussian_denoisor_with_cnn.h5'\n",
    "autoencoder = tf.keras.models.load_model(autoencoder_path)\n",
    "\n",
    "autoencoder.trainable = False\n",
    "autoencoder.summary()"
   ]
  },
  {
   "cell_type": "code",
   "execution_count": 2,
   "metadata": {},
   "outputs": [
    {
     "name": "stdout",
     "output_type": "stream",
     "text": [
      "Model: \"model\"\n",
      "_________________________________________________________________\n",
      "Layer (type)                 Output Shape              Param #   \n",
      "=================================================================\n",
      "encoder_conv1_input (InputLa [(None, 28, 28, 1)]       0         \n",
      "_________________________________________________________________\n",
      "encoder_conv1 (Conv2D)       (None, 28, 28, 32)        320       \n",
      "_________________________________________________________________\n",
      "encoder_maxpooling1 (MaxPool (None, 14, 14, 32)        0         \n",
      "_________________________________________________________________\n",
      "encoder_conv2 (Conv2D)       (None, 14, 14, 32)        9248      \n",
      "_________________________________________________________________\n",
      "encoder_maxpooling2 (MaxPool (None, 7, 7, 32)          0         \n",
      "_________________________________________________________________\n",
      "dropout (Dropout)            (None, 7, 7, 32)          0         \n",
      "_________________________________________________________________\n",
      "classifier_conv1 (Conv2D)    (None, 7, 7, 64)          18496     \n",
      "_________________________________________________________________\n",
      "classifier_conv2 (Conv2D)    (None, 7, 7, 64)          36928     \n",
      "_________________________________________________________________\n",
      "dropout_1 (Dropout)          (None, 7, 7, 64)          0         \n",
      "_________________________________________________________________\n",
      "flatten (Flatten)            (None, 3136)              0         \n",
      "_________________________________________________________________\n",
      "dense (Dense)                (None, 256)               803072    \n",
      "_________________________________________________________________\n",
      "dropout_2 (Dropout)          (None, 256)               0         \n",
      "_________________________________________________________________\n",
      "dense_1 (Dense)              (None, 10)                2570      \n",
      "=================================================================\n",
      "Total params: 870,634\n",
      "Trainable params: 861,066\n",
      "Non-trainable params: 9,568\n",
      "_________________________________________________________________\n"
     ]
    }
   ],
   "source": [
    "encoder_outputs = autoencoder.get_layer('encoder_maxpooling2').output\n",
    "\n",
    "outputs = tf.keras.layers.Dropout(0.25)(encoder_outputs)\n",
    "outputs = tf.keras.layers.Conv2D(filters=64,\n",
    "                                 kernel_size=(3,3),\n",
    "                                 padding='same',\n",
    "                                 activation='elu',\n",
    "                                 name='classifier_conv1')(outputs)\n",
    "outputs = tf.keras.layers.Conv2D(filters=64,\n",
    "                                 kernel_size=(3,3),\n",
    "                                 padding='same',\n",
    "                                 activation='elu',\n",
    "                                 name='classifier_conv2')(outputs)\n",
    "outputs = tf.keras.layers.Dropout(0.25)(outputs)\n",
    "outputs = tf.keras.layers.Flatten()(outputs)\n",
    "outputs = tf.keras.layers.Dense(256, activation='elu')(outputs)\n",
    "outputs = tf.keras.layers.Dropout(0.5)(outputs)\n",
    "outputs = tf.keras.layers.Dense(10, activation='softmax')(outputs)\n",
    "\n",
    "digit_classifier = tf.keras.Model(inputs=autoencoder.input,\n",
    "                                  outputs=outputs)\n",
    "digit_classifier.summary()"
   ]
  },
  {
   "cell_type": "code",
   "execution_count": 3,
   "metadata": {},
   "outputs": [],
   "source": [
    "digit_classifier.compile(optimizer='adam',\n",
    "                         loss='categorical_crossentropy',\n",
    "                         metrics=['accuracy'])"
   ]
  },
  {
   "cell_type": "code",
   "execution_count": 4,
   "metadata": {},
   "outputs": [],
   "source": [
    "import numpy as np\n",
    "from sklearn.preprocessing import StandardScaler\n",
    "\n",
    "height, width, n_channels = (28, 28, 1)\n",
    "\n",
    "(X_train, y_train), (X_test, y_test) = tf.keras.datasets.mnist.load_data()\n",
    "\n",
    "X_train = X_train.reshape(len(y_train), -1).astype(np.float32)\n",
    "X_test = X_test.reshape(len(y_test), -1).astype(np.float32)\n",
    "\n",
    "scaler = StandardScaler()\n",
    "X_train = scaler.fit_transform(X_train).reshape(-1, height, width, n_channels)\n",
    "X_test = scaler.transform(X_test).reshape(-1, height, width, n_channels)\n",
    "\n",
    "y_train = tf.keras.utils.to_categorical(y_train)\n",
    "y_test = tf.keras.utils.to_categorical(y_test)"
   ]
  },
  {
   "cell_type": "code",
   "execution_count": 5,
   "metadata": {
    "scrolled": false
   },
   "outputs": [
    {
     "name": "stdout",
     "output_type": "stream",
     "text": [
      "Train on 5000 samples, validate on 2500 samples\n",
      "Epoch 1/50\n",
      "5000/5000 [==============================] - 2s 352us/sample - loss: 1.0812 - acc: 0.6902 - val_loss: 0.3768 - val_acc: 0.8868\n",
      "Epoch 2/50\n",
      "5000/5000 [==============================] - 0s 70us/sample - loss: 0.4032 - acc: 0.8820 - val_loss: 0.2643 - val_acc: 0.9152\n",
      "Epoch 3/50\n",
      "5000/5000 [==============================] - 0s 73us/sample - loss: 0.2990 - acc: 0.9064 - val_loss: 0.2202 - val_acc: 0.9344\n",
      "Epoch 4/50\n",
      "5000/5000 [==============================] - 0s 75us/sample - loss: 0.2490 - acc: 0.9216 - val_loss: 0.1976 - val_acc: 0.9372\n",
      "Epoch 5/50\n",
      "5000/5000 [==============================] - 0s 66us/sample - loss: 0.2063 - acc: 0.9336 - val_loss: 0.1973 - val_acc: 0.9356\n",
      "Epoch 6/50\n",
      "5000/5000 [==============================] - 0s 66us/sample - loss: 0.1854 - acc: 0.9406 - val_loss: 0.1798 - val_acc: 0.9404\n",
      "Epoch 7/50\n",
      "5000/5000 [==============================] - 0s 66us/sample - loss: 0.1695 - acc: 0.9482 - val_loss: 0.1635 - val_acc: 0.9444\n",
      "Epoch 8/50\n",
      "5000/5000 [==============================] - 0s 62us/sample - loss: 0.1503 - acc: 0.9492 - val_loss: 0.1658 - val_acc: 0.9436\n",
      "Epoch 9/50\n",
      "5000/5000 [==============================] - 0s 64us/sample - loss: 0.1466 - acc: 0.9540 - val_loss: 0.1776 - val_acc: 0.9480\n",
      "Epoch 10/50\n",
      "5000/5000 [==============================] - 0s 74us/sample - loss: 0.1406 - acc: 0.9552 - val_loss: 0.1587 - val_acc: 0.9544\n",
      "Epoch 11/50\n",
      "5000/5000 [==============================] - 0s 63us/sample - loss: 0.1290 - acc: 0.9606 - val_loss: 0.1664 - val_acc: 0.9456\n",
      "Epoch 12/50\n",
      "5000/5000 [==============================] - 0s 66us/sample - loss: 0.1303 - acc: 0.9598 - val_loss: 0.1749 - val_acc: 0.9468\n",
      "Epoch 13/50\n",
      "5000/5000 [==============================] - 0s 73us/sample - loss: 0.1313 - acc: 0.9606 - val_loss: 0.1383 - val_acc: 0.9604\n",
      "Epoch 14/50\n",
      "5000/5000 [==============================] - 0s 63us/sample - loss: 0.1084 - acc: 0.9650 - val_loss: 0.1501 - val_acc: 0.9544\n",
      "Epoch 15/50\n",
      "5000/5000 [==============================] - 0s 63us/sample - loss: 0.0903 - acc: 0.9694 - val_loss: 0.1412 - val_acc: 0.9572\n",
      "Epoch 16/50\n",
      "5000/5000 [==============================] - 0s 64us/sample - loss: 0.0976 - acc: 0.9696 - val_loss: 0.1582 - val_acc: 0.9508\n",
      "Epoch 17/50\n",
      "5000/5000 [==============================] - 0s 63us/sample - loss: 0.1019 - acc: 0.9660 - val_loss: 0.1581 - val_acc: 0.9512\n",
      "Epoch 18/50\n",
      "5000/5000 [==============================] - 0s 72us/sample - loss: 0.0831 - acc: 0.9736 - val_loss: 0.1318 - val_acc: 0.9636\n",
      "Epoch 19/50\n",
      "5000/5000 [==============================] - 0s 64us/sample - loss: 0.0736 - acc: 0.9762 - val_loss: 0.1347 - val_acc: 0.9612\n",
      "Epoch 20/50\n",
      "5000/5000 [==============================] - 0s 62us/sample - loss: 0.0859 - acc: 0.9730 - val_loss: 0.1429 - val_acc: 0.9604\n",
      "Epoch 21/50\n",
      "5000/5000 [==============================] - 0s 64us/sample - loss: 0.0802 - acc: 0.9732 - val_loss: 0.1470 - val_acc: 0.9588\n",
      "Epoch 22/50\n",
      "5000/5000 [==============================] - 0s 65us/sample - loss: 0.0787 - acc: 0.9722 - val_loss: 0.1604 - val_acc: 0.9560\n",
      "Epoch 23/50\n",
      "5000/5000 [==============================] - 0s 63us/sample - loss: 0.0629 - acc: 0.9786 - val_loss: 0.1650 - val_acc: 0.9556\n",
      "Epoch 24/50\n",
      "5000/5000 [==============================] - 0s 63us/sample - loss: 0.0684 - acc: 0.9780 - val_loss: 0.1775 - val_acc: 0.9516\n",
      "Epoch 25/50\n",
      "5000/5000 [==============================] - 0s 59us/sample - loss: 0.0656 - acc: 0.9768 - val_loss: 0.1845 - val_acc: 0.9520\n",
      "Epoch 26/50\n",
      "5000/5000 [==============================] - 0s 62us/sample - loss: 0.0699 - acc: 0.9758 - val_loss: 0.1335 - val_acc: 0.9616\n",
      "Epoch 27/50\n",
      "5000/5000 [==============================] - 0s 65us/sample - loss: 0.0617 - acc: 0.9786 - val_loss: 0.1507 - val_acc: 0.9620\n",
      "Epoch 28/50\n",
      "5000/5000 [==============================] - 0s 61us/sample - loss: 0.0561 - acc: 0.9802 - val_loss: 0.1493 - val_acc: 0.9632\n",
      "Epoch 29/50\n",
      "5000/5000 [==============================] - 0s 65us/sample - loss: 0.0530 - acc: 0.9802 - val_loss: 0.1502 - val_acc: 0.9636\n",
      "Epoch 30/50\n",
      "5000/5000 [==============================] - 0s 62us/sample - loss: 0.0590 - acc: 0.9788 - val_loss: 0.1416 - val_acc: 0.9652\n",
      "Epoch 31/50\n",
      "5000/5000 [==============================] - 0s 64us/sample - loss: 0.0502 - acc: 0.9820 - val_loss: 0.1420 - val_acc: 0.9664\n",
      "Epoch 32/50\n",
      "5000/5000 [==============================] - 0s 63us/sample - loss: 0.0524 - acc: 0.9816 - val_loss: 0.1459 - val_acc: 0.9632\n",
      "Epoch 33/50\n",
      "5000/5000 [==============================] - 0s 64us/sample - loss: 0.0438 - acc: 0.9846 - val_loss: 0.1869 - val_acc: 0.9572\n"
     ]
    }
   ],
   "source": [
    "X_train_partial = X_train[:5000]\n",
    "y_train_partial = y_train[:5000]\n",
    "X_valid = X_train[5000:7500]\n",
    "y_valid = y_train[5000:7500]\n",
    "\n",
    "n_epochs = 50\n",
    "batch_size = 256\n",
    "\n",
    "model_path = './transfer_learning_with_autoencoder.h5'\n",
    "model_saver = tf.keras.callbacks.ModelCheckpoint(filepath=model_path, verbose=0, save_best_only=True)\n",
    "early_stopper = tf.keras.callbacks.EarlyStopping(monitor='val_loss', patience=15, verbose=0)\n",
    "\n",
    "history = digit_classifier.fit(X_train_partial, y_train_partial,\n",
    "                               epochs=n_epochs, batch_size=batch_size,\n",
    "                               shuffle=True, validation_data=(X_valid, y_valid),\n",
    "                               callbacks=[model_saver, early_stopper])"
   ]
  },
  {
   "cell_type": "code",
   "execution_count": 6,
   "metadata": {},
   "outputs": [
    {
     "name": "stdout",
     "output_type": "stream",
     "text": [
      "10000/10000 [==============================] - 0s 28us/sample - loss: 0.1257 - acc: 0.9690\n",
      "test loss: 0.12569, test acc: 0.96900\n"
     ]
    }
   ],
   "source": [
    "test_loss, test_acc = digit_classifier.evaluate(X_test, y_test, batch_size=256)\n",
    "print('test loss: {:1.5f}, test acc: {:1.5f}'.format(test_loss, test_acc))"
   ]
  },
  {
   "cell_type": "code",
   "execution_count": 12,
   "metadata": {},
   "outputs": [
    {
     "data": {
      "image/png": "[encoded data removed]",
      "text/plain": [
       "<Figure size 720x504 with 1 Axes>"
      ]
     },
     "metadata": {
      "needs_background": "light"
     },
     "output_type": "display_data"
    }
   ],
   "source": [
    "import matplotlib.pyplot as plt\n",
    "\n",
    "plt.figure(figsize=(10,7))\n",
    "plt.title('Learning curves')\n",
    "plt.plot(history.history['acc'], 'b', label='acc')\n",
    "plt.plot(history.history['val_acc'], 'r', label='val_acc')\n",
    "plt.legend()\n",
    "plt.grid()\n",
    "plt.show()"
   ]
  },
  {
   "cell_type": "code",
   "execution_count": null,
   "metadata": {},
   "outputs": [],
   "source": []
  }
 ],
 "metadata": {
  "kernelspec": {
   "display_name": "Python gu-keras",
   "language": "python",
   "name": "gu-keras"
  },
  "language_info": {
   "codemirror_mode": {
    "name": "ipython",
    "version": 3
   },
   "file_extension": ".py",
   "mimetype": "text/x-python",
   "name": "python",
   "nbconvert_exporter": "python",
   "pygments_lexer": "ipython3",
   "version": "3.7.3"
  }
 },
 "nbformat": 4,
 "nbformat_minor": 2
}
