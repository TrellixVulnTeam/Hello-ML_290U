{
 "cells": [
  {
   "cell_type": "code",
   "execution_count": 1,
   "metadata": {},
   "outputs": [
    {
     "data": {
      "text/plain": [
       "'\\nmodel summary\\n\\nloss function : cross-entropy\\noptimizer : tf.GradientDescentOptimizer\\n---------------------------------------------------\\noutput  : softmax, units=10,    shape=(None, 10)\\n---------------------------------------------------\\nhidden1 : relu,    units=100,   shape=(None, 300)\\n---------------------------------------------------\\nhidden2 : relu,    units=300,   shape=(None, 100)\\n---------------------------------------------------\\ninput   :          units=28*28, shape=(None, 28*28)\\n\\n'"
      ]
     },
     "execution_count": 1,
     "metadata": {},
     "output_type": "execute_result"
    }
   ],
   "source": [
    "import tensorflow as tf\n",
    "import numpy as np\n",
    "\n",
    "n_features = 28*28\n",
    "n_outputs = 10\n",
    "\n",
    "X = tf.placeholder(dtype=tf.float32, shape=(None, n_features), name='X')\n",
    "y = tf.placeholder(dtype=tf.int32, shape=(None), name='y')\n",
    "\n",
    "'''\n",
    "model summary\n",
    "\n",
    "loss function : cross-entropy\n",
    "optimizer : tf.GradientDescentOptimizer\n",
    "---------------------------------------------------\n",
    "output  : softmax, units=10,    shape=(None, 10)\n",
    "---------------------------------------------------\n",
    "hidden1 : relu,    units=100,   shape=(None, 300)\n",
    "---------------------------------------------------\n",
    "hidden2 : relu,    units=300,   shape=(None, 100)\n",
    "---------------------------------------------------\n",
    "input   :          units=28*28, shape=(None, 28*28)\n",
    "\n",
    "'''"
   ]
  },
  {
   "cell_type": "code",
   "execution_count": 2,
   "metadata": {},
   "outputs": [],
   "source": [
    "def neuron_layer(X, units, name, activation=None):\n",
    "    with tf.name_scope(name):\n",
    "        n_input_features = int(X.get_shape()[-1])\n",
    "        stddev = 2 / np.sqrt(n_input_features+units)\n",
    "        # Initialize a weight vector filled with random values\n",
    "        # from a truncated normal distribution.\n",
    "        init = tf.truncated_normal(shape=(n_input_features, units),\n",
    "                                   stddev=stddev)\n",
    "        W = tf.Variable(init, name='kernel')\n",
    "        b = tf.Variable(tf.zeros([units]), name='bias')\n",
    "        Z = X @ W + b\n",
    "        if activation is not None:\n",
    "            return activation(Z)\n",
    "        else:\n",
    "            return Z"
   ]
  },
  {
   "cell_type": "code",
   "execution_count": 3,
   "metadata": {},
   "outputs": [],
   "source": [
    "'''\n",
    "with tf.name_scope('dnn'):\n",
    "    hidden1 = neuron_layer(X, units=300, activation=tf.nn.relu,\n",
    "                           name='hidden1')\n",
    "    hidden2 = neuron_layer(hidden1, units=100, activation=tf.nn.relu,\n",
    "                           name='hidden2')\n",
    "    logits = neuron_layer(hidden2, units=n_outputs,\n",
    "                          name='outputs')\n",
    "'''\n",
    "\n",
    "with tf.name_scope('dnn'):\n",
    "    hidden1 = tf.layers.dense(X, units=300, activation=tf.nn.relu,\n",
    "                              name='hidden1')\n",
    "    hidden2 = tf.layers.dense(hidden1, units=100, activation=tf.nn.relu,\n",
    "                              name='hidden2')\n",
    "    logits = tf.layers.dense(hidden2, units=n_outputs,\n",
    "                             name='outputs')"
   ]
  },
  {
   "cell_type": "code",
   "execution_count": 4,
   "metadata": {},
   "outputs": [],
   "source": [
    "with tf.name_scope('loss'):\n",
    "    crossentropy = tf.nn.sparse_softmax_cross_entropy_with_logits(\n",
    "        labels=y, logits=logits)\n",
    "    loss = tf.reduce_mean(crossentropy, name='loss')"
   ]
  },
  {
   "cell_type": "code",
   "execution_count": 5,
   "metadata": {},
   "outputs": [],
   "source": [
    "learing_rate = 0.01\n",
    "\n",
    "with tf.name_scope('train'):\n",
    "    optimizer = tf.train.GradientDescentOptimizer(learning_rate=learing_rate)\n",
    "    training_op = optimizer.minimize(loss)"
   ]
  },
  {
   "cell_type": "code",
   "execution_count": 6,
   "metadata": {},
   "outputs": [],
   "source": [
    "with tf.name_scope('eval'):\n",
    "    correct = tf.nn.in_top_k(logits, y, 1)\n",
    "    accuracy = tf.reduce_mean(tf.cast(correct, tf.float32))"
   ]
  },
  {
   "cell_type": "code",
   "execution_count": 7,
   "metadata": {},
   "outputs": [],
   "source": [
    "init = tf.global_variables_initializer()\n",
    "saver = tf.train.Saver()"
   ]
  },
  {
   "cell_type": "code",
   "execution_count": 8,
   "metadata": {},
   "outputs": [],
   "source": [
    "from sklearn.preprocessing import StandardScaler\n",
    "\n",
    "(X_train, y_train), (X_test, y_test) = tf.keras.datasets.mnist.load_data()\n",
    "X_train = X_train.astype(np.float32).reshape(-1, n_features)/255.0\n",
    "X_test = X_test.astype(np.float32).reshape(-1, n_features)/255.0\n",
    "y_train = y_train.astype(np.int32)\n",
    "y_test = y_test.astype(np.int32)\n",
    "\n",
    "std_scaler = StandardScaler()\n",
    "X_train = std_scaler.fit_transform(X_train)\n",
    "X_test = std_scaler.transform(X_test)\n",
    "\n",
    "n_validation_samples = 5000\n",
    "X_valid, X_train = X_train[:n_validation_samples], X_train[n_validation_samples:]\n",
    "y_valid, y_train = y_train[:n_validation_samples], y_train[n_validation_samples:]"
   ]
  },
  {
   "cell_type": "code",
   "execution_count": 9,
   "metadata": {},
   "outputs": [],
   "source": [
    "def shuffle_batch(X, y, batch_size):\n",
    "    '''\n",
    "    Mini-batch generator from mnist dataset.\n",
    "    '''\n",
    "    rand_indice = np.random.permutation(len(X))\n",
    "    n_batches = len(X) // batch_size\n",
    "    for batch_indice in np.array_split(rand_indice, n_batches):\n",
    "        X_batch, y_batch = X[batch_indice], y[batch_indice]\n",
    "        yield X_batch, y_batch"
   ]
  },
  {
   "cell_type": "code",
   "execution_count": 10,
   "metadata": {},
   "outputs": [],
   "source": [
    "n_epochs = 100\n",
    "batch_size = 50\n",
    "\n",
    "history = {'val_acc':[]}\n",
    "\n",
    "with tf.Session() as sess:\n",
    "    init.run()\n",
    "    for epoch in range(n_epochs):\n",
    "        for X_batch, y_batch in shuffle_batch(X_train, y_train, batch_size):\n",
    "            sess.run(training_op, feed_dict={X: X_batch, y: y_batch})\n",
    "        acc_batch = accuracy.eval(feed_dict={X: X_batch, y: y_batch})\n",
    "        acc_val = accuracy.eval(feed_dict={X: X_valid, y: y_valid})\n",
    "        history['val_acc'].append(acc_val)\n",
    "\n",
    "    save_path = saver.save(sess, './mnist_digit_classifier.ckpt')"
   ]
  },
  {
   "cell_type": "code",
   "execution_count": 12,
   "metadata": {},
   "outputs": [
    {
     "data": {
      "image/png": "[encoded data removed]",
      "text/plain": [
       "<Figure size 504x288 with 1 Axes>"
      ]
     },
     "metadata": {
      "needs_background": "light"
     },
     "output_type": "display_data"
    }
   ],
   "source": [
    "import matplotlib.pyplot as plt\n",
    "\n",
    "epochs = np.arange(n_epochs) + 1\n",
    "val_err = history['val_acc']\n",
    "\n",
    "plt.figure(figsize=(7,4))\n",
    "plt.title('Validation accuracy')\n",
    "plt.plot(epochs, val_err, 'r', label='validation accuracy')\n",
    "plt.xlabel('epoch')\n",
    "plt.ylabel('accuracy')\n",
    "plt.legend()\n",
    "plt.grid()\n",
    "plt.show()"
   ]
  },
  {
   "cell_type": "code",
   "execution_count": 27,
   "metadata": {},
   "outputs": [
    {
     "name": "stdout",
     "output_type": "stream",
     "text": [
      "INFO:tensorflow:Restoring parameters from ./mnist_digit_classifier.ckpt\n",
      "class=0, probability=4.21852490717356e-08\n",
      "class=1, probability=1.1226129054131562e-10\n",
      "class=2, probability=1.4170384310396855e-10\n",
      "class=3, probability=0.00016342246090061963\n",
      "class=4, probability=3.6602700579681235e-13\n",
      "class=5, probability=0.9998331069946289\n",
      "class=6, probability=8.005371228136937e-07\n",
      "class=7, probability=6.215374881435309e-10\n",
      "class=8, probability=7.6230769252561e-08\n",
      "class=9, probability=2.5128338165814057e-06\n"
     ]
    },
    {
     "data": {
      "image/png": "[encoded data removed]",
      "text/plain": [
       "<Figure size 432x288 with 1 Axes>"
      ]
     },
     "metadata": {
      "needs_background": "light"
     },
     "output_type": "display_data"
    }
   ],
   "source": [
    "with tf.Session() as sess:\n",
    "    saver.restore(sess, './mnist_digit_classifier.ckpt')\n",
    "    rand_index = np.random.randint(0, len(X_test))\n",
    "    X_new_scaled = X_test[rand_index].reshape(1,-1)\n",
    "    Z = logits.eval(feed_dict={X: X_new_scaled})\n",
    "    y_pred = np.argmax(Z, axis=1)\n",
    "    probabilities = (np.exp(Z) / np.sum(np.exp(Z))).ravel()\n",
    "    for digit, p in enumerate(probabilities):\n",
    "        print('class={}, probability={}'.format(digit, p))\n",
    "    plt.title('digit={}, prediction={}'.format(y_test[rand_index], y_pred))\n",
    "    plt.imshow(X_new_scaled.reshape(28,28))\n",
    "    plt.show()"
   ]
  },
  {
   "cell_type": "code",
   "execution_count": null,
   "metadata": {},
   "outputs": [],
   "source": []
  }
 ],
 "metadata": {
  "kernelspec": {
   "display_name": "Python gu-keras",
   "language": "python",
   "name": "gu-keras"
  },
  "language_info": {
   "codemirror_mode": {
    "name": "ipython",
    "version": 3
   },
   "file_extension": ".py",
   "mimetype": "text/x-python",
   "name": "python",
   "nbconvert_exporter": "python",
   "pygments_lexer": "ipython3",
   "version": "3.6.8"
  }
 },
 "nbformat": 4,
 "nbformat_minor": 2
}
