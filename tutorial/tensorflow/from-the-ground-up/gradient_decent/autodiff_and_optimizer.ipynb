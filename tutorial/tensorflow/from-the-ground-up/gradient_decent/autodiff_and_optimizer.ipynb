{
 "cells": [
  {
   "cell_type": "code",
   "execution_count": 1,
   "metadata": {},
   "outputs": [],
   "source": [
    "import tensorflow as tf\n",
    "import numpy as np\n",
    "from sklearn.datasets import fetch_california_housing\n",
    "from sklearn.preprocessing import StandardScaler\n",
    "\n",
    "housing = fetch_california_housing()\n",
    "# (m, n) is (# of sampels, # of features)\n",
    "m, n = housing.data.shape\n",
    "\n",
    "housing_data_plus_bias = np.c_[np.ones((m,1)), housing.data]\n",
    "housing_targets = housing.target.reshape(-1,1)\n",
    "\n",
    "std_scaler = StandardScaler()\n",
    "scaled_housing_data_plus_bias = std_scaler.fit_transform(housing_data_plus_bias)"
   ]
  },
  {
   "cell_type": "code",
   "execution_count": 5,
   "metadata": {},
   "outputs": [],
   "source": [
    "X = tf.constant(scaled_housing_data_plus_bias, dtype=tf.float32, name='X')\n",
    "y = tf.constant(housing_targets, dtype=tf.float32, name='y')\n",
    "XT = tf.transpose(X)\n",
    "\n",
    "# n+1 is the number of features. (x1, ... xn + x0(bias)).\n",
    "theta = tf.Variable(tf.random_uniform(shape=[n+1, 1],\n",
    "                                      minval=-1.0,\n",
    "                                      maxval=1.0), name='theta')\n",
    "y_pred = tf.matmul(X, theta, name='predictions')\n",
    "error = y_pred - y\n",
    "mse = tf.reduce_mean(tf.square(error), name='mse')\n",
    "gradients = tf.gradients(mse, [theta])[0]\n",
    "#optimizer = tf.train.GradientDescentOptimizer(learning_rate=0.01)\n",
    "optimizer = tf.train.MomentumOptimizer(learning_rate=0.01, momentum=0.9)\n",
    "training_op = optimizer.minimize(mse)\n",
    "\n",
    "init = tf.global_variables_initializer()\n",
    "\n",
    "history = {'training_error':[]}\n",
    "\n",
    "with tf.Session() as sess:\n",
    "    sess.run(init)\n",
    "    \n",
    "    n_epochs = 1000\n",
    "    for epoch in range(n_epochs):\n",
    "        training_error = mse.eval()\n",
    "        history['training_error'].append(training_error)\n",
    "        sess.run(training_op)\n",
    "    \n",
    "    best_theta = theta.eval()"
   ]
  },
  {
   "cell_type": "code",
   "execution_count": 6,
   "metadata": {},
   "outputs": [
    {
     "data": {
      "image/png": "[encoded data removed]",
      "text/plain": [
       "<Figure size 504x288 with 1 Axes>"
      ]
     },
     "metadata": {
      "needs_background": "light"
     },
     "output_type": "display_data"
    }
   ],
   "source": [
    "import matplotlib.pyplot as plt\n",
    "\n",
    "training_errors = history['training_error']\n",
    "epochs = np.arange(n_epochs) + 1\n",
    "min_error = min(training_errors)\n",
    "\n",
    "plt.figure(figsize=(7,4))\n",
    "plt.title('Training errors')\n",
    "plt.plot(epochs, training_errors, 'b', label='Training error')\n",
    "plt.plot([0, n_epochs], [min_error, min_error], 'r:', label='Minimum error')\n",
    "plt.xlabel('epoch')\n",
    "plt.ylabel('training error')\n",
    "plt.ylim([4.7, 5.5])\n",
    "plt.legend()\n",
    "plt.grid()\n",
    "plt.show()"
   ]
  },
  {
   "cell_type": "code",
   "execution_count": null,
   "metadata": {},
   "outputs": [],
   "source": []
  }
 ],
 "metadata": {
  "kernelspec": {
   "display_name": "Python gu-keras",
   "language": "python",
   "name": "gu-keras"
  },
  "language_info": {
   "codemirror_mode": {
    "name": "ipython",
    "version": 3
   },
   "file_extension": ".py",
   "mimetype": "text/x-python",
   "name": "python",
   "nbconvert_exporter": "python",
   "pygments_lexer": "ipython3",
   "version": "3.7.3"
  }
 },
 "nbformat": 4,
 "nbformat_minor": 2
}
