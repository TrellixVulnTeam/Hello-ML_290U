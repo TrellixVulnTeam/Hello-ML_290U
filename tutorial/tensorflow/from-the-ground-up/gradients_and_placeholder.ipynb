{
 "cells": [
  {
   "cell_type": "code",
   "execution_count": 1,
   "metadata": {},
   "outputs": [
    {
     "name": "stdout",
     "output_type": "stream",
     "text": [
      "[3.0, 1.0]\n"
     ]
    }
   ],
   "source": [
    "import tensorflow as tf\n",
    "\n",
    "x = tf.constant(0.0, dtype=tf.float32)\n",
    "y = 2 * x\n",
    "\n",
    "z = tf.gradients(ys=x+y, xs=[x, y])\n",
    "\n",
    "init = tf.global_variables_initializer()\n",
    "\n",
    "with tf.Session() as sess:\n",
    "    init.run()\n",
    "    ret = [z[0].eval(), z[1].eval()]\n",
    "\n",
    "print(ret)"
   ]
  },
  {
   "cell_type": "code",
   "execution_count": 2,
   "metadata": {},
   "outputs": [
    {
     "name": "stdout",
     "output_type": "stream",
     "text": [
      "[1.0, 1.0]\n"
     ]
    }
   ],
   "source": [
    "x = tf.constant(0.0, dtype=tf.float32)\n",
    "y = 2 * x\n",
    "\n",
    "z_fixed = tf.gradients(ys=x+y, xs=[x, y], stop_gradients=[x, y])\n",
    "\n",
    "with tf.Session() as sess:\n",
    "    init.run()\n",
    "    ret_fixed = [z_fixed[0].eval(), z_fixed[1].eval()]\n",
    "\n",
    "print(ret_fixed)"
   ]
  },
  {
   "cell_type": "code",
   "execution_count": 3,
   "metadata": {},
   "outputs": [
    {
     "name": "stdout",
     "output_type": "stream",
     "text": [
      "[1.0, 1.0]\n"
     ]
    }
   ],
   "source": [
    "x = tf.stop_gradient(tf.constant(0.0, dtype=tf.float32))\n",
    "y = tf.stop_gradient(2 * x)\n",
    "\n",
    "z_fixed = tf.gradients(ys=x+y, xs=[x, y])\n",
    "\n",
    "with tf.Session() as sess:\n",
    "    init.run()\n",
    "    ret_fixed = [z_fixed[0].eval(), z_fixed[1].eval()]\n",
    "\n",
    "print(ret_fixed)"
   ]
  },
  {
   "cell_type": "code",
   "execution_count": 4,
   "metadata": {},
   "outputs": [
    {
     "name": "stdout",
     "output_type": "stream",
     "text": [
      "[[6. 7. 8.]]\n",
      "[[ 9. 10. 11.]\n",
      " [12. 13. 14.]]\n"
     ]
    }
   ],
   "source": [
    "A = tf.placeholder(dtype=tf.float32, shape=(None,3))\n",
    "B = A + 5\n",
    "\n",
    "with tf.Session() as sess:\n",
    "    B_val_1 = B.eval(feed_dict={A: [[1, 2, 3]]})\n",
    "    B_val_2 = B.eval(feed_dict={A: [[4, 5, 6],\n",
    "                                    [7, 8, 9]]})\n",
    "\n",
    "print(B_val_1)\n",
    "print(B_val_2)"
   ]
  },
  {
   "cell_type": "code",
   "execution_count": null,
   "metadata": {},
   "outputs": [],
   "source": []
  }
 ],
 "metadata": {
  "kernelspec": {
   "display_name": "Python gu-keras",
   "language": "python",
   "name": "gu-keras"
  },
  "language_info": {
   "codemirror_mode": {
    "name": "ipython",
    "version": 3
   },
   "file_extension": ".py",
   "mimetype": "text/x-python",
   "name": "python",
   "nbconvert_exporter": "python",
   "pygments_lexer": "ipython3",
   "version": "3.7.3"
  }
 },
 "nbformat": 4,
 "nbformat_minor": 2
}
