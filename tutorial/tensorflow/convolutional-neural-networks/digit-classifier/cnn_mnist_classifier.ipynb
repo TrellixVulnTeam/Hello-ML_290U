{
 "cells": [
  {
   "cell_type": "code",
   "execution_count": 1,
   "metadata": {},
   "outputs": [
    {
     "name": "stderr",
     "output_type": "stream",
     "text": [
      "WARNING: Logging before flag parsing goes to stderr.\n",
      "W0819 23:19:57.953969 140388258760512 deprecation.py:323] From <ipython-input-1-efd4b86e82c6>:18: conv2d (from tensorflow.python.layers.convolutional) is deprecated and will be removed in a future version.\n",
      "Instructions for updating:\n",
      "Use `tf.keras.layers.Conv2D` instead.\n",
      "W0819 23:19:57.956670 140388258760512 deprecation.py:506] From /home/guhwanbae/anaconda3/envs/gu-keras/lib/python3.7/site-packages/tensorflow/python/ops/init_ops.py:1251: calling VarianceScaling.__init__ (from tensorflow.python.ops.init_ops) with dtype is deprecated and will be removed in a future version.\n",
      "Instructions for updating:\n",
      "Call initializer instance with the dtype argument instead of passing it to the constructor\n",
      "W0819 23:19:58.104149 140388258760512 deprecation.py:323] From <ipython-input-1-efd4b86e82c6>:20: max_pooling2d (from tensorflow.python.layers.pooling) is deprecated and will be removed in a future version.\n",
      "Instructions for updating:\n",
      "Use keras.layers.MaxPooling2D instead.\n",
      "W0819 23:19:58.182551 140388258760512 deprecation.py:323] From <ipython-input-1-efd4b86e82c6>:22: dropout (from tensorflow.python.layers.core) is deprecated and will be removed in a future version.\n",
      "Instructions for updating:\n",
      "Use keras.layers.dropout instead.\n",
      "W0819 23:19:58.226362 140388258760512 deprecation.py:323] From <ipython-input-1-efd4b86e82c6>:25: dense (from tensorflow.python.layers.core) is deprecated and will be removed in a future version.\n",
      "Instructions for updating:\n",
      "Use keras.layers.dense instead.\n"
     ]
    }
   ],
   "source": [
    "import tensorflow as tf\n",
    "import numpy as np\n",
    "from functools import partial\n",
    "\n",
    "n_class = 10\n",
    "\n",
    "height, width, n_channels = (28, 28, 1)\n",
    "n_inputs = height * width\n",
    "\n",
    "with tf.name_scope('inputs'):\n",
    "    X = tf.placeholder(dtype=tf.float32, shape=[None, n_inputs], name='X')\n",
    "    X_reshaped = tf.reshape(X, shape=[-1, height, width, n_channels])\n",
    "    y = tf.placeholder(dtype=tf.int32, shape=[None], name='y')\n",
    "    training = tf.placeholder_with_default(False, shape=[], name='training')\n",
    "    \n",
    "with tf.name_scope('convolutional_layers'):\n",
    "    conv_layer = partial(tf.layers.conv2d, kernel_size=3, strides=1, padding='same')\n",
    "    conv1 = conv_layer(inputs=X_reshaped, filters=32)\n",
    "    conv2 = conv_layer(inputs=conv1, filters=64)\n",
    "    pool1 = tf.layers.max_pooling2d(inputs=conv2, pool_size=[2, 2], strides=[2, 2], padding='valid')\n",
    "    flat1 = tf.reshape(pool1, shape=[-1, 64 * 14 * 14])\n",
    "    drop1 = tf.layers.dropout(flat1, rate=0.25, training=training)\n",
    "\n",
    "with tf.name_scope('classifier'):\n",
    "    dense1 = tf.layers.dense(inputs=drop1, units=128, activation=tf.nn.elu, name='dense1')\n",
    "    drop2 = tf.layers.dropout(dense1, rate=0.5, training=training)\n",
    "\n",
    "with tf.name_scope('logits'):\n",
    "    logits = tf.layers.dense(inputs=drop2, units=n_class, name='output')\n",
    "    y_prob = tf.nn.softmax(logits, name='y_prob')\n",
    "    \n",
    "with tf.name_scope('train'):\n",
    "    xentropy = tf.nn.sparse_softmax_cross_entropy_with_logits(logits=logits, labels=y)\n",
    "    loss = tf.reduce_mean(xentropy)\n",
    "    optimizer = tf.train.AdamOptimizer()\n",
    "    training_op = optimizer.minimize(loss)\n",
    "\n",
    "with tf.name_scope('eval'):\n",
    "    correct = tf.nn.in_top_k(logits, y, 1)\n",
    "    accuracy = tf.reduce_mean(tf.cast(correct, tf.float32))\n",
    "\n",
    "with tf.name_scope('init-and-save'):\n",
    "    init = tf.global_variables_initializer()\n",
    "    saver = tf.train.Saver()"
   ]
  },
  {
   "cell_type": "code",
   "execution_count": 2,
   "metadata": {},
   "outputs": [],
   "source": [
    "def get_model_params():\n",
    "    gvars = tf.get_collection(tf.GraphKeys.GLOBAL_VARIABLES)\n",
    "    return {gvar.op.name: value for gvar, value in zip(gvars, tf.get_default_session().run(gvars))}\n",
    "\n",
    "def restore_model_params(model_params):\n",
    "    gvar_names = list(model_params.keys())\n",
    "    assign_ops = {gvar_name: tf.get_default_graph().get_operation_by_name(gvar_name + '/Assign')\n",
    "                     for gvar_name in gvar_names}\n",
    "    init_values = {gvar_name: assign_op.inputs[1] for gvar_name, assign_op in assign_ops.items()}\n",
    "    feed_dict = {init_values[gvar_name]: model_params[gvar_name] for gvar_name in gvar_names}\n",
    "    tf.get_default_session().run(assign_ops, feed_dict=feed_dict)"
   ]
  },
  {
   "cell_type": "code",
   "execution_count": 3,
   "metadata": {},
   "outputs": [],
   "source": [
    "from sklearn.preprocessing import StandardScaler\n",
    "from sklearn.model_selection import train_test_split\n",
    "\n",
    "def load_preprocessed_mnist(test_size=10000):\n",
    "    (X_train, y_train), (X_test, y_test) = tf.keras.datasets.mnist.load_data()\n",
    "    X = np.r_[X_train, X_test]\n",
    "    y = np.r_[y_train, y_test]\n",
    "    n_features = 28*28\n",
    "    X = X.astype(np.float32).reshape(-1,n_features)\n",
    "    y = y.astype(np.int32)\n",
    "    scaler = StandardScaler()\n",
    "    X = scaler.fit_transform(X)\n",
    "    return train_test_split(X, y, test_size=test_size)"
   ]
  },
  {
   "cell_type": "code",
   "execution_count": 4,
   "metadata": {},
   "outputs": [],
   "source": [
    "X_train, X_test, y_train, y_test = load_preprocessed_mnist()\n",
    "X_valid, y_valid = X_test[:5000], y_test[:5000]\n",
    "X_test, y_test = X_test[5000:], y_test[5000:]"
   ]
  },
  {
   "cell_type": "code",
   "execution_count": 5,
   "metadata": {},
   "outputs": [],
   "source": [
    "def shuffled_batch(X, y, batch_size):\n",
    "    n_samples, n_features = X.shape\n",
    "    n_batches = int(np.ceil(n_samples // batch_size))\n",
    "    random_idx = np.random.permutation(n_samples)\n",
    "    for idx in np.array_split(random_idx, n_batches):\n",
    "        X_batch, y_batch = X[idx], y[idx]\n",
    "        yield X_batch, y_batch"
   ]
  },
  {
   "cell_type": "code",
   "execution_count": 6,
   "metadata": {},
   "outputs": [
    {
     "name": "stdout",
     "output_type": "stream",
     "text": [
      "epoch=    0\tacc_batch=0.960000\tacc_val=0.966800\n",
      "epoch=    1\tacc_batch=0.980000\tacc_val=0.977200\n",
      "epoch=    2\tacc_batch=1.000000\tacc_val=0.972600\n",
      "epoch=    3\tacc_batch=0.980000\tacc_val=0.979600\n",
      "epoch=    4\tacc_batch=1.000000\tacc_val=0.978600\n",
      "epoch=    5\tacc_batch=1.000000\tacc_val=0.980400\n",
      "epoch=    6\tacc_batch=0.980000\tacc_val=0.983000\n",
      "epoch=    7\tacc_batch=0.960000\tacc_val=0.984000\n",
      "epoch=    8\tacc_batch=1.000000\tacc_val=0.984400\n",
      "epoch=    9\tacc_batch=1.000000\tacc_val=0.985600\n",
      "epoch=   10\tacc_batch=1.000000\tacc_val=0.984400\n",
      "epoch=   11\tacc_batch=0.980000\tacc_val=0.985600\n",
      "epoch=   12\tacc_batch=1.000000\tacc_val=0.981800\n",
      "epoch=   13\tacc_batch=1.000000\tacc_val=0.985800\n",
      "epoch=   14\tacc_batch=1.000000\tacc_val=0.985800\n",
      "epoch=   15\tacc_batch=1.000000\tacc_val=0.986000\n",
      "epoch=   16\tacc_batch=1.000000\tacc_val=0.983200\n",
      "Early stopping! Final metrics: acc_val=0.983200\n",
      "Test accuracy=0.982200\n"
     ]
    }
   ],
   "source": [
    "n_epochs = 1000\n",
    "batch_size = 50\n",
    "iteration = 0\n",
    "\n",
    "best_loss_val = np.infty\n",
    "check_interval = 500\n",
    "checks_since_last_progress = 0\n",
    "max_checks_without_progress = 20\n",
    "best_model_params = None\n",
    "\n",
    "history = {}\n",
    "\n",
    "with tf.Session() as sess:\n",
    "    init.run()\n",
    "    for epoch in range(n_epochs):\n",
    "        for X_batch, y_batch in shuffled_batch(X_train, y_train, batch_size):\n",
    "            iteration += 1\n",
    "            sess.run(training_op, feed_dict={X: X_batch, y: y_batch, training: True})\n",
    "            if iteration % check_interval == 0:\n",
    "                loss_val = loss.eval(feed_dict={X: X_valid, y: y_valid})\n",
    "                if loss_val < best_loss_val:\n",
    "                    best_loss_val = loss_val\n",
    "                    checks_since_last_progress = 0\n",
    "                    best_model_params = get_model_params()\n",
    "                else:\n",
    "                    checks_since_last_progress += 1\n",
    "        \n",
    "        acc_batch = accuracy.eval(feed_dict={X: X_batch, y: y_batch})\n",
    "        acc_val = accuracy.eval(feed_dict={X: X_valid, y: y_valid})\n",
    "        history[epoch] = (acc_batch, acc_val)\n",
    "        \n",
    "        print('epoch={:5}\\tacc_batch={:3.6f}\\tacc_val={:3.6f}'.format(epoch, acc_batch, acc_val))\n",
    "        \n",
    "        if checks_since_last_progress > max_checks_without_progress:\n",
    "            print('Early stopping! Final metrics: acc_val={:3.6f}'.format(acc_val))\n",
    "            break\n",
    "            \n",
    "    if best_model_params:\n",
    "        restore_model_params(best_model_params)\n",
    "        \n",
    "    acc_test = accuracy.eval(feed_dict={X: X_test, y: y_test})\n",
    "    \n",
    "    print('Test accuracy={:3.6f}'.format(acc_test))\n",
    "    \n",
    "    saver.save(sess, './cnn_minist_classifier_best_model')"
   ]
  },
  {
   "cell_type": "code",
   "execution_count": null,
   "metadata": {},
   "outputs": [],
   "source": []
  }
 ],
 "metadata": {
  "kernelspec": {
   "display_name": "Python gu-keras",
   "language": "python",
   "name": "gu-keras"
  },
  "language_info": {
   "codemirror_mode": {
    "name": "ipython",
    "version": 3
   },
   "file_extension": ".py",
   "mimetype": "text/x-python",
   "name": "python",
   "nbconvert_exporter": "python",
   "pygments_lexer": "ipython3",
   "version": "3.7.3"
  }
 },
 "nbformat": 4,
 "nbformat_minor": 2
}
