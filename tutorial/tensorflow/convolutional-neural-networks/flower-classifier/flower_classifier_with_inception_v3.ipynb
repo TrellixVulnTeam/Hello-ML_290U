{
 "cells": [
  {
   "cell_type": "code",
   "execution_count": 1,
   "metadata": {},
   "outputs": [
    {
     "name": "stdout",
     "output_type": "stream",
     "text": [
      "class: ['daisy', 'dandelion', 'roses', 'sunflowers', 'tulips']\n"
     ]
    }
   ],
   "source": [
    "import tensorflow as tf\n",
    "from tensorflow.contrib.slim.nets import inception\n",
    "import tensorflow.contrib.slim as slim\n",
    "import numpy as np\n",
    "from flower_model import FlowerModel\n",
    "\n",
    "flower_model = FlowerModel()\n",
    "flower_model.fetch()\n",
    "labels = flower_model.get_class_labels()\n",
    "\n",
    "print('class: {}'.format(labels))"
   ]
  },
  {
   "cell_type": "code",
   "execution_count": 2,
   "metadata": {},
   "outputs": [],
   "source": [
    "height, width, n_channels = (299, 299, 3)\n",
    "\n",
    "X = tf.placeholder(tf.float32, shape=[None, height, width, n_channels])\n",
    "training = tf.placeholder_with_default(False, shape=[])\n",
    "\n",
    "with slim.arg_scope(inception.inception_v3_arg_scope()):\n",
    "    logits, end_points = inception.inception_v3(X, num_classes=1001, is_training=training)\n",
    "\n",
    "inception_saver = tf.train.Saver()"
   ]
  },
  {
   "cell_type": "code",
   "execution_count": 3,
   "metadata": {},
   "outputs": [
    {
     "name": "stdout",
     "output_type": "stream",
     "text": [
      "--------------------------------------------------------------------------------\n",
      "Layer= Conv2d_1a_3x3\n",
      "Operation= Tensor(\"InceptionV3/InceptionV3/Conv2d_1a_3x3/Relu:0\", shape=(?, 149, 149, 32), dtype=float32)\n",
      "--------------------------------------------------------------------------------\n",
      "Layer= Conv2d_2a_3x3\n",
      "Operation= Tensor(\"InceptionV3/InceptionV3/Conv2d_2a_3x3/Relu:0\", shape=(?, 147, 147, 32), dtype=float32)\n",
      "--------------------------------------------------------------------------------\n",
      "Layer= Conv2d_2b_3x3\n",
      "Operation= Tensor(\"InceptionV3/InceptionV3/Conv2d_2b_3x3/Relu:0\", shape=(?, 147, 147, 64), dtype=float32)\n",
      "--------------------------------------------------------------------------------\n",
      "Layer= MaxPool_3a_3x3\n",
      "Operation= Tensor(\"InceptionV3/InceptionV3/MaxPool_3a_3x3/MaxPool:0\", shape=(?, 73, 73, 64), dtype=float32)\n",
      "--------------------------------------------------------------------------------\n",
      "Layer= Conv2d_3b_1x1\n",
      "Operation= Tensor(\"InceptionV3/InceptionV3/Conv2d_3b_1x1/Relu:0\", shape=(?, 73, 73, 80), dtype=float32)\n",
      "--------------------------------------------------------------------------------\n",
      "Layer= Conv2d_4a_3x3\n",
      "Operation= Tensor(\"InceptionV3/InceptionV3/Conv2d_4a_3x3/Relu:0\", shape=(?, 71, 71, 192), dtype=float32)\n",
      "--------------------------------------------------------------------------------\n",
      "Layer= MaxPool_5a_3x3\n",
      "Operation= Tensor(\"InceptionV3/InceptionV3/MaxPool_5a_3x3/MaxPool:0\", shape=(?, 35, 35, 192), dtype=float32)\n",
      "--------------------------------------------------------------------------------\n",
      "Layer= Mixed_5b\n",
      "Operation= Tensor(\"InceptionV3/InceptionV3/Mixed_5b/concat:0\", shape=(?, 35, 35, 256), dtype=float32)\n",
      "--------------------------------------------------------------------------------\n",
      "Layer= Mixed_5c\n",
      "Operation= Tensor(\"InceptionV3/InceptionV3/Mixed_5c/concat:0\", shape=(?, 35, 35, 288), dtype=float32)\n",
      "--------------------------------------------------------------------------------\n",
      "Layer= Mixed_5d\n",
      "Operation= Tensor(\"InceptionV3/InceptionV3/Mixed_5d/concat:0\", shape=(?, 35, 35, 288), dtype=float32)\n",
      "--------------------------------------------------------------------------------\n",
      "Layer= Mixed_6a\n",
      "Operation= Tensor(\"InceptionV3/InceptionV3/Mixed_6a/concat:0\", shape=(?, 17, 17, 768), dtype=float32)\n",
      "--------------------------------------------------------------------------------\n",
      "Layer= Mixed_6b\n",
      "Operation= Tensor(\"InceptionV3/InceptionV3/Mixed_6b/concat:0\", shape=(?, 17, 17, 768), dtype=float32)\n",
      "--------------------------------------------------------------------------------\n",
      "Layer= Mixed_6c\n",
      "Operation= Tensor(\"InceptionV3/InceptionV3/Mixed_6c/concat:0\", shape=(?, 17, 17, 768), dtype=float32)\n",
      "--------------------------------------------------------------------------------\n",
      "Layer= Mixed_6d\n",
      "Operation= Tensor(\"InceptionV3/InceptionV3/Mixed_6d/concat:0\", shape=(?, 17, 17, 768), dtype=float32)\n",
      "--------------------------------------------------------------------------------\n",
      "Layer= Mixed_6e\n",
      "Operation= Tensor(\"InceptionV3/InceptionV3/Mixed_6e/concat:0\", shape=(?, 17, 17, 768), dtype=float32)\n",
      "--------------------------------------------------------------------------------\n",
      "Layer= Mixed_7a\n",
      "Operation= Tensor(\"InceptionV3/InceptionV3/Mixed_7a/concat:0\", shape=(?, 8, 8, 1280), dtype=float32)\n",
      "--------------------------------------------------------------------------------\n",
      "Layer= Mixed_7b\n",
      "Operation= Tensor(\"InceptionV3/InceptionV3/Mixed_7b/concat:0\", shape=(?, 8, 8, 2048), dtype=float32)\n",
      "--------------------------------------------------------------------------------\n",
      "Layer= Mixed_7c\n",
      "Operation= Tensor(\"InceptionV3/InceptionV3/Mixed_7c/concat:0\", shape=(?, 8, 8, 2048), dtype=float32)\n",
      "--------------------------------------------------------------------------------\n",
      "Layer= AuxLogits\n",
      "Operation= Tensor(\"InceptionV3/AuxLogits/SpatialSqueeze:0\", shape=(?, 1001), dtype=float32)\n",
      "--------------------------------------------------------------------------------\n",
      "Layer= PreLogits\n",
      "Operation= Tensor(\"InceptionV3/Logits/Dropout_1b/cond/Merge:0\", shape=(?, 1, 1, 2048), dtype=float32)\n",
      "--------------------------------------------------------------------------------\n",
      "Layer= Logits\n",
      "Operation= Tensor(\"InceptionV3/Logits/SpatialSqueeze:0\", shape=(?, 1001), dtype=float32)\n",
      "--------------------------------------------------------------------------------\n",
      "Layer= Predictions\n",
      "Operation= Tensor(\"InceptionV3/Predictions/Reshape_1:0\", shape=(?, 1001), dtype=float32)\n"
     ]
    }
   ],
   "source": [
    "for layer, operation in end_points.items():\n",
    "    print('-'*80)\n",
    "    print('Layer=', layer)\n",
    "    print('Operation=', operation)"
   ]
  },
  {
   "cell_type": "code",
   "execution_count": 4,
   "metadata": {},
   "outputs": [
    {
     "name": "stdout",
     "output_type": "stream",
     "text": [
      "Tensor(\"Squeeze:0\", shape=(?, 2048), dtype=float32)\n"
     ]
    }
   ],
   "source": [
    "prelogits = tf.squeeze(end_points['PreLogits'], axis=[1,2])\n",
    "print(prelogits)"
   ]
  },
  {
   "cell_type": "code",
   "execution_count": 5,
   "metadata": {
    "scrolled": true
   },
   "outputs": [
    {
     "name": "stderr",
     "output_type": "stream",
     "text": [
      "WARNING: Logging before flag parsing goes to stderr.\n",
      "W0902 07:33:14.991181 139634323130176 deprecation.py:323] From <ipython-input-5-f53cee0fbe64>:5: dense (from tensorflow.python.layers.core) is deprecated and will be removed in a future version.\n",
      "Instructions for updating:\n",
      "Use keras.layers.dense instead.\n",
      "W0902 07:33:14.994246 139634323130176 deprecation.py:506] From /home/guhwanbae/anaconda3/envs/gu-keras/lib/python3.7/site-packages/tensorflow/python/ops/init_ops.py:1251: calling VarianceScaling.__init__ (from tensorflow.python.ops.init_ops) with dtype is deprecated and will be removed in a future version.\n",
      "Instructions for updating:\n",
      "Call initializer instance with the dtype argument instead of passing it to the constructor\n"
     ]
    }
   ],
   "source": [
    "# Concatanate DNN layers to classify flower classes.\n",
    "n_outputs = len(labels)\n",
    "\n",
    "with tf.name_scope('flower_classifier_dnn'):\n",
    "    flower_logits = tf.layers.dense(prelogits, n_outputs, name='flower_logits')\n",
    "    y_prob = tf.nn.softmax(flower_logits, name='y_prob')\n",
    "\n",
    "y = tf.placeholder(tf.int32, shape=[None])\n",
    "\n",
    "with tf.name_scope('train'):\n",
    "    # Train only new DNN layers, others are frozen.\n",
    "    xentropy = tf.nn.sparse_softmax_cross_entropy_with_logits(logits=flower_logits, labels=y)\n",
    "    loss = tf.reduce_mean(xentropy)\n",
    "    optimizer = tf.train.AdamOptimizer()\n",
    "    flower_vars = tf.get_collection(tf.GraphKeys.TRAINABLE_VARIABLES, scope='flower_logits')\n",
    "    training_op = optimizer.minimize(loss, var_list=flower_vars)\n",
    "\n",
    "with tf.name_scope('eval'):\n",
    "    correct = tf.nn.in_top_k(flower_logits, y, 1)\n",
    "    accuracy = tf.reduce_mean(tf.cast(correct, tf.float32))\n",
    "    \n",
    "with tf.name_scope('init_and_save'):\n",
    "    init = tf.global_variables_initializer()\n",
    "    saver = tf.train.Saver()"
   ]
  },
  {
   "cell_type": "code",
   "execution_count": 6,
   "metadata": {},
   "outputs": [],
   "source": [
    "test_size = 0.2\n",
    "X_train, X_test, y_train, y_test = flower_model.train_test_split(test_size)"
   ]
  },
  {
   "cell_type": "code",
   "execution_count": 7,
   "metadata": {
    "scrolled": true
   },
   "outputs": [],
   "source": [
    "from sklearn.preprocessing import MinMaxScaler\n",
    "\n",
    "scaler = MinMaxScaler((-1.0, 1.0), copy=False)\n",
    "\n",
    "original_shape = X_train.shape\n",
    "X_train = scaler.fit_transform(X_train.reshape(-1, original_shape[-1]))\n",
    "X_train = X_train.reshape(original_shape)"
   ]
  },
  {
   "cell_type": "code",
   "execution_count": 8,
   "metadata": {},
   "outputs": [],
   "source": [
    "n_epoch = 40\n",
    "\n",
    "n_samples = len(X_train)\n",
    "batch_size = 40\n",
    "aug_size = 5"
   ]
  },
  {
   "cell_type": "code",
   "execution_count": 9,
   "metadata": {},
   "outputs": [],
   "source": [
    "from inception_model_downloader import InceptionModelDownloader\n",
    "\n",
    "model_fetcher = InceptionModelDownloader()\n",
    "model_fetcher.fetch_inception_v3()"
   ]
  },
  {
   "cell_type": "code",
   "execution_count": null,
   "metadata": {
    "scrolled": false
   },
   "outputs": [
    {
     "name": "stderr",
     "output_type": "stream",
     "text": [
      "W0902 07:33:41.401391 139634323130176 deprecation.py:323] From /home/guhwanbae/anaconda3/envs/gu-keras/lib/python3.7/site-packages/tensorflow/python/training/saver.py:1276: checkpoint_exists (from tensorflow.python.training.checkpoint_management) is deprecated and will be removed in a future version.\n",
      "Instructions for updating:\n",
      "Use standard file APIs to check for files with this prefix.\n"
     ]
    },
    {
     "name": "stdout",
     "output_type": "stream",
     "text": [
      "Epoch :  0..........................................................................acc_train : 0.51794875\n",
      "Epoch :  1..........................................................................acc_train : 0.53846157\n",
      "Epoch :  2..........................................................................acc_train : 0.574359\n",
      "Epoch :  3..........................................................................acc_train : 0.73333335\n",
      "Epoch :  4..........................................................................acc_train : 0.5897436\n",
      "Epoch :  5..........................................................................acc_train : 0.71794873\n",
      "Epoch :  6..........................................................................acc_train : 0.6051282\n",
      "Epoch :  7..........................................................................acc_train : 0.5692308\n",
      "Epoch :  8..........................................................................acc_train : 0.5897436\n",
      "Epoch :  9..........................................................................acc_train : 0.74871796\n",
      "Epoch :  10..........................................................................acc_train : 0.5538462\n",
      "Epoch :  11..........................................................................acc_train : 0.6923077\n",
      "Epoch :  12..........................................................................acc_train : 0.5948718\n",
      "Epoch :  13..........................................................................acc_train : 0.7076923\n",
      "Epoch :  14..........................................................................acc_train : 0.53846157\n",
      "Epoch :  15..........................................................................acc_train : 0.61538464\n",
      "Epoch :  16..........................................................................acc_train : 0.72307694\n",
      "Epoch :  17..........................................................................acc_train : 0.6717949\n",
      "Epoch :  18..........................................................................acc_train : 0.82051283\n",
      "Epoch :  19..........................................................................acc_train : 0.64615387\n",
      "Epoch :  20............................"
     ]
    }
   ],
   "source": [
    "import image_transform\n",
    "\n",
    "with tf.Session() as sess:\n",
    "    init.run()\n",
    "    inception_saver.restore(sess, model_fetcher.checkpoint_path)\n",
    "    \n",
    "    for epoch in range(n_epoch):\n",
    "        print('Epoch : ', epoch, end='')\n",
    "        for X_batch, y_batch in flower_model.random_batch(X_train, y_train, batch_size,\n",
    "                                        augmentation_op=image_transform.random_transform,\n",
    "                                        aug_size=aug_size):\n",
    "            print('.', end='')\n",
    "            sess.run(training_op, feed_dict={X: X_batch, y: y_batch, training: True})\n",
    "        acc_train = accuracy.eval(feed_dict={X: X_batch, y: y_batch})\n",
    "        print('acc_train :', acc_train)\n",
    "            \n",
    "        save_path = saver.save(sess, './flower_classifier_with_inceptionv3')"
   ]
  },
  {
   "cell_type": "code",
   "execution_count": null,
   "metadata": {},
   "outputs": [],
   "source": [
    "original_test_shape = X_test.shape\n",
    "X_test = scaler.transform(X_test.reshape(-1, original_test_shape[-1]))\n",
    "X_test = X_test.reshape(original_test_shape)"
   ]
  },
  {
   "cell_type": "code",
   "execution_count": null,
   "metadata": {},
   "outputs": [],
   "source": [
    "n_test_batches = 10\n",
    "X_test_batches = np.array_split(X_test, n_test_batches)\n",
    "y_test_batches = np.array_split(y_test, n_test_batches)\n",
    "\n",
    "with tf.Session() as sess:\n",
    "    saver.restore(sess, './flower_classifier_with_inceptionv3')\n",
    "    acc_test = np.mean([accuracy.eval(feed_dict={X: X_test_batch, y: y_test_batch})\n",
    "                        for X_test_batch, y_test_batch in zip(X_test_batches, y_test_batches)])\n",
    "    print('acc_test : ', acc_test)"
   ]
  },
  {
   "cell_type": "code",
   "execution_count": null,
   "metadata": {},
   "outputs": [],
   "source": []
  }
 ],
 "metadata": {
  "kernelspec": {
   "display_name": "Python gu-keras",
   "language": "python",
   "name": "gu-keras"
  },
  "language_info": {
   "codemirror_mode": {
    "name": "ipython",
    "version": 3
   },
   "file_extension": ".py",
   "mimetype": "text/x-python",
   "name": "python",
   "nbconvert_exporter": "python",
   "pygments_lexer": "ipython3",
   "version": "3.7.3"
  }
 },
 "nbformat": 4,
 "nbformat_minor": 2
}
