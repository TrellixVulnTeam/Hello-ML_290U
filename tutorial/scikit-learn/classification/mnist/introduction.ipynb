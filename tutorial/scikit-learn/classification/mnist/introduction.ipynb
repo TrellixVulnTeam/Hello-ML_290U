{
 "cells": [
  {
   "cell_type": "code",
   "execution_count": 2,
   "metadata": {},
   "outputs": [
    {
     "name": "stdout",
     "output_type": "stream",
     "text": [
      "The number of train samples: 60000\n",
      "The number of test samples: 10000\n"
     ]
    }
   ],
   "source": [
    "import mnist_dataset\n",
    "\n",
    "train_data, train_labels, test_data, test_labels = mnist_dataset.load_data()\n",
    "\n",
    "n_train_samples = len(train_data)\n",
    "n_test_samples = len(test_data)\n",
    "print('The number of train samples:', n_train_samples)\n",
    "print('The number of test samples:', n_test_samples)"
   ]
  },
  {
   "cell_type": "code",
   "execution_count": 3,
   "metadata": {},
   "outputs": [
    {
     "data": {
      "text/plain": [
       "<Figure size 432x288 with 0 Axes>"
      ]
     },
     "metadata": {},
     "output_type": "display_data"
    },
    {
     "data": {
      "image/png": "[encoded data removed]",
      "text/plain": [
       "<Figure size 432x288 with 1 Axes>"
      ]
     },
     "metadata": {
      "needs_background": "light"
     },
     "output_type": "display_data"
    }
   ],
   "source": [
    "import numpy as np\n",
    "import matplotlib.pyplot as plt\n",
    "\n",
    "random_idx = np.random.randint(low=0, high=n_train_samples)\n",
    "\n",
    "height, width = (28, 28)\n",
    "random_sample = train_data[random_idx].reshape((height, width))\n",
    "\n",
    "title = 'Digit: %s, Index: %d' % (train_labels[random_idx], random_idx)\n",
    "plt.gray()\n",
    "plt.figure(title)\n",
    "plt.title(title)\n",
    "plt.imshow(random_sample)\n",
    "plt.show()"
   ]
  },
  {
   "cell_type": "code",
   "execution_count": null,
   "metadata": {},
   "outputs": [],
   "source": []
  }
 ],
 "metadata": {
  "kernelspec": {
   "display_name": "Python gu-keras",
   "language": "python",
   "name": "gu-keras"
  }
 },
 "nbformat": 4,
 "nbformat_minor": 2
}
