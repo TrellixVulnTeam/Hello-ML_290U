{
 "cells": [
  {
   "cell_type": "code",
   "execution_count": 1,
   "metadata": {},
   "outputs": [],
   "source": [
    "import california_housing_data\n",
    "\n",
    "housing = california_housing_data.load_data()\n",
    "train_set, test_set = california_housing_data.split_train_test(housing, test_ratio=0.2)"
   ]
  },
  {
   "cell_type": "code",
   "execution_count": 2,
   "metadata": {
    "scrolled": false
   },
   "outputs": [],
   "source": [
    "train_data, train_labels = california_housing_data.split_sample_and_label(train_set)\n",
    "train_data = california_housing_data.preprocess(train_data)\n",
    "\n",
    "test_data, test_labels = california_housing_data.split_sample_and_label(test_set)\n",
    "test_data = california_housing_data.preprocess(test_data)"
   ]
  },
  {
   "cell_type": "code",
   "execution_count": 3,
   "metadata": {},
   "outputs": [
    {
     "data": {
      "text/plain": [
       "LinearRegression(copy_X=True, fit_intercept=True, n_jobs=None,\n",
       "         normalize=False)"
      ]
     },
     "execution_count": 3,
     "metadata": {},
     "output_type": "execute_result"
    }
   ],
   "source": [
    "from sklearn.linear_model import LinearRegression\n",
    "\n",
    "# Step 1: Prediction with the linear regression model.\n",
    "\n",
    "lin_reg = LinearRegression()\n",
    "lin_reg.fit(train_data, train_labels)"
   ]
  },
  {
   "cell_type": "code",
   "execution_count": 4,
   "metadata": {},
   "outputs": [
    {
     "name": "stdout",
     "output_type": "stream",
     "text": [
      "Housing prediction with linear regression:\n",
      " [210644.60459286 317768.80697211 210956.43331178  59218.98886849\n",
      " 189747.55849879]\n",
      "Targets: [286600. 340600. 196900.  46300. 254500.]\n",
      "Error: [0.36058553 0.07184844 0.06663193 0.21815619 0.34125573]\n"
     ]
    }
   ],
   "source": [
    "import numpy as np\n",
    "\n",
    "some_data = train_data[:5]\n",
    "some_labels = train_labels[:5]\n",
    "\n",
    "housing_predictions = lin_reg.predict(some_data)\n",
    "targets = np.array(some_labels)\n",
    "diff = targets-housing_predictions\n",
    "# Absolute error\n",
    "error = np.abs(diff/housing_predictions)\n",
    "\n",
    "print('Housing prediction with linear regression:\\n', housing_predictions)\n",
    "print('Targets:', targets)\n",
    "print('Error:', error)"
   ]
  },
  {
   "cell_type": "code",
   "execution_count": 5,
   "metadata": {},
   "outputs": [
    {
     "name": "stdout",
     "output_type": "stream",
     "text": [
      "Linera regression model, RMSE: 68628.19819848922\n"
     ]
    }
   ],
   "source": [
    "from sklearn.metrics import mean_squared_error\n",
    "\n",
    "# Measure a RMSE, Root Mean Square Error.\n",
    "\n",
    "housing_predictions = lin_reg.predict(train_data)\n",
    "lin_mse = mean_squared_error(y_true=train_labels,\n",
    "                             y_pred=housing_predictions)\n",
    "lin_rmse = np.sqrt(lin_mse)\n",
    "\n",
    "# Error is too big! Use more powerful model to predict housing price.\n",
    "print('Linera regression model, RMSE:', lin_rmse)"
   ]
  },
  {
   "cell_type": "code",
   "execution_count": 6,
   "metadata": {},
   "outputs": [
    {
     "data": {
      "text/plain": [
       "DecisionTreeRegressor(criterion='mse', max_depth=None, max_features=None,\n",
       "           max_leaf_nodes=None, min_impurity_decrease=0.0,\n",
       "           min_impurity_split=None, min_samples_leaf=1,\n",
       "           min_samples_split=2, min_weight_fraction_leaf=0.0,\n",
       "           presort=False, random_state=None, splitter='best')"
      ]
     },
     "execution_count": 6,
     "metadata": {},
     "output_type": "execute_result"
    }
   ],
   "source": [
    "from sklearn.tree import DecisionTreeRegressor\n",
    "\n",
    "# Step 2: Decision tree regression\n",
    "\n",
    "tree_reg = DecisionTreeRegressor()\n",
    "tree_reg.fit(train_data, train_labels)"
   ]
  },
  {
   "cell_type": "code",
   "execution_count": 7,
   "metadata": {},
   "outputs": [
    {
     "name": "stdout",
     "output_type": "stream",
     "text": [
      "Decision tree regression model, RMSE: 0.0\n",
      "Decision tree regression model, test set, RMSE: 111945.7978216257\n"
     ]
    }
   ],
   "source": [
    "housing_predictions = tree_reg.predict(train_data)\n",
    "tree_mse = mean_squared_error(y_true=train_labels,\n",
    "                              y_pred=housing_predictions)\n",
    "tree_rmse = np.sqrt(tree_mse)\n",
    "\n",
    "# Model is overfitting! Regression curve extremly is fitted to the train data.\n",
    "print('Decision tree regression model, RMSE:', tree_rmse)\n",
    "\n",
    "test_predictions = tree_reg.predict(test_data)\n",
    "test_mse = mean_squared_error(y_true=test_labels,\n",
    "                              y_pred=test_predictions)\n",
    "test_rmse = np.sqrt(test_mse)\n",
    "\n",
    "# Regression curve does not match to the test samples.\n",
    "print('Decision tree regression model, test set, RMSE:', test_rmse)"
   ]
  },
  {
   "cell_type": "code",
   "execution_count": 8,
   "metadata": {},
   "outputs": [
    {
     "name": "stdout",
     "output_type": "stream",
     "text": [
      "Scores: [70143.55050121 66301.28547665 70989.69822149 69170.67696083\n",
      " 72792.05913736 73890.29137486 71147.32287011 70821.3281629\n",
      " 75569.79007473 70265.70659548]\n",
      "Mean: 71109.17093756306\n",
      "Standard deviation: 2430.6341941137107\n"
     ]
    }
   ],
   "source": [
    "from sklearn.model_selection import cross_val_score\n",
    "\n",
    "# Step 3: Estimate a decision tree regressor with K-fold cross validation\n",
    "\n",
    "# Cross validation module of sklearn use a utility function, not cost or loss function.\n",
    "scores = cross_val_score(estimator=tree_reg,\n",
    "                         X=train_data,\n",
    "                         y=train_labels,\n",
    "                         scoring='neg_mean_squared_error',\n",
    "                         cv=10) # cv is the iteration of cross-validation.\n",
    "tree_rmse_scores = np.sqrt(np.abs(scores))\n",
    "\n",
    "print('Scores:', tree_rmse_scores)\n",
    "print('Mean:', tree_rmse_scores.mean())\n",
    "print('Standard deviation:', tree_rmse_scores.std())"
   ]
  },
  {
   "cell_type": "code",
   "execution_count": 9,
   "metadata": {},
   "outputs": [
    {
     "name": "stdout",
     "output_type": "stream",
     "text": [
      "Scores: [66782.73843989 66960.118071   70347.95244419 74739.57052552\n",
      " 68031.13388938 71193.84183426 64969.63056405 68281.61137997\n",
      " 71552.91566558 67665.10082067]\n",
      "Mean: 69052.46136345083\n",
      "Standard deviation: 2731.674001798348\n"
     ]
    }
   ],
   "source": [
    "# Step 4: Estimate a linear regressor with K-fold cross validation\n",
    "\n",
    "scores = cross_val_score(estimator=lin_reg,\n",
    "                         X=train_data,\n",
    "                         y=train_labels,\n",
    "                         scoring='neg_mean_squared_error',\n",
    "                         cv=10) # cv is the iteration of cross-validation.\n",
    "lin_rmse_scores = np.sqrt(np.abs(scores))\n",
    "\n",
    "print('Scores:', lin_rmse_scores)\n",
    "print('Mean:', lin_rmse_scores.mean())\n",
    "print('Standard deviation:', lin_rmse_scores.std())"
   ]
  },
  {
   "cell_type": "code",
   "execution_count": 11,
   "metadata": {},
   "outputs": [
    {
     "name": "stdout",
     "output_type": "stream",
     "text": [
      "Scores: [51873.2105203  49773.9333049  53404.89104529 55083.20130695\n",
      " 51198.93074718 56006.30095138 51353.87616934 50304.13060578\n",
      " 54813.68849675 53110.34576746]\n",
      "Mean: 52692.25089153416\n",
      "Standard deviation: 2019.7649276830316\n"
     ]
    }
   ],
   "source": [
    "from sklearn.ensemble import RandomForestRegressor\n",
    "\n",
    "# Step 5: Random forest regressor\n",
    "\n",
    "forest_reg = RandomForestRegressor(n_estimators=10)\n",
    "forest_reg.fit(train_data, train_labels)\n",
    "\n",
    "scores = cross_val_score(estimator=forest_reg,\n",
    "                         X=train_data,\n",
    "                         y=train_labels,\n",
    "                         scoring='neg_mean_squared_error',\n",
    "                         cv=10) # cv is the iteration of cross-validation.\n",
    "forest_rmse_scores = np.sqrt(np.abs(scores))\n",
    "\n",
    "print('Scores:', forest_rmse_scores)\n",
    "print('Mean:', forest_rmse_scores.mean())\n",
    "print('Standard deviation:', forest_rmse_scores.std())"
   ]
  },
  {
   "cell_type": "code",
   "execution_count": 13,
   "metadata": {},
   "outputs": [
    {
     "data": {
      "text/plain": [
       "['random_forest_regressor.pkl']"
      ]
     },
     "execution_count": 13,
     "metadata": {},
     "output_type": "execute_result"
    }
   ],
   "source": [
    "from sklearn.externals import joblib\n",
    "\n",
    "# Save the sklearn models.\n",
    "\n",
    "joblib.dump(lin_reg, 'linear_regressor.pkl')\n",
    "joblib.dump(tree_reg, 'decision_tree_regressor.pkl')\n",
    "joblib.dump(forest_reg, 'random_forest_regressor.pkl')"
   ]
  },
  {
   "cell_type": "code",
   "execution_count": null,
   "metadata": {},
   "outputs": [],
   "source": []
  }
 ],
 "metadata": {
  "kernelspec": {
   "display_name": "Python gu-keras",
   "language": "python",
   "name": "gu-keras"
  },
  "language_info": {
   "codemirror_mode": {
    "name": "ipython",
    "version": 3
   },
   "file_extension": ".py",
   "mimetype": "text/x-python",
   "name": "python",
   "nbconvert_exporter": "python",
   "pygments_lexer": "ipython3",
   "version": "3.6.8"
  }
 },
 "nbformat": 4,
 "nbformat_minor": 2
}
