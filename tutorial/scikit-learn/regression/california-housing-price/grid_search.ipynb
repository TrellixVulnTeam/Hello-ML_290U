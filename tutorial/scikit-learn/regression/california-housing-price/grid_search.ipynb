{
 "cells": [
  {
   "cell_type": "code",
   "execution_count": 1,
   "metadata": {},
   "outputs": [],
   "source": [
    "import california_housing_data\n",
    "\n",
    "housing = california_housing_data.load_data()\n",
    "train_set, test_set = california_housing_data.split_train_test(housing, test_ratio=0.2)\n",
    "\n",
    "train_data, train_labels = california_housing_data.split_sample_and_label(train_set)\n",
    "train_data = california_housing_data.preprocess(train_data)\n",
    "\n",
    "test_data, test_labels = california_housing_data.split_sample_and_label(test_set)\n",
    "test_data = california_housing_data.preprocess(test_data)"
   ]
  },
  {
   "cell_type": "code",
   "execution_count": 2,
   "metadata": {
    "scrolled": false
   },
   "outputs": [
    {
     "data": {
      "text/plain": [
       "GridSearchCV(cv=5, error_score='raise-deprecating',\n",
       "       estimator=RandomForestRegressor(bootstrap=True, criterion='mse', max_depth=None,\n",
       "           max_features='auto', max_leaf_nodes=None,\n",
       "           min_impurity_decrease=0.0, min_impurity_split=None,\n",
       "           min_samples_leaf=1, min_samples_split=2,\n",
       "           min_weight_fraction_leaf=0.0, n_estimators=10, n_jobs=None,\n",
       "           oob_score=False, random_state=None, verbose=0, warm_start=False),\n",
       "       fit_params=None, iid='warn', n_jobs=None,\n",
       "       param_grid=[{'n_estimators': [3, 10, 30], 'max_features': [2, 4, 6, 8]}, {'bootstrap': [False], 'n_estimators': [3, 10], 'max_features': [2, 3, 4]}],\n",
       "       pre_dispatch='2*n_jobs', refit=True, return_train_score=True,\n",
       "       scoring='neg_mean_squared_error', verbose=0)"
      ]
     },
     "execution_count": 2,
     "metadata": {},
     "output_type": "execute_result"
    }
   ],
   "source": [
    "from sklearn.ensemble import RandomForestRegressor\n",
    "from sklearn.model_selection import GridSearchCV\n",
    "\n",
    "forest_reg = RandomForestRegressor(n_estimators=10)\n",
    "\n",
    "param_grid = [\n",
    "    {'n_estimators': [3, 10, 30],\n",
    "     'max_features': [2, 4, 6, 8]},\n",
    "    {'bootstrap': [False],\n",
    "     'n_estimators': [3, 10],\n",
    "     'max_features': [2, 3, 4]},\n",
    "]\n",
    "\n",
    "# Grid search cross-validation\n",
    "grid_search = GridSearchCV(estimator=forest_reg,\n",
    "                           param_grid=param_grid,\n",
    "                           cv=5,\n",
    "                           scoring='neg_mean_squared_error',\n",
    "                           return_train_score=True)\n",
    "\n",
    "grid_search.fit(train_data, train_labels)"
   ]
  },
  {
   "cell_type": "code",
   "execution_count": 3,
   "metadata": {},
   "outputs": [
    {
     "data": {
      "text/plain": [
       "{'max_features': 8, 'n_estimators': 30}"
      ]
     },
     "execution_count": 3,
     "metadata": {},
     "output_type": "execute_result"
    }
   ],
   "source": [
    "grid_search.best_params_"
   ]
  },
  {
   "cell_type": "code",
   "execution_count": 4,
   "metadata": {},
   "outputs": [
    {
     "data": {
      "text/plain": [
       "RandomForestRegressor(bootstrap=True, criterion='mse', max_depth=None,\n",
       "           max_features=8, max_leaf_nodes=None, min_impurity_decrease=0.0,\n",
       "           min_impurity_split=None, min_samples_leaf=1,\n",
       "           min_samples_split=2, min_weight_fraction_leaf=0.0,\n",
       "           n_estimators=30, n_jobs=None, oob_score=False,\n",
       "           random_state=None, verbose=0, warm_start=False)"
      ]
     },
     "execution_count": 4,
     "metadata": {},
     "output_type": "execute_result"
    }
   ],
   "source": [
    "grid_search.best_estimator_"
   ]
  },
  {
   "cell_type": "code",
   "execution_count": 7,
   "metadata": {
    "scrolled": false
   },
   "outputs": [
    {
     "name": "stdout",
     "output_type": "stream",
     "text": [
      "64870.11906549322 {'max_features': 2, 'n_estimators': 3}\n",
      "55424.51098847784 {'max_features': 2, 'n_estimators': 10}\n",
      "52719.382279896425 {'max_features': 2, 'n_estimators': 30}\n",
      "61141.819360847956 {'max_features': 4, 'n_estimators': 3}\n",
      "52681.23972949057 {'max_features': 4, 'n_estimators': 10}\n",
      "50424.78686184351 {'max_features': 4, 'n_estimators': 30}\n",
      "58332.48024548647 {'max_features': 6, 'n_estimators': 3}\n",
      "52016.56736323846 {'max_features': 6, 'n_estimators': 10}\n",
      "50012.03214788614 {'max_features': 6, 'n_estimators': 30}\n",
      "58919.65538540382 {'max_features': 8, 'n_estimators': 3}\n",
      "52122.13143477026 {'max_features': 8, 'n_estimators': 10}\n",
      "49939.61461966787 {'max_features': 8, 'n_estimators': 30}\n",
      "61554.437834594406 {'bootstrap': False, 'max_features': 2, 'n_estimators': 3}\n",
      "55250.8674319347 {'bootstrap': False, 'max_features': 2, 'n_estimators': 10}\n",
      "60284.202536107354 {'bootstrap': False, 'max_features': 3, 'n_estimators': 3}\n",
      "52928.86655233073 {'bootstrap': False, 'max_features': 3, 'n_estimators': 10}\n",
      "59222.41271279351 {'bootstrap': False, 'max_features': 4, 'n_estimators': 3}\n",
      "51942.511544508205 {'bootstrap': False, 'max_features': 4, 'n_estimators': 10}\n"
     ]
    }
   ],
   "source": [
    "import numpy as np\n",
    "\n",
    "cross_validation_result = grid_search.cv_results_\n",
    "for mean_score, params in zip(cross_validation_result['mean_test_score'],\n",
    "                              cross_validation_result['params']):\n",
    "    print(np.sqrt(np.abs(mean_score)), params)"
   ]
  },
  {
   "cell_type": "code",
   "execution_count": null,
   "metadata": {},
   "outputs": [],
   "source": []
  }
 ],
 "metadata": {
  "kernelspec": {
   "display_name": "Python gu-keras",
   "language": "python",
   "name": "gu-keras"
  },
  "language_info": {
   "codemirror_mode": {
    "name": "ipython",
    "version": 3
   },
   "file_extension": ".py",
   "mimetype": "text/x-python",
   "name": "python",
   "nbconvert_exporter": "python",
   "pygments_lexer": "ipython3",
   "version": "3.6.8"
  }
 },
 "nbformat": 4,
 "nbformat_minor": 2
}
