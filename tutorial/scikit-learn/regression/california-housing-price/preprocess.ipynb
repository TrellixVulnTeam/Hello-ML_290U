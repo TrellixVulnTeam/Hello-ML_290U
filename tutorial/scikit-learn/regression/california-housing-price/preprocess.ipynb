{
 "cells": [
  {
   "cell_type": "code",
   "execution_count": 1,
   "metadata": {},
   "outputs": [
    {
     "data": {
      "text/plain": [
       "SimpleImputer(copy=True, fill_value=None, missing_values=nan,\n",
       "       strategy='median', verbose=0)"
      ]
     },
     "execution_count": 1,
     "metadata": {},
     "output_type": "execute_result"
    }
   ],
   "source": [
    "import california_housing_data\n",
    "import pandas as pd\n",
    "from sklearn.impute import SimpleImputer\n",
    "\n",
    "housing = california_housing_data.load_data()\n",
    "strat_train_set, strat_test_set = california_housing_data.split_train_test(housing, test_ratio=0.2)\n",
    "\n",
    "train_data = strat_train_set.drop('median_house_value', axis=1)\n",
    "train_labels = strat_train_set['median_house_value'].copy()\n",
    "\n",
    "# Fill the missing entries with median values.\n",
    "imputer = SimpleImputer(strategy='median')\n",
    "\n",
    "# Choose only numeric features.\n",
    "train_numeric_features = train_data.drop('ocean_proximity', axis=1)\n",
    "imputer.fit(train_numeric_features)"
   ]
  },
  {
   "cell_type": "code",
   "execution_count": 3,
   "metadata": {},
   "outputs": [
    {
     "name": "stdout",
     "output_type": "stream",
     "text": [
      "[-118.51     34.26     29.     2119.5     433.     1164.      408.\n",
      "    3.5409]\n",
      "[-118.51     34.26     29.     2119.5     433.     1164.      408.\n",
      "    3.5409]\n"
     ]
    }
   ],
   "source": [
    "print(imputer.statistics_)\n",
    "print(train_numeric_features.median().values)"
   ]
  },
  {
   "cell_type": "code",
   "execution_count": 8,
   "metadata": {},
   "outputs": [
    {
     "name": "stdout",
     "output_type": "stream",
     "text": [
      "Filled with median =\n",
      " [[-121.89     37.29     38.     ...  710.      339.        2.7042]\n",
      " [-121.93     37.05     14.     ...  306.      113.        6.4214]\n",
      " [-117.2      32.77     31.     ...  936.      462.        2.8621]\n",
      " ...\n",
      " [-116.4      34.09      9.     ... 2098.      765.        3.2723]\n",
      " [-118.01     33.82     31.     ... 1356.      356.        4.0625]\n",
      " [-122.45     37.77     52.     ... 1269.      639.        3.575 ]]\n"
     ]
    }
   ],
   "source": [
    "# Imputer instance makes samples filled with median values calculated in train set.\n",
    "X = imputer.transform(train_numeric_features)\n",
    "print('Filled with median =\\n', X)"
   ]
  },
  {
   "cell_type": "code",
   "execution_count": 9,
   "metadata": {},
   "outputs": [],
   "source": [
    "# Convert numpy array to pandas data frame.\n",
    "housing_tr = pd.DataFrame(X,\n",
    "                          columns=train_numeric_features.columns,\n",
    "                          index = list(train_data.index.values))"
   ]
  },
  {
   "cell_type": "code",
   "execution_count": 34,
   "metadata": {},
   "outputs": [
    {
     "name": "stdout",
     "output_type": "stream",
     "text": [
      "Index(['<1H OCEAN', 'NEAR OCEAN', 'INLAND', 'NEAR BAY', 'ISLAND'], dtype='object')\n"
     ]
    }
   ],
   "source": [
    "housing_cat = strat_train_set['ocean_proximity']\n",
    "\n",
    "housing_cat_encoded, housing_categories = housing_cat.factorize()\n",
    "\n",
    "# NEAR BAY:0, <1H OCEAN:1, INLAND:2, NEAR OCEAN:3, ISLAND:4\n",
    "print(housing_categories)"
   ]
  },
  {
   "cell_type": "code",
   "execution_count": 35,
   "metadata": {},
   "outputs": [
    {
     "data": {
      "text/plain": [
       "<16512x5 sparse matrix of type '<class 'numpy.float64'>'\n",
       "\twith 16512 stored elements in Compressed Sparse Row format>"
      ]
     },
     "execution_count": 35,
     "metadata": {},
     "output_type": "execute_result"
    }
   ],
   "source": [
    "from sklearn.preprocessing import OneHotEncoder\n",
    "\n",
    "# One-hot-encoding: Convert numeric categorical valule to the one-hot vector.\n",
    "encoder = OneHotEncoder(categories='auto')\n",
    "housing_cat_one_hot = encoder.fit_transform(housing_cat_encoded.reshape(-1,1))\n",
    "\n",
    "housing_cat_one_hot"
   ]
  },
  {
   "cell_type": "code",
   "execution_count": 53,
   "metadata": {},
   "outputs": [
    {
     "data": {
      "text/plain": [
       "array([[1., 0., 0., 0., 0.],\n",
       "       [1., 0., 0., 0., 0.],\n",
       "       [0., 0., 0., 0., 1.],\n",
       "       ...,\n",
       "       [0., 1., 0., 0., 0.],\n",
       "       [1., 0., 0., 0., 0.],\n",
       "       [0., 0., 0., 1., 0.]])"
      ]
     },
     "execution_count": 53,
     "metadata": {},
     "output_type": "execute_result"
    }
   ],
   "source": [
    "attr = ['ocean_proximity']\n",
    "encoder.fit_transform(strat_train_set[attr].values).toarray()"
   ]
  },
  {
   "cell_type": "code",
   "execution_count": null,
   "metadata": {},
   "outputs": [],
   "source": []
  }
 ],
 "metadata": {
  "kernelspec": {
   "display_name": "Python gu-keras",
   "language": "python",
   "name": "gu-keras"
  },
  "language_info": {
   "codemirror_mode": {
    "name": "ipython",
    "version": 3
   },
   "file_extension": ".py",
   "mimetype": "text/x-python",
   "name": "python",
   "nbconvert_exporter": "python",
   "pygments_lexer": "ipython3",
   "version": "3.6.8"
  }
 },
 "nbformat": 4,
 "nbformat_minor": 2
}
