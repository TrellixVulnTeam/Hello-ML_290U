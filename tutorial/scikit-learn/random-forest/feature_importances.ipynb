{
 "cells": [
  {
   "cell_type": "code",
   "execution_count": 1,
   "metadata": {},
   "outputs": [],
   "source": [
    "from sklearn.datasets import load_iris\n",
    "\n",
    "iris = load_iris()\n",
    "X, y = iris['data'], iris['target']"
   ]
  },
  {
   "cell_type": "code",
   "execution_count": 2,
   "metadata": {},
   "outputs": [
    {
     "name": "stdout",
     "output_type": "stream",
     "text": [
      "sepal length (cm)\t: 0.088187\n",
      "sepal width (cm)\t: 0.021016\n",
      "petal length (cm)\t: 0.426251\n",
      "petal width (cm)\t: 0.464546\n"
     ]
    }
   ],
   "source": [
    "from sklearn.ensemble import RandomForestClassifier\n",
    "\n",
    "iris_clf = RandomForestClassifier(n_estimators=500, n_jobs=-1)\n",
    "iris_clf.fit(X, y)\n",
    "\n",
    "for feature_label, score in zip(iris['feature_names'], iris_clf.feature_importances_):\n",
    "    print('%s\\t: %f' % (feature_label, score))"
   ]
  },
  {
   "cell_type": "code",
   "execution_count": 3,
   "metadata": {},
   "outputs": [],
   "source": [
    "from sklearn.datasets import fetch_openml\n",
    "\n",
    "mnist = fetch_openml(name='mnist_784', version=1)\n",
    "X, y = mnist['data'], mnist['target']"
   ]
  },
  {
   "cell_type": "code",
   "execution_count": 4,
   "metadata": {},
   "outputs": [
    {
     "data": {
      "text/plain": [
       "<matplotlib.image.AxesImage at 0x7fb82c95b588>"
      ]
     },
     "execution_count": 4,
     "metadata": {},
     "output_type": "execute_result"
    }
   ],
   "source": [
    "import matplotlib.pyplot as plt\n",
    "\n",
    "digit_clf = RandomForestClassifier(n_estimators=10, n_jobs=-1)\n",
    "digit_clf.fit(X, y)"
   ]
  },
  {
   "cell_type": "code",
   "execution_count": 11,
   "metadata": {},
   "outputs": [
    {
     "data": {
      "image/png": "[encoded data removed]",
      "text/plain": [
       "<Figure size 432x288 with 2 Axes>"
      ]
     },
     "metadata": {
      "needs_background": "light"
     },
     "output_type": "display_data"
    }
   ],
   "source": [
    "def plot_activation_map(classifier, image_shape=(28,28)):\n",
    "    activation_map = classifier.feature_importances_\n",
    "    activation_map = activation_map.reshape(image_shape)\n",
    "    plt.title('Activation map')\n",
    "    plt.imshow(activation_map, cmap=plt.cm.inferno, interpolation='nearest')\n",
    "    color_bar = plt.colorbar(ticks=[activation_map.min(), activation_map.max()])\n",
    "    color_bar.ax.set_yticklabels(['Not important', 'Very important'])\n",
    "    plt.show()\n",
    "\n",
    "plot_activation_map(digit_clf)"
   ]
  },
  {
   "cell_type": "code",
   "execution_count": null,
   "metadata": {},
   "outputs": [],
   "source": []
  }
 ],
 "metadata": {
  "kernelspec": {
   "display_name": "Python gu-keras",
   "language": "python",
   "name": "gu-keras"
  },
  "language_info": {
   "codemirror_mode": {
    "name": "ipython",
    "version": 3
   },
   "file_extension": ".py",
   "mimetype": "text/x-python",
   "name": "python",
   "nbconvert_exporter": "python",
   "pygments_lexer": "ipython3",
   "version": "3.6.8"
  }
 },
 "nbformat": 4,
 "nbformat_minor": 2
}
