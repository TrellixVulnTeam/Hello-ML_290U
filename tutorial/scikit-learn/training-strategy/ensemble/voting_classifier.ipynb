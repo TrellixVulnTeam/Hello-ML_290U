{
 "cells": [
  {
   "cell_type": "code",
   "execution_count": 1,
   "metadata": {},
   "outputs": [],
   "source": [
    "from sklearn.datasets import make_moons\n",
    "from sklearn.model_selection import train_test_split\n",
    "\n",
    "X, y = make_moons(n_samples=1000, noise=0.3)\n",
    "\n",
    "X, X_test, y, y_test = train_test_split(X, y, test_size=0.2)#, shuffle=True)"
   ]
  },
  {
   "cell_type": "code",
   "execution_count": 2,
   "metadata": {},
   "outputs": [
    {
     "data": {
      "text/plain": [
       "VotingClassifier(estimators=[('svm-classifier', SVC(C=1.0, cache_size=200, class_weight=None, coef0=0.0,\n",
       "  decision_function_shape='ovr', degree=3, gamma='auto', kernel='rbf',\n",
       "  max_iter=-1, probability=False, random_state=None, shrinking=True,\n",
       "  tol=0.001, verbose=False)), ('logistic-classifier', LogisticRegression...obs=None,\n",
       "            oob_score=False, random_state=None, verbose=0,\n",
       "            warm_start=False))],\n",
       "         flatten_transform=None, n_jobs=None, voting='hard', weights=None)"
      ]
     },
     "execution_count": 2,
     "metadata": {},
     "output_type": "execute_result"
    }
   ],
   "source": [
    "from sklearn.svm import SVC\n",
    "from sklearn.linear_model import LogisticRegression\n",
    "from sklearn.ensemble import RandomForestClassifier, VotingClassifier\n",
    "\n",
    "log_clf = LogisticRegression(solver='liblinear')\n",
    "rnd_clf = RandomForestClassifier(n_estimators=10)\n",
    "svm_clf = SVC(gamma='auto')\n",
    "\n",
    "hard_voting_clf = VotingClassifier(\n",
    "    estimators=[\n",
    "        ('svm-classifier', svm_clf),\n",
    "        ('logistic-classifier', log_clf),\n",
    "        ('random-forest-classifier', rnd_clf)\n",
    "    ],\n",
    "    voting='hard'\n",
    ")\n",
    "\n",
    "hard_voting_clf.fit(X, y)"
   ]
  },
  {
   "cell_type": "code",
   "execution_count": 3,
   "metadata": {},
   "outputs": [
    {
     "name": "stdout",
     "output_type": "stream",
     "text": [
      "SVC 0.915\n",
      "LogisticRegression 0.875\n",
      "RandomForestClassifier 0.895\n",
      "VotingClassifier 0.915\n"
     ]
    }
   ],
   "source": [
    "from sklearn.metrics import accuracy_score\n",
    "\n",
    "for clf in (svm_clf, log_clf, rnd_clf, hard_voting_clf):\n",
    "    clf.fit(X, y)\n",
    "    y_pred = clf.predict(X_test)\n",
    "    print(clf.__class__.__name__, accuracy_score(y_test, y_pred))"
   ]
  },
  {
   "cell_type": "code",
   "execution_count": 4,
   "metadata": {},
   "outputs": [
    {
     "name": "stdout",
     "output_type": "stream",
     "text": [
      "SVC 0.915\n",
      "LogisticRegression 0.875\n",
      "RandomForestClassifier 0.9\n",
      "VotingClassifier 0.92\n"
     ]
    }
   ],
   "source": [
    "log_clf = LogisticRegression(solver='liblinear')\n",
    "rnd_clf = RandomForestClassifier(n_estimators=10)\n",
    "svm_clf = SVC(gamma='auto', probability=True)\n",
    "\n",
    "soft_voting_clf = VotingClassifier(\n",
    "    estimators=[\n",
    "        ('svm-classifier', svm_clf),\n",
    "        ('logistic-classifier', log_clf),\n",
    "        ('random-forest-classifier', rnd_clf)\n",
    "    ],\n",
    "    voting='soft'\n",
    ")\n",
    "\n",
    "soft_voting_clf.fit(X, y)\n",
    "\n",
    "for clf in (svm_clf, log_clf, rnd_clf, soft_voting_clf):\n",
    "    clf.fit(X, y)\n",
    "    y_pred = clf.predict(X_test)\n",
    "    print(clf.__class__.__name__, accuracy_score(y_test, y_pred))"
   ]
  },
  {
   "cell_type": "code",
   "execution_count": null,
   "metadata": {},
   "outputs": [],
   "source": []
  }
 ],
 "metadata": {
  "kernelspec": {
   "display_name": "Python gu-keras",
   "language": "python",
   "name": "gu-keras"
  },
  "language_info": {
   "codemirror_mode": {
    "name": "ipython",
    "version": 3
   },
   "file_extension": ".py",
   "mimetype": "text/x-python",
   "name": "python",
   "nbconvert_exporter": "python",
   "pygments_lexer": "ipython3",
   "version": "3.6.8"
  }
 },
 "nbformat": 4,
 "nbformat_minor": 2
}
